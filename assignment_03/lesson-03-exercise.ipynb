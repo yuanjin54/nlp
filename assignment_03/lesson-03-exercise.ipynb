{
 "cells": [
  {
   "cell_type": "markdown",
   "metadata": {},
   "source": [
    "# Dynamic programming"
   ]
  },
  {
   "cell_type": "code",
   "execution_count": 1,
   "metadata": {},
   "outputs": [],
   "source": [
    "from collections import defaultdict,Counter"
   ]
  },
  {
   "cell_type": "markdown",
   "metadata": {},
   "source": [
    "## 面向函数编程：函数名可以作为参数传递"
   ]
  },
  {
   "cell_type": "code",
   "execution_count": 2,
   "metadata": {},
   "outputs": [],
   "source": [
    "def add_ten(n): return n + 10\n",
    "def mul_ten(n): return 10 * n\n",
    "def excute_fun(f, args): return f(args)"
   ]
  },
  {
   "cell_type": "code",
   "execution_count": 3,
   "metadata": {},
   "outputs": [
    {
     "name": "stdout",
     "output_type": "stream",
     "text": [
      "110\n",
      "1000\n"
     ]
    }
   ],
   "source": [
    "args = 100\n",
    "function_names = [add_ten, mul_ten]\n",
    "for fun in function_names:\n",
    "    print(excute_fun(fun, args))"
   ]
  },
  {
   "cell_type": "markdown",
   "metadata": {},
   "source": [
    "## 查看函数被调用次数"
   ]
  },
  {
   "cell_type": "code",
   "execution_count": 4,
   "metadata": {},
   "outputs": [],
   "source": [
    "'''斐波拉契数列'''\n",
    "called_time = defaultdict(int)\n",
    "def fib(n):\n",
    "    f_name = fib.__name__\n",
    "    called_time[f_name+'('+str(n)+')'] += 1\n",
    "    if n < 2: return n\n",
    "    return fib(n - 1) + fib(n - 2)"
   ]
  },
  {
   "cell_type": "code",
   "execution_count": 5,
   "metadata": {},
   "outputs": [
    {
     "data": {
      "text/plain": [
       "55"
      ]
     },
     "execution_count": 5,
     "metadata": {},
     "output_type": "execute_result"
    }
   ],
   "source": [
    "fib(10)"
   ]
  },
  {
   "cell_type": "code",
   "execution_count": 6,
   "metadata": {},
   "outputs": [
    {
     "data": {
      "text/plain": [
       "[('fib(1)', 55),\n",
       " ('fib(2)', 34),\n",
       " ('fib(0)', 34),\n",
       " ('fib(3)', 21),\n",
       " ('fib(4)', 13),\n",
       " ('fib(5)', 8),\n",
       " ('fib(6)', 5),\n",
       " ('fib(7)', 3),\n",
       " ('fib(8)', 2),\n",
       " ('fib(10)', 1),\n",
       " ('fib(9)', 1)]"
      ]
     },
     "execution_count": 6,
     "metadata": {},
     "output_type": "execute_result"
    }
   ],
   "source": [
    "Counter(called_time).most_common()"
   ]
  },
  {
   "cell_type": "markdown",
   "metadata": {},
   "source": [
    "## 装饰器"
   ]
  },
  {
   "cell_type": "code",
   "execution_count": 7,
   "metadata": {},
   "outputs": [],
   "source": [
    "called_times = defaultdict(int)\n",
    "def get_called_times(f):\n",
    "    '''@param f is a function'''\n",
    "    def warp(n):\n",
    "        print('I can count')\n",
    "        result = f(n)\n",
    "        called_times[f.__name__+'('+str(n)+')'] += 1\n",
    "        return result\n",
    "    # return a inner function\n",
    "    return warp\n",
    "\n",
    "def add_twenty(n): return n + 20"
   ]
  },
  {
   "cell_type": "code",
   "execution_count": 8,
   "metadata": {},
   "outputs": [],
   "source": [
    "add_twenty =get_called_times(add_twenty)"
   ]
  },
  {
   "cell_type": "code",
   "execution_count": 9,
   "metadata": {},
   "outputs": [
    {
     "name": "stdout",
     "output_type": "stream",
     "text": [
      "I can count\n"
     ]
    },
    {
     "data": {
      "text/plain": [
       "50"
      ]
     },
     "execution_count": 9,
     "metadata": {},
     "output_type": "execute_result"
    }
   ],
   "source": [
    "add_twenty(30)"
   ]
  },
  {
   "cell_type": "code",
   "execution_count": 10,
   "metadata": {},
   "outputs": [
    {
     "data": {
      "text/plain": [
       "defaultdict(int, {'add_twenty(30)': 1})"
      ]
     },
     "execution_count": 10,
     "metadata": {},
     "output_type": "execute_result"
    }
   ],
   "source": [
    "called_times"
   ]
  },
  {
   "cell_type": "markdown",
   "metadata": {},
   "source": [
    "## 通过注解实现装饰器\n",
    "\n",
    "    通过在函数上添加注解@实现，相当于在函数外包装了一层其他我们需要的功能"
   ]
  },
  {
   "cell_type": "code",
   "execution_count": 11,
   "metadata": {},
   "outputs": [],
   "source": [
    "from functools import wraps"
   ]
  },
  {
   "cell_type": "code",
   "execution_count": 12,
   "metadata": {},
   "outputs": [],
   "source": [
    "called_times = defaultdict(int)\n",
    "def get_called_times(f):\n",
    "    '''@param f is a function'''\n",
    "    @wraps(f)\n",
    "    def wrap(n):\n",
    "        '''This is wrap'''\n",
    "        result = f(n)\n",
    "        called_times[f.__name__+'('+str(n)+')'] += 1\n",
    "        return result\n",
    "    # return a inner function\n",
    "    return wrap\n",
    "\n",
    "@get_called_times\n",
    "def add_twenty(n): return n + 20"
   ]
  },
  {
   "cell_type": "code",
   "execution_count": 13,
   "metadata": {},
   "outputs": [
    {
     "data": {
      "text/plain": [
       "60"
      ]
     },
     "execution_count": 13,
     "metadata": {},
     "output_type": "execute_result"
    }
   ],
   "source": [
    "add_twenty(40)"
   ]
  },
  {
   "cell_type": "code",
   "execution_count": 14,
   "metadata": {},
   "outputs": [
    {
     "data": {
      "text/plain": [
       "defaultdict(int, {'add_twenty(40)': 1})"
      ]
     },
     "execution_count": 14,
     "metadata": {},
     "output_type": "execute_result"
    }
   ],
   "source": [
    "called_times"
   ]
  },
  {
   "cell_type": "code",
   "execution_count": 15,
   "metadata": {},
   "outputs": [],
   "source": [
    "@get_called_times\n",
    "def fibolacci(n):\n",
    "    '''return next two item is added'''\n",
    "    if n < 2: return n\n",
    "    return fibolacci(n - 1) + fibolacci(n - 2)"
   ]
  },
  {
   "cell_type": "code",
   "execution_count": 16,
   "metadata": {},
   "outputs": [],
   "source": [
    "called_times.clear()"
   ]
  },
  {
   "cell_type": "code",
   "execution_count": 17,
   "metadata": {},
   "outputs": [
    {
     "data": {
      "text/plain": [
       "55"
      ]
     },
     "execution_count": 17,
     "metadata": {},
     "output_type": "execute_result"
    }
   ],
   "source": [
    "fibolacci(10)"
   ]
  },
  {
   "cell_type": "code",
   "execution_count": 18,
   "metadata": {},
   "outputs": [
    {
     "data": {
      "text/plain": [
       "defaultdict(int,\n",
       "            {'fibolacci(1)': 55,\n",
       "             'fibolacci(0)': 34,\n",
       "             'fibolacci(2)': 34,\n",
       "             'fibolacci(3)': 21,\n",
       "             'fibolacci(4)': 13,\n",
       "             'fibolacci(5)': 8,\n",
       "             'fibolacci(6)': 5,\n",
       "             'fibolacci(7)': 3,\n",
       "             'fibolacci(8)': 2,\n",
       "             'fibolacci(9)': 1,\n",
       "             'fibolacci(10)': 1})"
      ]
     },
     "execution_count": 18,
     "metadata": {},
     "output_type": "execute_result"
    }
   ],
   "source": [
    "called_times"
   ]
  },
  {
   "cell_type": "code",
   "execution_count": 19,
   "metadata": {},
   "outputs": [
    {
     "name": "stdout",
     "output_type": "stream",
     "text": [
      "Help on function get_called_times in module __main__:\n",
      "\n",
      "get_called_times(f)\n",
      "    @param f is a function\n",
      "\n"
     ]
    }
   ],
   "source": [
    "help(get_called_times)"
   ]
  },
  {
   "cell_type": "code",
   "execution_count": 20,
   "metadata": {},
   "outputs": [
    {
     "name": "stdout",
     "output_type": "stream",
     "text": [
      "Help on function fibolacci in module __main__:\n",
      "\n",
      "fibolacci(n)\n",
      "    return next two item is added\n",
      "\n"
     ]
    }
   ],
   "source": [
    "'''未加装饰器@get_called_times'''\n",
    "help(fibolacci)"
   ]
  },
  {
   "cell_type": "code",
   "execution_count": 21,
   "metadata": {},
   "outputs": [
    {
     "name": "stdout",
     "output_type": "stream",
     "text": [
      "Help on function fibolacci in module __main__:\n",
      "\n",
      "fibolacci(n)\n",
      "    return next two item is added\n",
      "\n"
     ]
    }
   ],
   "source": [
    "'''添加装饰器后，失去了原来fibolacci函数的一些说明，这样不好。解决办法: 添加@wraps'''\n",
    "help(fibolacci)"
   ]
  },
  {
   "cell_type": "code",
   "execution_count": 22,
   "metadata": {},
   "outputs": [
    {
     "name": "stdout",
     "output_type": "stream",
     "text": [
      "Help on function fibolacci in module __main__:\n",
      "\n",
      "fibolacci(n)\n",
      "    return next two item is added\n",
      "\n"
     ]
    }
   ],
   "source": [
    "'''在get_called_times内部函数wrap上添加@wraps后，这样就显示了原来函数fibolacci的参数说明信息'''\n",
    "help(fibolacci)"
   ]
  },
  {
   "cell_type": "markdown",
   "metadata": {},
   "source": [
    "## 添加缓存装饰器"
   ]
  },
  {
   "cell_type": "code",
   "execution_count": 23,
   "metadata": {},
   "outputs": [],
   "source": [
    "computed = defaultdict(int)\n",
    "def memo(f):\n",
    "    '''@param f is a function'''\n",
    "    @wraps(f)\n",
    "    def wrap(n):\n",
    "        if n in computed: return computed[n]\n",
    "        result = f(n)\n",
    "        computed[n] = result\n",
    "        return result\n",
    "    return wrap"
   ]
  },
  {
   "cell_type": "code",
   "execution_count": 24,
   "metadata": {},
   "outputs": [],
   "source": [
    "@memo\n",
    "@get_called_times\n",
    "def fibolacci_list(n):\n",
    "    '''return next two item is added'''\n",
    "    if n < 2: return n\n",
    "    return fibolacci_list(n - 1) + fibolacci_list(n - 2)"
   ]
  },
  {
   "cell_type": "code",
   "execution_count": 25,
   "metadata": {},
   "outputs": [],
   "source": [
    "# 清理一下缓存\n",
    "called_times.clear()\n",
    "computed.clear()"
   ]
  },
  {
   "cell_type": "code",
   "execution_count": 26,
   "metadata": {},
   "outputs": [
    {
     "data": {
      "text/plain": [
       "6765"
      ]
     },
     "execution_count": 26,
     "metadata": {},
     "output_type": "execute_result"
    }
   ],
   "source": [
    "called_times.clear()\n",
    "fibolacci_list(20)"
   ]
  },
  {
   "cell_type": "code",
   "execution_count": 27,
   "metadata": {},
   "outputs": [
    {
     "data": {
      "text/plain": [
       "defaultdict(int,\n",
       "            {'fibolacci_list(1)': 1,\n",
       "             'fibolacci_list(0)': 1,\n",
       "             'fibolacci_list(2)': 1,\n",
       "             'fibolacci_list(3)': 1,\n",
       "             'fibolacci_list(4)': 1,\n",
       "             'fibolacci_list(5)': 1,\n",
       "             'fibolacci_list(6)': 1,\n",
       "             'fibolacci_list(7)': 1,\n",
       "             'fibolacci_list(8)': 1,\n",
       "             'fibolacci_list(9)': 1,\n",
       "             'fibolacci_list(10)': 1,\n",
       "             'fibolacci_list(11)': 1,\n",
       "             'fibolacci_list(12)': 1,\n",
       "             'fibolacci_list(13)': 1,\n",
       "             'fibolacci_list(14)': 1,\n",
       "             'fibolacci_list(15)': 1,\n",
       "             'fibolacci_list(16)': 1,\n",
       "             'fibolacci_list(17)': 1,\n",
       "             'fibolacci_list(18)': 1,\n",
       "             'fibolacci_list(19)': 1,\n",
       "             'fibolacci_list(20)': 1})"
      ]
     },
     "execution_count": 27,
     "metadata": {},
     "output_type": "execute_result"
    }
   ],
   "source": [
    "called_times"
   ]
  },
  {
   "cell_type": "code",
   "execution_count": 28,
   "metadata": {},
   "outputs": [
    {
     "data": {
      "text/plain": [
       "defaultdict(int,\n",
       "            {1: 1,\n",
       "             0: 0,\n",
       "             2: 1,\n",
       "             3: 2,\n",
       "             4: 3,\n",
       "             5: 5,\n",
       "             6: 8,\n",
       "             7: 13,\n",
       "             8: 21,\n",
       "             9: 34,\n",
       "             10: 55,\n",
       "             11: 89,\n",
       "             12: 144,\n",
       "             13: 233,\n",
       "             14: 377,\n",
       "             15: 610,\n",
       "             16: 987,\n",
       "             17: 1597,\n",
       "             18: 2584,\n",
       "             19: 4181,\n",
       "             20: 6765})"
      ]
     },
     "execution_count": 28,
     "metadata": {},
     "output_type": "execute_result"
    }
   ],
   "source": [
    "computed"
   ]
  },
  {
   "cell_type": "markdown",
   "metadata": {},
   "source": [
    "## 总结\n",
    "\n",
    "    1、面向函数编程，可以将函数作为另一个函数的入参或返回值\n",
    "    2、装饰器相当于在原函数的基础上实现了其他额外的功能，方法就是定义一个函数，将原函数作为参数传入，通过内部函数调用该参数并返回，外层函数返回内部函数，最后在原函数上添加‘@刚刚定义的外层函数’，完成装饰\n",
    "    3、防止添加装饰器后原函数的一些参数信息通过help(f)无法显示，通过在内部函数添加@wraps(f)解决"
   ]
  },
  {
   "cell_type": "markdown",
   "metadata": {},
   "source": [
    "## 计算钢筋的最大价值及其划分方式\n",
    "\n",
    "    描述：sell_price表示不同长度的钢筋销售价格，求当给定钢筋的长度时，如何使得钢筋的销售额最大？最大是多少？"
   ]
  },
  {
   "cell_type": "code",
   "execution_count": 29,
   "metadata": {},
   "outputs": [],
   "source": [
    "'''从1米到10米的出售价格'''\n",
    "original_price = [1, 5, 8, 9, 10, 17, 17, 20, 24, 26] "
   ]
  },
  {
   "cell_type": "code",
   "execution_count": 30,
   "metadata": {},
   "outputs": [],
   "source": [
    "sell_price = defaultdict(int)\n",
    "for i, v in enumerate(original_price): sell_price[i + 1] = v"
   ]
  },
  {
   "cell_type": "code",
   "execution_count": 31,
   "metadata": {},
   "outputs": [
    {
     "data": {
      "text/plain": [
       "24"
      ]
     },
     "execution_count": 31,
     "metadata": {},
     "output_type": "execute_result"
    }
   ],
   "source": [
    "sell_price[9]"
   ]
  },
  {
   "cell_type": "markdown",
   "metadata": {},
   "source": [
    "#### 求最大价值"
   ]
  },
  {
   "cell_type": "code",
   "execution_count": 32,
   "metadata": {},
   "outputs": [],
   "source": [
    "size = len(sell_price)\n",
    "@memo\n",
    "@get_called_times\n",
    "def price(n):\n",
    "    return max([sell_price[n]]+[price(n-i) + price(i) for i in range(1, n)])"
   ]
  },
  {
   "cell_type": "code",
   "execution_count": 33,
   "metadata": {},
   "outputs": [],
   "source": [
    "called_times.clear()\n",
    "computed.clear()"
   ]
  },
  {
   "cell_type": "code",
   "execution_count": 34,
   "metadata": {},
   "outputs": [
    {
     "data": {
      "text/plain": [
       "42"
      ]
     },
     "execution_count": 34,
     "metadata": {},
     "output_type": "execute_result"
    }
   ],
   "source": [
    "price(15)"
   ]
  },
  {
   "cell_type": "code",
   "execution_count": 35,
   "metadata": {},
   "outputs": [
    {
     "data": {
      "text/plain": [
       "[('price(1)', 1),\n",
       " ('price(2)', 1),\n",
       " ('price(3)', 1),\n",
       " ('price(4)', 1),\n",
       " ('price(5)', 1),\n",
       " ('price(6)', 1),\n",
       " ('price(7)', 1),\n",
       " ('price(8)', 1),\n",
       " ('price(9)', 1),\n",
       " ('price(10)', 1),\n",
       " ('price(11)', 1),\n",
       " ('price(12)', 1),\n",
       " ('price(13)', 1),\n",
       " ('price(14)', 1),\n",
       " ('price(15)', 1)]"
      ]
     },
     "execution_count": 35,
     "metadata": {},
     "output_type": "execute_result"
    }
   ],
   "source": [
    "Counter(called_times).most_common()"
   ]
  },
  {
   "cell_type": "markdown",
   "metadata": {},
   "source": [
    "#### 最大价值的拆分方式"
   ]
  },
  {
   "cell_type": "code",
   "execution_count": 36,
   "metadata": {},
   "outputs": [],
   "source": [
    "split_means = {}"
   ]
  },
  {
   "cell_type": "code",
   "execution_count": 37,
   "metadata": {},
   "outputs": [],
   "source": [
    "called_times.clear()\n",
    "computed.clear()"
   ]
  },
  {
   "cell_type": "code",
   "execution_count": 38,
   "metadata": {},
   "outputs": [],
   "source": [
    "@memo\n",
    "@get_called_times\n",
    "def _price(n):\n",
    "    max_price, max_split = \\\n",
    "    max([(sell_price[n], n)] + [(_price(n-i) + _price(i), i) for i in range(1, n)])\n",
    "    split_means[n] = (n-max_split, max_split)\n",
    "    return max_price"
   ]
  },
  {
   "cell_type": "code",
   "execution_count": 39,
   "metadata": {},
   "outputs": [
    {
     "data": {
      "text/plain": [
       "42"
      ]
     },
     "execution_count": 39,
     "metadata": {},
     "output_type": "execute_result"
    }
   ],
   "source": [
    "_price(15)"
   ]
  },
  {
   "cell_type": "code",
   "execution_count": 40,
   "metadata": {},
   "outputs": [
    {
     "data": {
      "text/plain": [
       "{1: (0, 1),\n",
       " 2: (0, 2),\n",
       " 3: (0, 3),\n",
       " 4: (2, 2),\n",
       " 5: (2, 3),\n",
       " 6: (0, 6),\n",
       " 7: (1, 6),\n",
       " 8: (2, 6),\n",
       " 9: (3, 6),\n",
       " 10: (2, 8),\n",
       " 11: (2, 9),\n",
       " 12: (6, 6),\n",
       " 13: (1, 12),\n",
       " 14: (2, 12),\n",
       " 15: (3, 12)}"
      ]
     },
     "execution_count": 40,
     "metadata": {},
     "output_type": "execute_result"
    }
   ],
   "source": [
    "split_means"
   ]
  },
  {
   "cell_type": "code",
   "execution_count": 43,
   "metadata": {},
   "outputs": [],
   "source": [
    "def get_best_split_means(n):\n",
    "    left_split, right_split = split_means[n]\n",
    "    if left_split == 0: return [right_split]\n",
    "    return get_best_split_means(left_split) + get_best_split_means(right_split)"
   ]
  },
  {
   "cell_type": "code",
   "execution_count": 44,
   "metadata": {},
   "outputs": [
    {
     "data": {
      "text/plain": [
       "[3, 6, 6]"
      ]
     },
     "execution_count": 44,
     "metadata": {},
     "output_type": "execute_result"
    }
   ],
   "source": [
    "get_best_split_means(15)"
   ]
  },
  {
   "cell_type": "code",
   "execution_count": 45,
   "metadata": {},
   "outputs": [
    {
     "name": "stdout",
     "output_type": "stream",
     "text": [
      "When the length is 345 m, the price is 977. \n",
      "The best split means is [3, 6, 6, 6, 6, 6, 6, 6, 6, 6, 6, 6, 6, 6, 6, 6, 6, 6, 6, 6, 6, 6, 6, 6, 6, 6, 6, 6, 6, 6, 6, 6, 6, 6, 6, 6, 6, 6, 6, 6, 6, 6, 6, 6, 6, 6, 6, 6, 6, 6, 6, 6, 6, 6, 6, 6, 6, 6]\n"
     ]
    }
   ],
   "source": [
    "called_times.clear()\n",
    "computed.clear()\n",
    "split_means.clear()\n",
    "n = 345\n",
    "price_val = _price(n)\n",
    "best_means = get_best_split_means(n)\n",
    "print('When the length is {} m, the price is {}. \\nThe best split means is {}' \\\n",
    "      .format(n,price_val,best_means))"
   ]
  },
  {
   "cell_type": "markdown",
   "metadata": {},
   "source": [
    "+ 1. Overlapping Subproblems\n",
    "+ 2. Overlapping computing saved in a table\n",
    "+ 3. Parse solution"
   ]
  },
  {
   "cell_type": "code",
   "execution_count": null,
   "metadata": {},
   "outputs": [],
   "source": []
  }
 ],
 "metadata": {
  "kernelspec": {
   "display_name": "Python 3",
   "language": "python",
   "name": "python3"
  },
  "language_info": {
   "codemirror_mode": {
    "name": "ipython",
    "version": 3
   },
   "file_extension": ".py",
   "mimetype": "text/x-python",
   "name": "python",
   "nbconvert_exporter": "python",
   "pygments_lexer": "ipython3",
   "version": "3.6.5"
  }
 },
 "nbformat": 4,
 "nbformat_minor": 2
}
