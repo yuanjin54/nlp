{
 "cells": [
  {
   "cell_type": "markdown",
   "metadata": {},
   "source": [
    "# Gradient Descent and Dymanic Programming"
   ]
  },
  {
   "cell_type": "markdown",
   "metadata": {},
   "source": [
    "## Gradient Descent\n",
    "\n",
    "$ loss= {1\\over n} \\sum_{i=1}^n |y_i - \\hat{y_i}| $ $$$$\n",
    "$\n",
    "\\frac{\\partial}{\\partial k}loss(k,b)=\n",
    "\\begin{cases}\n",
    "{1\\over n} \\sum_{i=1}^n x_i, & y_i < \\hat{y_i} \\\\\n",
    "{1\\over n} \\sum_{i=1}^n -x_i, & y_i >= \\hat{y_i}\n",
    "\\end{cases}\n",
    "$ $$$$\n",
    "$\\frac{\\partial}{\\partial b}loss(k,b)=\n",
    "\\begin{cases}\n",
    "1, & y_i < \\hat{y_i} \\\\\n",
    "-1, & y_i >= \\hat{y_i}\n",
    "\\end{cases}\n",
    "$\n",
    "#### Iteration process:\n",
    "$k:=k-\\alpha\\frac{\\partial}{\\partial k}loss(k,b) $ $$$$\n",
    "$b:=b-\\alpha\\frac{\\partial}{\\partial b}loss(k,b) $"
   ]
  },
  {
   "cell_type": "code",
   "execution_count": 1,
   "metadata": {},
   "outputs": [],
   "source": [
    "# Loss函数\n",
    "def loss(y, y_hat):\n",
    "    return sum(abs(y_i - y_hat_i) for y_i, y_hat_i in zip(list(y), list(y_hat))) / len(list(y))\n",
    "\n",
    "# 求导数\n",
    "def gradient_loss(x, y, k, b):\n",
    "    x_list = list(x)\n",
    "    y_list = list(y)\n",
    "    k_sum = 0\n",
    "    b_sum = 0\n",
    "    size = len(x_list)\n",
    "    for i in range(size):\n",
    "        if y_list[i] < k * x_list[i] + b:\n",
    "            k_sum += x_list[i]\n",
    "            b_sum += 1\n",
    "        else:\n",
    "            k_sum -= x_list[i]\n",
    "            b_sum -= 1\n",
    "    partial_k = k_sum / size\n",
    "    partial_b = b_sum / size\n",
    "    return partial_k, partial_b \n",
    "\n",
    "# 梯度下降\n",
    "def gradient_descent(x, y, k, b, LR):\n",
    "    partial_k, partial_b = gradient_loss(x, y, k, b)\n",
    "    return k - LR * partial_k, b - LR * partial_b"
   ]
  },
  {
   "cell_type": "code",
   "execution_count": 2,
   "metadata": {},
   "outputs": [],
   "source": [
    "from sklearn.datasets import load_boston\n",
    "import matplotlib.pyplot as plt"
   ]
  },
  {
   "cell_type": "code",
   "execution_count": 3,
   "metadata": {},
   "outputs": [],
   "source": [
    "X = load_boston()['data'][:, 5]\n",
    "y = load_boston()['target']"
   ]
  },
  {
   "cell_type": "code",
   "execution_count": 4,
   "metadata": {},
   "outputs": [
    {
     "name": "stdout",
     "output_type": "stream",
     "text": [
      "nums:1000, k:4.464970933992123, b:4.912694071146363, loss:11.53\n",
      "nums:2000, k:3.9807237889328757, b:4.832491304347964, loss:9.12\n",
      "nums:3000, k:3.583795682213552, b:4.764862450593078, loss:7.49\n",
      "nums:4000, k:3.267655111067364, b:4.709293675889524, loss:6.46\n",
      "nums:5000, k:3.038153461265021, b:4.667509486166214, loss:5.90\n",
      "nums:6000, k:2.9031779782610867, b:4.640905533597048, loss:5.71\n",
      "nums:7000, k:2.832518088142543, b:4.6246272727275, loss:5.65\n",
      "nums:8000, k:2.7988563332018543, b:4.614337944663943, loss:5.64\n",
      "nums:9000, k:2.780343307114808, b:4.606546245059632, loss:5.64\n",
      "nums:10000, k:2.7682301616602247, b:4.5998328063248275, loss:5.63\n",
      "nums:11000, k:2.765541648616775, b:4.594634387352785, loss:5.63\n",
      "nums:12000, k:2.7658295932808876, b:4.589891304349096, loss:5.63\n",
      "nums:13000, k:2.766117537945, b:4.585148221345407, loss:5.63\n",
      "nums:14000, k:2.7664054826091125, b:4.580405138341718, loss:5.63\n",
      "nums:15000, k:2.766693427273225, b:4.57566205533803, loss:5.63\n",
      "nums:16000, k:2.7669813719373373, b:4.570918972334341, loss:5.63\n",
      "nums:17000, k:2.7672693166014497, b:4.566175889330652, loss:5.63\n",
      "nums:18000, k:2.767557261265562, b:4.561432806326963, loss:5.63\n",
      "nums:19000, k:2.7678452059296745, b:4.556689723323275, loss:5.63\n"
     ]
    },
    {
     "data": {
      "image/png": "[encoded data removed]",
      "text/plain": [
       "<Figure size 432x288 with 1 Axes>"
      ]
     },
     "metadata": {
      "needs_background": "light"
     },
     "output_type": "display_data"
    }
   ],
   "source": [
    "# learning rate\n",
    "LR = 0.0001\n",
    "# init k，b\n",
    "k = b = 5\n",
    "best_k = best_b = float('inf')\n",
    "min_loss = float('inf')\n",
    "# iterate count\n",
    "nums = 1\n",
    "while nums < 20000:\n",
    "    k, b = gradient_descent(X, y, k, b, LR)\n",
    "    y_sd = k * X + b\n",
    "    loss_val = loss(y_sd, y)\n",
    "    if nums % 1000 == 0:\n",
    "        print('nums:{}, k:{}, b:{}, loss:{:.2f}'.format(nums, k, b, loss_val))\n",
    "    if loss_val < min_loss:\n",
    "        min_loss = loss_val\n",
    "        best_k, best_b = k, b\n",
    "    nums += 1\n",
    "y_pre = best_k * X + best_b\n",
    "plt.plot(X, y_pre)\n",
    "plt.scatter(X, y)\n",
    "plt.xlabel('x')\n",
    "plt.ylabel('y')\n",
    "plt.show()"
   ]
  },
  {
   "cell_type": "markdown",
   "metadata": {},
   "source": [
    "## Edit-Distance\n",
    "    \n",
    "    假设字符串S和T的长度分别为m和n, 两者的编辑距离表示为edit[m][n]\n",
    "    1、当S和T的末尾字符相等时，编辑距离应等于前一状态的值，即：edit[m][n] = edit[m-1][n-1]\n",
    "    2、当S和T的末尾字符不相等时：\n",
    "      a.删除S的末尾字符后，二者相等，edit[m][n] = edit[m-1][n] + 1\n",
    "      b.删除T的末尾字符后，二者相等，edit[m][n] = edit[m][n-1] + 1\n",
    "      c.在S的末尾添加T的末尾字符后，S的长度为m+1，此时S与T的最优一个字符确定相等了，相当于现在只需确定S[m]与T[n-1]即可，edit[m][n] = edit[m][n-1] + 1\n",
    "      d.在T的末尾添加S的末尾字符后，同上，edit[m][n] = edit[m-1][n] + 1\n",
    "      e.把S的末尾字符修改成与T末尾字符相等，edit[m][n] = edit[m-1][n-1] + 1\n",
    "      e.当S为空时，edit[0][n]=n\n",
    "      f.当T为空时，edit[m][0]=m\n",
    "      \n",
    "      动态规划方程：\n",
    "$\n",
    "edit[i][j]=\n",
    "\\begin{cases}\n",
    "0, & i=j=0 \\\\\n",
    "i, & 0<i<m,j=0\\\\\n",
    "j, & i=0,0<j<n\\\\\n",
    "min(edit[m-1][n] + 1,edit[m][n-1] + 1,edit[m-1][n-1]+flag), & 0<i<m,0<j<n\n",
    "\\end{cases}\n",
    "$\n",
    "$\n",
    "flag=\n",
    "\\begin{cases}\n",
    "0, & S[i]==T[j] \\\\\n",
    "1, & S[i]!=T[j]\n",
    "\\end{cases}\n",
    "$"
   ]
  },
  {
   "cell_type": "code",
   "execution_count": 5,
   "metadata": {},
   "outputs": [],
   "source": [
    "from collections import defaultdict\n",
    "from functools import wraps"
   ]
  },
  {
   "cell_type": "code",
   "execution_count": 6,
   "metadata": {},
   "outputs": [],
   "source": [
    "called_times = defaultdict(int)\n",
    "def get_called_times(f):\n",
    "    '''@param f is a function'''\n",
    "    @wraps(f)\n",
    "    def warp(*n):\n",
    "        result = f(*n)\n",
    "        called_times[f.__name__+'('+str(n)+')'] += 1\n",
    "        return result\n",
    "    # return a inner function\n",
    "    return warp"
   ]
  },
  {
   "cell_type": "markdown",
   "metadata": {},
   "source": [
    "#### 计算编辑距离"
   ]
  },
  {
   "cell_type": "code",
   "execution_count": 7,
   "metadata": {},
   "outputs": [],
   "source": [
    "@get_called_times\n",
    "def edit_distance(s, t):\n",
    "    if len(s) == 0: return len(t)\n",
    "    if len(t) == 0: return len(s)\n",
    "    candidates = []\n",
    "    if s[-1] == t[-1]:\n",
    "        candidates += [(edit_distance(s[:-1], t[-1]), '')]\n",
    "    else:\n",
    "        computing = [(edit_distance(s[:-1], t) + 1, 'DEL {}'.format(s[-1])),\n",
    "                     (edit_distance(s, t[:-1]) + 1, 'ADD {}'.format(t[-1])),\n",
    "                     (edit_distance(s[:-1], t[:-1]) + 1, 'SUB {}=>{}'.format(s[-1], t[-1]))\n",
    "                    ]\n",
    "        candidates += computing\n",
    "    min_distance, operation = min(candidates, key=lambda x:x[0])\n",
    "    return min_distance"
   ]
  },
  {
   "cell_type": "code",
   "execution_count": 8,
   "metadata": {},
   "outputs": [
    {
     "data": {
      "text/plain": [
       "4"
      ]
     },
     "execution_count": 8,
     "metadata": {},
     "output_type": "execute_result"
    }
   ],
   "source": [
    "edit_distance('sailn','failing')"
   ]
  },
  {
   "cell_type": "code",
   "execution_count": 9,
   "metadata": {},
   "outputs": [
    {
     "data": {
      "text/plain": [
       "defaultdict(int,\n",
       "            {\"edit_distance(('', 'failing'))\": 1,\n",
       "             \"edit_distance(('', 'failin'))\": 9,\n",
       "             \"edit_distance(('', 'faili'))\": 32,\n",
       "             \"edit_distance(('', 'fail'))\": 70,\n",
       "             \"edit_distance(('', 'fai'))\": 118,\n",
       "             \"edit_distance(('', 'fa'))\": 158,\n",
       "             \"edit_distance(('', 'f'))\": 172,\n",
       "             \"edit_distance(('s', ''))\": 126,\n",
       "             \"edit_distance(('', ''))\": 113,\n",
       "             \"edit_distance(('s', 'f'))\": 86,\n",
       "             \"edit_distance(('s', 'fa'))\": 86,\n",
       "             \"edit_distance(('s', 'fai'))\": 72,\n",
       "             \"edit_distance(('s', 'fail'))\": 46,\n",
       "             \"edit_distance(('s', 'faili'))\": 24,\n",
       "             \"edit_distance(('s', 'failin'))\": 8,\n",
       "             \"edit_distance(('s', 'failing'))\": 1,\n",
       "             \"edit_distance(('', 'a'))\": 14,\n",
       "             \"edit_distance(('s', 'a'))\": 14,\n",
       "             \"edit_distance(('sa', 'fa'))\": 14,\n",
       "             \"edit_distance(('sa', 'fai'))\": 14,\n",
       "             \"edit_distance(('sa', 'fail'))\": 12,\n",
       "             \"edit_distance(('sa', 'faili'))\": 10,\n",
       "             \"edit_distance(('sa', 'failin'))\": 6,\n",
       "             \"edit_distance(('sa', 'failing'))\": 1,\n",
       "             \"edit_distance(('', 'i'))\": 10,\n",
       "             \"edit_distance(('s', 'i'))\": 10,\n",
       "             \"edit_distance(('sa', ''))\": 16,\n",
       "             \"edit_distance(('sa', 'i'))\": 10,\n",
       "             \"edit_distance(('sai', 'faili'))\": 8,\n",
       "             \"edit_distance(('sai', 'failin'))\": 4,\n",
       "             \"edit_distance(('sai', 'failing'))\": 1,\n",
       "             \"edit_distance(('', 'l'))\": 2,\n",
       "             \"edit_distance(('s', 'l'))\": 2,\n",
       "             \"edit_distance(('sa', 'l'))\": 2,\n",
       "             \"edit_distance(('sai', ''))\": 4,\n",
       "             \"edit_distance(('sai', 'l'))\": 2,\n",
       "             \"edit_distance(('sail', 'fail'))\": 2,\n",
       "             \"edit_distance(('sai', 'fai'))\": 2,\n",
       "             \"edit_distance(('sai', 'fail'))\": 2,\n",
       "             \"edit_distance(('sail', 'faili'))\": 2,\n",
       "             \"edit_distance(('sail', 'failin'))\": 2,\n",
       "             \"edit_distance(('sail', 'failing'))\": 1,\n",
       "             \"edit_distance(('', 'n'))\": 1,\n",
       "             \"edit_distance(('s', 'n'))\": 1,\n",
       "             \"edit_distance(('sa', 'n'))\": 1,\n",
       "             \"edit_distance(('sai', 'n'))\": 1,\n",
       "             \"edit_distance(('sail', ''))\": 1,\n",
       "             \"edit_distance(('sail', 'n'))\": 1,\n",
       "             \"edit_distance(('sailn', 'failin'))\": 1,\n",
       "             \"edit_distance(('sailn', 'failing'))\": 1})"
      ]
     },
     "execution_count": 9,
     "metadata": {},
     "output_type": "execute_result"
    }
   ],
   "source": [
    "called_times"
   ]
  },
  {
   "cell_type": "markdown",
   "metadata": {},
   "source": [
    "#### 增加缓存"
   ]
  },
  {
   "cell_type": "code",
   "execution_count": 10,
   "metadata": {},
   "outputs": [],
   "source": [
    "called_times.clear()\n",
    "# 记录具体的变化过程\n",
    "solution = {}\n",
    "# 缓存已计算过的结果\n",
    "cache = {}\n",
    "@get_called_times\n",
    "def edit_distance_cache(s, t):\n",
    "    # 查询是否已计算过了，计算过了直接返回存储的值\n",
    "    if (s, t) in cache: return cache[(s, t)]\n",
    "    if len(s) == 0:\n",
    "        # 插入缓存\n",
    "        cache[(s, t)] = len(t)\n",
    "        return len(t)\n",
    "    if len(t) == 0: \n",
    "        # 插入缓存\n",
    "        cache[(s, t)] = len(s)\n",
    "        return len(s)\n",
    "    candidates = []\n",
    "    # 表示两字符相等情况\n",
    "    if s[-1] == t[-1]:\n",
    "        candidates += [(edit_distance_cache(s[:-1], t[:-1]), '')]\n",
    "    else:\n",
    "        # 不相等的几种情况\n",
    "        computing = [(edit_distance_cache(s[:-1], t) + 1, 'DEL {}'.format(s[-1])),\n",
    "                     (edit_distance_cache(s, t[:-1]) + 1, 'ADD {}'.format(t[-1])),\n",
    "                     (edit_distance_cache(s[:-1], t[:-1]) + 1, 'SUB {}=>{}'.format(s[-1], t[-1]))\n",
    "                    ]\n",
    "        candidates += computing\n",
    "    # 根据编辑距离排序，取出最小的值\n",
    "    min_distance, operation = min(candidates, key=lambda x: x[0])\n",
    "    solution[(s, t)] = operation\n",
    "    cache[(s, t)] = min_distance\n",
    "    return min_distance"
   ]
  },
  {
   "cell_type": "code",
   "execution_count": 11,
   "metadata": {},
   "outputs": [
    {
     "data": {
      "text/plain": [
       "2"
      ]
     },
     "execution_count": 11,
     "metadata": {},
     "output_type": "execute_result"
    }
   ],
   "source": [
    "edit_distance_cache('ABCDE', 'ABCCEF')"
   ]
  },
  {
   "cell_type": "code",
   "execution_count": 12,
   "metadata": {},
   "outputs": [
    {
     "data": {
      "text/plain": [
       "defaultdict(int,\n",
       "            {\"edit_distance_cache(('', 'ABCCEF'))\": 1,\n",
       "             \"edit_distance_cache(('', 'ABCCE'))\": 2,\n",
       "             \"edit_distance_cache(('', 'ABCC'))\": 2,\n",
       "             \"edit_distance_cache(('', 'ABC'))\": 2,\n",
       "             \"edit_distance_cache(('', 'AB'))\": 2,\n",
       "             \"edit_distance_cache(('', ''))\": 1,\n",
       "             \"edit_distance_cache(('A', 'A'))\": 3,\n",
       "             \"edit_distance_cache(('', 'A'))\": 1,\n",
       "             \"edit_distance_cache(('A', 'AB'))\": 2,\n",
       "             \"edit_distance_cache(('A', 'ABC'))\": 3,\n",
       "             \"edit_distance_cache(('A', 'ABCC'))\": 3,\n",
       "             \"edit_distance_cache(('A', 'ABCCE'))\": 3,\n",
       "             \"edit_distance_cache(('A', 'ABCCEF'))\": 1,\n",
       "             \"edit_distance_cache(('AB', 'AB'))\": 3,\n",
       "             \"edit_distance_cache(('AB', 'ABC'))\": 2,\n",
       "             \"edit_distance_cache(('AB', 'ABCC'))\": 2,\n",
       "             \"edit_distance_cache(('AB', 'ABCCE'))\": 3,\n",
       "             \"edit_distance_cache(('AB', 'ABCCEF'))\": 1,\n",
       "             \"edit_distance_cache(('ABC', 'ABCC'))\": 3,\n",
       "             \"edit_distance_cache(('ABC', 'ABCCE'))\": 3,\n",
       "             \"edit_distance_cache(('ABC', 'ABCCEF'))\": 1,\n",
       "             \"edit_distance_cache(('ABC', 'ABC'))\": 2,\n",
       "             \"edit_distance_cache(('AB', ''))\": 2,\n",
       "             \"edit_distance_cache(('A', ''))\": 1,\n",
       "             \"edit_distance_cache(('AB', 'A'))\": 2,\n",
       "             \"edit_distance_cache(('ABC', ''))\": 2,\n",
       "             \"edit_distance_cache(('ABC', 'A'))\": 3,\n",
       "             \"edit_distance_cache(('ABC', 'AB'))\": 2,\n",
       "             \"edit_distance_cache(('ABCD', ''))\": 1,\n",
       "             \"edit_distance_cache(('ABCD', 'A'))\": 1,\n",
       "             \"edit_distance_cache(('ABCD', 'AB'))\": 1,\n",
       "             \"edit_distance_cache(('ABCD', 'ABC'))\": 1,\n",
       "             \"edit_distance_cache(('ABCD', 'ABCC'))\": 2,\n",
       "             \"edit_distance_cache(('ABCD', 'ABCCE'))\": 2,\n",
       "             \"edit_distance_cache(('ABCD', 'ABCCEF'))\": 1,\n",
       "             \"edit_distance_cache(('ABCDE', 'ABCCE'))\": 1,\n",
       "             \"edit_distance_cache(('ABCDE', 'ABCCEF'))\": 1})"
      ]
     },
     "execution_count": 12,
     "metadata": {},
     "output_type": "execute_result"
    }
   ],
   "source": [
    "called_times"
   ]
  },
  {
   "cell_type": "code",
   "execution_count": 13,
   "metadata": {},
   "outputs": [
    {
     "data": {
      "text/plain": [
       "{('A', 'A'): '',\n",
       " ('A', 'AB'): 'ADD B',\n",
       " ('A', 'ABC'): 'ADD C',\n",
       " ('A', 'ABCC'): 'ADD C',\n",
       " ('A', 'ABCCE'): 'ADD E',\n",
       " ('A', 'ABCCEF'): 'ADD F',\n",
       " ('AB', 'AB'): '',\n",
       " ('AB', 'ABC'): 'ADD C',\n",
       " ('AB', 'ABCC'): 'ADD C',\n",
       " ('AB', 'ABCCE'): 'ADD E',\n",
       " ('AB', 'ABCCEF'): 'ADD F',\n",
       " ('ABC', 'ABCC'): '',\n",
       " ('ABC', 'ABCCE'): 'ADD E',\n",
       " ('ABC', 'ABCCEF'): 'ADD F',\n",
       " ('ABC', 'ABC'): '',\n",
       " ('AB', 'A'): 'DEL B',\n",
       " ('ABC', 'A'): 'DEL C',\n",
       " ('ABC', 'AB'): 'DEL C',\n",
       " ('ABCD', 'A'): 'DEL D',\n",
       " ('ABCD', 'AB'): 'DEL D',\n",
       " ('ABCD', 'ABC'): 'DEL D',\n",
       " ('ABCD', 'ABCC'): 'SUB D=>C',\n",
       " ('ABCD', 'ABCCE'): 'ADD E',\n",
       " ('ABCD', 'ABCCEF'): 'ADD F',\n",
       " ('ABCDE', 'ABCCE'): '',\n",
       " ('ABCDE', 'ABCCEF'): 'ADD F'}"
      ]
     },
     "execution_count": 13,
     "metadata": {},
     "output_type": "execute_result"
    }
   ],
   "source": [
    "solution"
   ]
  },
  {
   "cell_type": "markdown",
   "metadata": {},
   "source": [
    "## Questions\n",
    "\n",
    "### Review machine learning\n",
    "    \n",
    "    1. Why do we use Derivative / Gredient to fit a target function?¶\n",
    "    Ans: Because Derivative or Gredient reflects the rate of change of the function.\n",
    "\n",
    "    2. In the words 'Gredient Descent', what's the Gredient and what's the Descent?¶\n",
    "    Ans: The Gredient is the derivative of a function at some point. The descent is the direction along which the gradient decreases.\n",
    "\n",
    "    3. What's the advantages of the 3rd gradient descent method compared to the previous methods?\n",
    "    Ans: This method can get the optimal solution quickly.\n",
    "\n",
    "    4. Using the simple words to describe: What's the machine leanring.¶\n",
    "    Ans: Machine learning is a complicated function that represents the relationship between input data and output data.\n",
    "\n",
    "### Answer following questions:\n",
    "\n",
    "    1. Why do we need dynamic programming? What's the difference of dynamic programming and previous talked search problme?\n",
    "    Ans: It can avoid repeated computation. There is a correlation between its previous and the current result.\n",
    "    \n",
    "    2. Why do we still need dynamic programming? Why not we train a machine learning to fit a function which could get the right answer based on inputs?\n",
    "    Ans: Dynamic Programming is a method. The optimal solution of the global problem depends on the optimal solution of each sub-problem.\n",
    "    \n",
    "    3. Please summarize the three main features of Dynamic Programming, and make a concise explain for each feature.\n",
    "    Ans: The optimal solution of the global problem depends on the optimal solution of each sub-problem.\n",
    "    \n",
    "    4. What's the disadvantages of Dynamic Programming? (You may need search by yourself in Internet)\n",
    "    Ans: It can get the global optimal solution and improve the efficiency of solution by utilizing practical knowledge and experience.\n",
    "    "
   ]
  },
  {
   "cell_type": "markdown",
   "metadata": {},
   "source": [
    "## Finish the k-person-salesman problem (optional)"
   ]
  },
  {
   "cell_type": "code",
   "execution_count": 14,
   "metadata": {},
   "outputs": [],
   "source": [
    "import random\n",
    "import matplotlib.pylab as plt\n",
    "import time\n",
    "import numpy as np"
   ]
  },
  {
   "cell_type": "code",
   "execution_count": 15,
   "metadata": {},
   "outputs": [],
   "source": [
    "''' 随机生成 k 个站点 '''\n",
    "k = 8\n",
    "rand_range = 100\n",
    "latitudes = [random.randint(-rand_range, rand_range) for _ in range(k)]\n",
    "longitude = [random.randint(-rand_range, rand_range) for _ in range(k)]"
   ]
  },
  {
   "cell_type": "code",
   "execution_count": 16,
   "metadata": {},
   "outputs": [
    {
     "data": {
      "image/png": "[encoded data removed]",
      "text/plain": [
       "<Figure size 432x288 with 1 Axes>"
      ]
     },
     "metadata": {
      "needs_background": "light"
     },
     "output_type": "display_data"
    }
   ],
   "source": [
    "plt.scatter(latitudes, longitude)\n",
    "plt.show()"
   ]
  },
  {
   "cell_type": "markdown",
   "metadata": {},
   "source": [
    "#### 给定一个初始点 𝑃, 已经 𝑘个车辆，如何从该点出发，经这 k 个车辆经过所以的点全部一次，而且所走过的路程最短?"
   ]
  },
  {
   "cell_type": "code",
   "execution_count": 17,
   "metadata": {},
   "outputs": [],
   "source": [
    "''' 出发地 '''\n",
    "chosen_p1 = (-50, 10)\n",
    "# chosen_p2 = (1, 30)\n",
    "# chosen_p3 = (99, 15)"
   ]
  },
  {
   "cell_type": "code",
   "execution_count": 18,
   "metadata": {},
   "outputs": [
    {
     "data": {
      "image/png": "[encoded data removed]",
      "text/plain": [
       "<Figure size 432x288 with 1 Axes>"
      ]
     },
     "metadata": {
      "needs_background": "light"
     },
     "output_type": "display_data"
    }
   ],
   "source": [
    "plt.scatter(latitudes, longitude)\n",
    "plt.scatter([chosen_p1[0]], [chosen_p1[1]], color='r')\n",
    "plt.show()"
   ]
  },
  {
   "cell_type": "code",
   "execution_count": 19,
   "metadata": {},
   "outputs": [],
   "source": [
    "''' 所有站点集合 '''\n",
    "positions = [(latitudes[i], longitude[i]) for i in range(len(latitudes))]\n",
    "positions.insert(0, chosen_p1)"
   ]
  },
  {
   "cell_type": "code",
   "execution_count": 20,
   "metadata": {},
   "outputs": [],
   "source": [
    "''' 计算两地之间的距离 '''\n",
    "def distance(p1, p2):\n",
    "    return ((p1[0] - p2[0])**2 + (p1[1] - p2[1])**2)**0.5"
   ]
  },
  {
   "cell_type": "code",
   "execution_count": 21,
   "metadata": {},
   "outputs": [],
   "source": [
    "''' 根据地点索引计算每两地之间的距离，并存放在 distance_arr 中 '''\n",
    "def get_distance_arr(positions):\n",
    "    size = len(positions)\n",
    "    # 初始化\n",
    "    distance_arr = [[0. for i in range(size)] for j in range(size)]\n",
    "    for i in range(size):\n",
    "        for j in range(size):\n",
    "            # 计算并填充\n",
    "            distance_arr[i][j] = distance(positions[i], positions[j])\n",
    "    return distance_arr"
   ]
  },
  {
   "cell_type": "code",
   "execution_count": 22,
   "metadata": {},
   "outputs": [],
   "source": [
    "''' 距离矩阵 '''\n",
    "distance_arr = get_distance_arr(positions)"
   ]
  },
  {
   "cell_type": "code",
   "execution_count": 23,
   "metadata": {},
   "outputs": [],
   "source": [
    "''' 计算路线的总路程 '''\n",
    "def path_distance(path):\n",
    "    '''path: 路径的索引'''\n",
    "    if len(path) < 2: return 0\n",
    "    all_distance = 0\n",
    "    for i in range(1, len(path)):\n",
    "        all_distance += distance_arr[path[i]][path[i-1]]\n",
    "    return all_distance"
   ]
  },
  {
   "cell_type": "code",
   "execution_count": 24,
   "metadata": {},
   "outputs": [],
   "source": [
    "def print_result_info(path_in):\n",
    "    print(\"该方法的最短路程为：{}\".format(path_distance(path)))\n",
    "    _positions , x, y = [], [], []\n",
    "    for ele in path_in:\n",
    "        _positions.append(positions[ele])\n",
    "        x.append(positions[ele][0])\n",
    "        y.append(positions[ele][1])\n",
    "    print(_positions)\n",
    "    plt.scatter(x, y)\n",
    "    plt.scatter(x[0], y[0], color='r')\n",
    "    plt.plot(x, y)\n",
    "    plt.show()"
   ]
  },
  {
   "cell_type": "markdown",
   "metadata": {},
   "source": [
    "#### 暴力搜索\n",
    "\n",
    "    遍历所有可达路径，再选取一条路程最短的路径"
   ]
  },
  {
   "cell_type": "code",
   "execution_count": 25,
   "metadata": {},
   "outputs": [],
   "source": [
    "'''首先获取所有可达的路径，再选取路程最短的一条'''\n",
    "def short_path1(positions):\n",
    "    size = len(positions)\n",
    "    paths = []\n",
    "    arrays = [i for i in range(size)]\n",
    "    def means(path, arr):\n",
    "        if not arr: \n",
    "            paths.append(path + [path[0]])\n",
    "        for i in range(len(arr)):\n",
    "            means(path + [arr[i]], arr[:i] + arr[i+1:])\n",
    "    means([arrays[0]], arrays[1:])\n",
    "    paths = sorted(paths, key=lambda x:path_distance(x))\n",
    "    return paths[0]"
   ]
  },
  {
   "cell_type": "code",
   "execution_count": 26,
   "metadata": {},
   "outputs": [
    {
     "name": "stdout",
     "output_type": "stream",
     "text": [
      "暴力方法的执行时间为: 0.24435091018676758\n",
      "暴力方法的最优路径为: [0, 3, 2, 7, 5, 4, 1, 6, 8, 0]\n"
     ]
    }
   ],
   "source": [
    "# 运行结果\n",
    "start = time.time()\n",
    "path = short_path1(positions)\n",
    "end = time.time()\n",
    "print(\"暴力方法的执行时间为:\", end-start)\n",
    "print(\"暴力方法的最优路径为:\", path)"
   ]
  },
  {
   "cell_type": "code",
   "execution_count": 27,
   "metadata": {},
   "outputs": [
    {
     "name": "stdout",
     "output_type": "stream",
     "text": [
      "该方法的最短路程为：435.0872327971263\n",
      "[(-50, 10), (-15, 31), (21, 22), (53, 13), (54, -47), (-50, -81), (-85, -89), (-54, -42), (-59, 11), (-50, 10)]\n"
     ]
    },
    {
     "data": {
      "image/png": "[encoded data removed]",
      "text/plain": [
       "<Figure size 432x288 with 1 Axes>"
      ]
     },
     "metadata": {
      "needs_background": "light"
     },
     "output_type": "display_data"
    }
   ],
   "source": [
    "print_result_info(path)"
   ]
  },
  {
   "cell_type": "markdown",
   "metadata": {},
   "source": [
    "    小结：暴力搜索的方式虽然能得到全局最优解，但是效率极低。"
   ]
  },
  {
   "cell_type": "markdown",
   "metadata": {},
   "source": [
    "#### 贪心算法\n",
    "\n",
    "    从初始位置开始，每次都获取距离自己最近且没有被访问过得点作为下一个点，直到全部遍历完成。"
   ]
  },
  {
   "cell_type": "code",
   "execution_count": 28,
   "metadata": {},
   "outputs": [],
   "source": [
    "def short_path2(positions):\n",
    "    size = len(positions)\n",
    "    path = [0]\n",
    "    current = 0\n",
    "    while True:\n",
    "        current = near_node(current, path)\n",
    "        if current == -1: break\n",
    "        path.append(current)\n",
    "    path.append(0)\n",
    "    return path\n",
    "\n",
    "# 选择下一个最近的点\n",
    "def near_node(cur, path):\n",
    "    min_dis = float('inf')\n",
    "    res = -1\n",
    "    for i in range(len(positions)):\n",
    "        if i in path or distance_arr[cur][i] == 0: continue\n",
    "        if distance_arr[cur][i] < min_dis: \n",
    "            res = i\n",
    "            min_dis = distance_arr[cur][i]\n",
    "    return res"
   ]
  },
  {
   "cell_type": "code",
   "execution_count": 29,
   "metadata": {},
   "outputs": [
    {
     "name": "stdout",
     "output_type": "stream",
     "text": [
      "贪心算法的执行时间为: 9.107589721679688e-05\n",
      "贪心算法的最优路径为: [0, 8, 3, 2, 7, 5, 6, 4, 1, 0]\n"
     ]
    }
   ],
   "source": [
    "start = time.time()\n",
    "path = short_path2(positions)\n",
    "end = time.time()\n",
    "print(\"贪心算法的执行时间为:\", end-start)\n",
    "print(\"贪心算法的最优路径为:\",path)"
   ]
  },
  {
   "cell_type": "code",
   "execution_count": 30,
   "metadata": {},
   "outputs": [
    {
     "name": "stdout",
     "output_type": "stream",
     "text": [
      "该方法的最短路程为：475.97307099059014\n",
      "[(-50, 10), (-59, 11), (-15, 31), (21, 22), (53, 13), (54, -47), (-54, -42), (-50, -81), (-85, -89), (-50, 10)]\n"
     ]
    },
    {
     "data": {
      "image/png": "[encoded data removed]",
      "text/plain": [
       "<Figure size 432x288 with 1 Axes>"
      ]
     },
     "metadata": {
      "needs_background": "light"
     },
     "output_type": "display_data"
    }
   ],
   "source": [
    "print_result_info(path)"
   ]
  },
  {
   "cell_type": "markdown",
   "metadata": {},
   "source": [
    "    小结：贪心算法效率高，速度快，但是并不能得到全局最优解"
   ]
  },
  {
   "cell_type": "markdown",
   "metadata": {},
   "source": [
    "#### 动态规划\n",
    "\n",
    "    假设现有0、1、2、3这4个城市，求从0城市出发经过1、2、3城市后再回到0城市得最短路程。\n",
    "    \n",
    "    分析：(0,{1,2,3}表示从0出发，经过{1、2、3}，再回到0。\n",
    "    \n",
    "                                        (0,{1,2,3})\n",
    "                                       /     |     \\\n",
    "                              (1,{2,3})  (2,{1,3})  (3,{1,2})\n",
    "                              /  \\          /   \\        /   \\\n",
    "                        (2,{3})(3,{2}) (1,{3})(3,{1}) (1,{2})(2,{1})   \n",
    "                           |       |      |      |       |       |\n",
    "                        (3,{})  (2,{})  (3,{}) (1,{}) (2,{})  (1,{})\n",
    "                           +      +       +      +       +       +\n",
    "                       d[3][0] d[2][0] d[3][0] d[1][0] d[2][0] d[1][0]\n",
    "    动规方程：\n",
    "    \n",
    "    short_path(init, s) = min(short_path(i, s.remove(i)) + distance[i][init])\n",
    "    "
   ]
  },
  {
   "cell_type": "code",
   "execution_count": 31,
   "metadata": {},
   "outputs": [],
   "source": [
    "# 创建位置列表【0,1,2,3,4,5,6,7,...】\n",
    "pos_indexs = [i for i in range(len(positions))]\n",
    "def short_path3(start_index, pos_indexs):\n",
    "    ''' \n",
    "    param1: 当前位置出发\n",
    "    param2: 等待要走的位置\n",
    "    \n",
    "    '''\n",
    "    # 如果剩下要走的位置为空，相当于走完了所有的站点，此时返回当前位置到最初时刻位置的距离\n",
    "    if not pos_indexs: return [0], distance_arr[start_index][0]\n",
    "    # 主要是用来存储当前这个位置 start_index 后面路径得到最短的路程\n",
    "    inf_dis = float('inf')\n",
    "    # 最短路程下走过的最短路径\n",
    "    res_indexs = []\n",
    "    # 遍历接下来的站点\n",
    "    for i in range(len(pos_indexs)):\n",
    "        # 每次循环时，要从集合中取出当前位置，返回的是最短路径和最短的路程\n",
    "        indexs, dis = short_path3(pos_indexs[i], pos_indexs[:i] + pos_indexs[i+1:])\n",
    "        dis += distance_arr[pos_indexs[i]][start_index]\n",
    "        if dis < inf_dis:\n",
    "            res_indexs = indexs + pos_indexs[i:i+1] \n",
    "            inf_dis = dis\n",
    "    return res_indexs, inf_dis    "
   ]
  },
  {
   "cell_type": "code",
   "execution_count": 32,
   "metadata": {},
   "outputs": [
    {
     "name": "stdout",
     "output_type": "stream",
     "text": [
      "[0, 3, 2, 7, 5, 4, 1, 6, 8, 0]\n",
      "动态规划的执行时间为: 0.13170886039733887\n",
      "动态规划的最优路径为: [0, 3, 2, 7, 5, 4, 1, 6, 8, 0]\n"
     ]
    }
   ],
   "source": [
    "start_time = time.time()\n",
    "path, distance = short_path3(pos_indexs[0], pos_indexs[1:])\n",
    "path += [path[0]]\n",
    "end_time = time.time()\n",
    "print(path)\n",
    "print(\"动态规划的执行时间为:\", end_time-start_time)\n",
    "print(\"动态规划的最优路径为:\",path)"
   ]
  },
  {
   "cell_type": "code",
   "execution_count": 33,
   "metadata": {},
   "outputs": [
    {
     "name": "stdout",
     "output_type": "stream",
     "text": [
      "该方法的最短路程为：435.0872327971263\n",
      "[(-50, 10), (-15, 31), (21, 22), (53, 13), (54, -47), (-50, -81), (-85, -89), (-54, -42), (-59, 11), (-50, 10)]\n"
     ]
    },
    {
     "data": {
      "image/png": "[encoded data removed]",
      "text/plain": [
       "<Figure size 432x288 with 1 Axes>"
      ]
     },
     "metadata": {
      "needs_background": "light"
     },
     "output_type": "display_data"
    }
   ],
   "source": [
    "print_result_info(path)"
   ]
  },
  {
   "cell_type": "markdown",
   "metadata": {},
   "source": [
    "#### 动态规划提升"
   ]
  },
  {
   "cell_type": "code",
   "execution_count": 40,
   "metadata": {},
   "outputs": [
    {
     "name": "stdout",
     "output_type": "stream",
     "text": [
      "最优路程： 435.0872327971263\n",
      "程序的运行时间是：0.011272907257080078\n"
     ]
    }
   ],
   "source": [
    "import pandas as pd\n",
    "import numpy as np\n",
    "import math\n",
    "import time\n",
    "\n",
    "point_list = [(x, y) for x, y in zip(latitudes, longitude)]\n",
    "point_list.insert(0, chosen_p1)\n",
    "point_array = np.array(point_list)\n",
    "\n",
    "# 距离矩阵\n",
    "dist = np.zeros((point_array.shape[0], point_array.shape[0]))\n",
    "for i in range(point_array.shape[0]):\n",
    "    for j in range(point_array.shape[0]):\n",
    "        dist[i, j] = math.sqrt(np.sum((point_array[i, :] - point_array[j, :]) ** 2))\n",
    "        \n",
    "\"\"\"\n",
    "N:计数\n",
    "s:二进制表示，遍历过得城市对应位为0，未遍历为1\n",
    "dp:动态规划的距离数组\n",
    "dist：目的地间距离矩阵\n",
    "sumpath:目前的最小路径总长度\n",
    "Dtemp：当前最小距离\n",
    "path:记录下一个应该到达的城市\n",
    "\"\"\"\n",
    "\n",
    "N = point_array.shape[0]\n",
    "path = np.ones((2 ** N -1, N), dtype=np.int)\n",
    "dp = np.ones((2 ** N - 1, N)) * -1\n",
    "\n",
    "# 代码的核心\n",
    "def TSP(s, init):\n",
    "    if dp[s][init] != -1:\n",
    "        return dp[s][init]\n",
    "    \n",
    "    if s == 0: # 成立代表遍历结束\n",
    "        return dist[0][init]\n",
    "    \n",
    "    sumpath = float('inf')\n",
    "\n",
    "    for i in range(N):\n",
    "        if s & (1 << i): # 判断是否遍历过，未遍历则执行\n",
    "            m = TSP(s & (~ (1 << i)), i) + dist[i][init]#s & (~ (1 << i))让遍历过的点的相应位置变0\n",
    "            if m < sumpath:\n",
    "                sumpath = m\n",
    "                path[s][init] = i\n",
    "    dp[s][init] = sumpath\n",
    "    return dp[s][init]\n",
    "\n",
    "init_point = 0\n",
    "s = 0\n",
    "for i in range(1, N):\n",
    "    s = s|(1<<i)\n",
    "\n",
    "start = time.time()\n",
    "distance = TSP(s, init_point)\n",
    "end = time.time()\n",
    "\n",
    "for i in range(1, N):\n",
    "    s = s|(1<<i)\n",
    "init = 0\n",
    "num = 0\n",
    "print(\"最优路程：\", distance)\n",
    "route = [0]\n",
    "\n",
    "while True:\n",
    "    route.append(init)\n",
    "    init = path[s][init]\n",
    "    s = s & (~ (1 << init))\n",
    "    num += 1\n",
    "    if num > N-2:\n",
    "        break\n",
    "print(\"程序的运行时间是：%s\" % (end - start))"
   ]
  },
  {
   "cell_type": "code",
   "execution_count": null,
   "metadata": {},
   "outputs": [],
   "source": []
  },
  {
   "cell_type": "code",
   "execution_count": null,
   "metadata": {},
   "outputs": [],
   "source": []
  }
 ],
 "metadata": {
  "kernelspec": {
   "display_name": "Python 3",
   "language": "python",
   "name": "python3"
  },
  "language_info": {
   "codemirror_mode": {
    "name": "ipython",
    "version": 3
   },
   "file_extension": ".py",
   "mimetype": "text/x-python",
   "name": "python",
   "nbconvert_exporter": "python",
   "pygments_lexer": "ipython3",
   "version": "3.6.5"
  }
 },
 "nbformat": 4,
 "nbformat_minor": 2
}
