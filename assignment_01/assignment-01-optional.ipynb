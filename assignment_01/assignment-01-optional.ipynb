{
 "cells": [
  {
   "cell_type": "markdown",
   "metadata": {},
   "source": [
    "## Pattern Match\n",
    "    \n",
    "    为了实现模板的判断和定义，我们需要定义一个特殊的符号类型，这个符号类型就叫做\"variable\"， 这个\"variable\"用来表示是一个占位符。\n",
    "    \n",
    "    例如，定义一个目标: \"I want X\"， 我们可以表示成 \"I want ?X\", 意思就是?X是一个用来占位的符号。\n",
    "    \n",
    "    如果输入了\"I want holiday\"， 在这里 'holiday' 就是 '?X'"
   ]
  },
  {
   "cell_type": "code",
   "execution_count": 1,
   "metadata": {},
   "outputs": [],
   "source": [
    "import random"
   ]
  },
  {
   "cell_type": "code",
   "execution_count": 2,
   "metadata": {},
   "outputs": [],
   "source": [
    "# 参数：pat: string\n",
    "# 方法：判断是不是变量, isalpha() 方法检测字符串是否只由字母组成, all表示所有为True返回True否则返回False\n",
    "def is_variable(pat):\n",
    "    return pat.startswith('?') and all(s.isalpha() for s in pat[1:]) \n",
    "\n",
    "# 参数：pattern:list(str), saying:list(str)\n",
    "# 方法：saying 和 模板 pattern 进行匹配，匹配每一个字符，\n",
    "# 如果字符相等继续比较下一个字符，如果不等直接返回 False，如果全部相等返回True，如果字符 is_variable 直接 return True\n",
    "def pat_match_simple(pattern, saying):\n",
    "    res = {}\n",
    "    for i in range(len(pattern)):\n",
    "        if is_variable(pattern[i]):\n",
    "            res[pattern[i]] = saying[i]\n",
    "            continue\n",
    "        if pattern[i] != saying[i]: return None\n",
    "    return res\n",
    "\n",
    "# 参数：pattern：string；rule：dict(k=string, v=string)\n",
    "# 方法：根据 rule 规则，把 pattern 补充完成\n",
    "def supplement_word(pattern, rule):\n",
    "    return ' '.join(s for s in [rule[word] if word in rule.keys() else word for word in pattern.split()])\n",
    "\n",
    "# 参数：根据saying，选择 rules 最合适的回答\n",
    "# 方法：返回最合适的句子\n",
    "def get_response_1(saying, rules):\n",
    "    for k,v in rules.items():\n",
    "        match_rule = pat_match_simple(k.split(), saying.split())\n",
    "        if match_rule: return supplement_word(random.choice(v), match_rule) \n",
    "    return saying"
   ]
  },
  {
   "cell_type": "code",
   "execution_count": 3,
   "metadata": {},
   "outputs": [
    {
     "name": "stdout",
     "output_type": "stream",
     "text": [
      "3 plus 2 equal 5\n"
     ]
    }
   ],
   "source": [
    "s_1 = supplement_word('?X plus ?Y equal 5', pat_match_simple(\"?X greater than ?Y\".split(),\"3 greater than 2\".split()))\n",
    "print(s_1)"
   ]
  },
  {
   "cell_type": "code",
   "execution_count": 4,
   "metadata": {},
   "outputs": [
    {
     "name": "stdout",
     "output_type": "stream",
     "text": [
      "Why do you need iphone ?\n"
     ]
    }
   ],
   "source": [
    "defined_rules = {\n",
    "    \"I need ?X\": [\"Image you will get ?X soon\", \"Why do you need ?X ?\"], \n",
    "    \"My ?X told me something\": [\"Talk about more about your ?X\", \"How do you think about your ?X ?\"]\n",
    "}\n",
    "ans_1 = get_response_1('I need iphone', defined_rules)\n",
    "print(ans_1)"
   ]
  },
  {
   "cell_type": "code",
   "execution_count": 5,
   "metadata": {},
   "outputs": [
    {
     "name": "stdout",
     "output_type": "stream",
     "text": [
      "How do you think about your mom ?\n"
     ]
    }
   ],
   "source": [
    "ans_2 = get_response_1('My mom told me something', defined_rules)\n",
    "print(ans_2)"
   ]
  },
  {
   "cell_type": "code",
   "execution_count": 6,
   "metadata": {},
   "outputs": [
    {
     "name": "stdout",
     "output_type": "stream",
     "text": [
      "Input:My father told me something\n",
      "Response:Talk about more about your father\n",
      "Input:0\n"
     ]
    }
   ],
   "source": [
    "input_str = ''\n",
    "while True: \n",
    "    input_str = input(\"Input:\")\n",
    "    if input_str == '0': break # 输入0退出\n",
    "    print('Response:'+str(get_response_1(input_str, defined_rules)))"
   ]
  },
  {
   "cell_type": "markdown",
   "metadata": {},
   "source": [
    "\n",
    "### Segment Match\n",
    "    我们上边的这种形式，能够进行一些初级的对话了，但是我们的模式逐字逐句匹配的\n",
    "    \n",
    "    \"I need iPhone\" 和 \"I need ?X\" 可以匹配，但是\"I need an iPhone\" 和 \"I need ?X\" 就不匹配了，那怎么办？\n",
    "\n",
    "    为了解决这个问题，我们可以新建一个变量类型 \"?*X\", 这种类型多了一个星号(*),表示匹配多个\n",
    "\n",
    "    首先，和前文类似，我们需要定义一个判断是不是匹配多个的variable"
   ]
  },
  {
   "cell_type": "code",
   "execution_count": 7,
   "metadata": {},
   "outputs": [],
   "source": [
    "# 参数解释： pattern_str: string; saying_str: string\n",
    "# 方法：用于找出占位符的值，返回字典类型\n",
    "def pat_match(pattern_str, saying_str):\n",
    "    pattern = pattern_str.replace('?*', '?').split()\n",
    "    saying = saying_str.split()\n",
    "    res = {}\n",
    "    i = j = 0\n",
    "    key = -1\n",
    "    n = 0\n",
    "    for e in pattern:\n",
    "        if is_variable(e):n += 1\n",
    "    while i < len(pattern) and j < len(saying):\n",
    "        if is_variable(pattern[i]): \n",
    "            key = i\n",
    "            i += 1\n",
    "            continue\n",
    "        if pattern[i] == saying[j]:\n",
    "            if pattern[key] not in res.keys() and key != -1:\n",
    "                res[pattern[key]] = saying[key:j]\n",
    "            i += 1\n",
    "        j += 1\n",
    "    if j != len(saying):res[pattern[key]] = saying[j:]\n",
    "    if len(res) != n: return {}\n",
    "    return res\n",
    "\n",
    "# 参数说明：pattern: string \n",
    "# 方法：判断是不是一个占位符\n",
    "def is_variable(pattern):\n",
    "    return pattern.startswith('?') and all(a.isalpha() for a in pattern[1:])\n",
    "\n",
    "# 参数说明: pattern: 待补充的字符串；rule(string:list): 是占位符字典\n",
    "# 方法：根据rule映射关系，补充 pattern\n",
    "def supplement_sentence(pattern, rule):\n",
    "    return ' '.join(s for s in [' '.join(rule[word]) if word in rule.keys() else word \n",
    "                                for word in pattern.replace('?*', '?').split()])"
   ]
  },
  {
   "cell_type": "markdown",
   "metadata": {},
   "source": [
    "### 问题1\n",
    "    \n",
    "    编写一个程序, get_response(saying, response_rules)输入是一个字符串 + 我们定义的 rules."
   ]
  },
  {
   "cell_type": "code",
   "execution_count": 8,
   "metadata": {},
   "outputs": [],
   "source": [
    "# 参数说明: saying:string, response_rules:dict(k=string:v=list(string))\n",
    "# 方法：根据saying，返回合适的句子\n",
    "def get_response(saying, response_rules):\n",
    "    for k,v in response_rules.items():\n",
    "        d_match = pat_match(k, saying)\n",
    "        if d_match: \n",
    "            return supplement_sentence(random.choice(v), d_match)\n",
    "    return saying"
   ]
  },
  {
   "cell_type": "code",
   "execution_count": 9,
   "metadata": {},
   "outputs": [
    {
     "name": "stdout",
     "output_type": "stream",
     "text": [
      "{'?P': ['my', 'dog'], '?X': ['my', 'cat', 'is', 'very', 'cute']}\n"
     ]
    }
   ],
   "source": [
    "dict_1 = pat_match('?P is very good and ?*X', \"my dog is very good and my cat is very cute\")\n",
    "print(dict_1)"
   ]
  },
  {
   "cell_type": "code",
   "execution_count": 10,
   "metadata": {},
   "outputs": [
    {
     "name": "stdout",
     "output_type": "stream",
     "text": [
      "{'?x': [], '?y': ['gift']}\n"
     ]
    }
   ],
   "source": [
    "dict_2 = pat_match('?*x I want ?*y', \"I want gift\")\n",
    "print(dict_2)"
   ]
  },
  {
   "cell_type": "code",
   "execution_count": 11,
   "metadata": {},
   "outputs": [
    {
     "name": "stdout",
     "output_type": "stream",
     "text": [
      "Why do you neeed an iPhone\n"
     ]
    }
   ],
   "source": [
    "sentence_1 = supplement_sentence(\"Why do you neeed ?X\", pat_match('I need ?*X', \"I need an iPhone\"))\n",
    "print(sentence_1)"
   ]
  },
  {
   "cell_type": "code",
   "execution_count": 12,
   "metadata": {},
   "outputs": [
    {
     "name": "stdout",
     "output_type": "stream",
     "text": [
      "what would it mean if you got gift\n"
     ]
    }
   ],
   "source": [
    "sentence_2 = supplement_sentence(\"what would it mean if you got ?y\", pat_match('?*x I want ?*y', \"I want gift\"))\n",
    "print(sentence_2)"
   ]
  },
  {
   "cell_type": "code",
   "execution_count": 13,
   "metadata": {},
   "outputs": [
    {
     "name": "stdout",
     "output_type": "stream",
     "text": [
      "Suppose you got the gift soon\n"
     ]
    }
   ],
   "source": [
    "rules = {\n",
    "    '?*x hello ?*y': ['How do you do', 'Please state your problem'],\n",
    "    '?*x I want ?*y': ['what would it mean if you got ?y', 'Why do you want ?y', 'Suppose you got ?y soon'],\n",
    "    '?*x if ?*y': ['Do you really think its likely that ?y',\n",
    "                   'Do you wish that ?y', \n",
    "                   'What do you think about ?y',\n",
    "                   'Really-- if ?y'],\n",
    "    '?*x no ?*y': ['why not?', 'You are being a negative', 'Are you saying \\'No\\' just to be negative?'],\n",
    "    '?*x I was ?*y': ['Were you really', 'Perhaps I already knew you were ?y', 'Why do you tell me you were ?y now?'],\n",
    "    '?*x I feel ?*y': ['Do you often feel ?y ?', 'What other feelings do you have?'],\n",
    "}\n",
    "ans_str = get_response('I want the gift', rules)\n",
    "print(ans_str)"
   ]
  },
  {
   "cell_type": "code",
   "execution_count": 14,
   "metadata": {},
   "outputs": [
    {
     "name": "stdout",
     "output_type": "stream",
     "text": [
      "Input:James no I am boy\n",
      "Response: Are you saying 'No' just to be negative?\n",
      "Input:0\n"
     ]
    }
   ],
   "source": [
    "input_str = ''\n",
    "while True: # 输入0退出\n",
    "    input_str = input(\"Input:\")\n",
    "    if input_str == '0': break\n",
    "    print('Response:',get_response(input_str, rules))"
   ]
  },
  {
   "cell_type": "markdown",
   "metadata": {},
   "source": [
    "## 改写以上程序，将程序变成能够支持中文输入的模式。"
   ]
  },
  {
   "cell_type": "code",
   "execution_count": 15,
   "metadata": {},
   "outputs": [],
   "source": [
    "import random"
   ]
  },
  {
   "cell_type": "code",
   "execution_count": 16,
   "metadata": {},
   "outputs": [],
   "source": [
    "# 参数: pattern:string\n",
    "# 方法: 判断是否为占位符\n",
    "def is_variable(pattern):\n",
    "    return pattern.startswith('?')\n",
    "\n",
    "# 参数: pattern_str:string, saying_str:string\n",
    "# 方法: 统计占位符对应的值dict(k=string,v=string)\n",
    "def pat_match_ch(pattern_str, saying_str):\n",
    "    pattern_str = pattern_str.replace('?*', '?')\n",
    "    res = {}\n",
    "    i = j = k = 0\n",
    "    key = -1\n",
    "    while i < len(pattern_str) and j < len(saying_str):\n",
    "        if is_variable(pattern_str[i]) and len(pattern_str[i:i + 2]) == 2:\n",
    "            key = i\n",
    "            i += 2\n",
    "            k = j\n",
    "            continue\n",
    "        if pattern_str[i] == saying_str[j]:\n",
    "            if pattern_str[key:key + 2] not in res.keys() and key != '':\n",
    "                res[pattern_str[key:key + 2]] = saying_str[k:j]\n",
    "            i += 1\n",
    "        j += 1\n",
    "    if j == len(saying_str) and i < len(pattern_str):return {}\n",
    "    if i == len(pattern_str) and j < len(saying_str):\n",
    "        if is_variable(pattern_str[i-2]) and len(pattern_str[i-2:i]) == 2:\n",
    "            res[pattern_str[i-2:i]] = saying_str[j:]\n",
    "        else:\n",
    "            return {}\n",
    "    return res\n",
    "\n",
    "# 参数说明: pattern: 待补充的字符串；rule(string:list): 是占位符字典\n",
    "# 方法：根据rule映射关系，补充 pattern\n",
    "def supplement_sentence_ch(pattern, rule):\n",
    "    pattern = pattern.replace('?*','?')\n",
    "    res = ''\n",
    "    i = 0\n",
    "    while i < len(pattern):\n",
    "        if is_variable(pattern[i]) and len(pattern[i:i+2])==2:\n",
    "            res += rule[pattern[i:i+2]]\n",
    "            i += 2\n",
    "        else:\n",
    "            res += pattern[i]\n",
    "            i += 1\n",
    "    return res"
   ]
  },
  {
   "cell_type": "markdown",
   "metadata": {},
   "source": [
    "### 问题2\n",
    "\n",
    "    改写以上程序，将程序变成能够支持中文输入的模式。 提示: 你可以需用用到 jieba 分词\n",
    "    \n",
    "    但是，我没有用 jieba 分词，因为觉得 jieba 分词并不能完全找出占位符的值.\n",
    "    （例如：‘我是真的好想和你在一起’, ‘我是?*x的好?*y和你在?*z’起）"
   ]
  },
  {
   "cell_type": "code",
   "execution_count": 17,
   "metadata": {},
   "outputs": [],
   "source": [
    "# 参数说明: saying:string, response_rules:dict(k=string:v=list(string))\n",
    "# 方法：根据saying，返回合适的句子\n",
    "def get_response_ch(saying, response_rules):\n",
    "    for k,v in response_rules.items():\n",
    "        d_match = pat_match_ch(k, saying)\n",
    "        if d_match: \n",
    "            return supplement_sentence_ch(random.choice(v), d_match)\n",
    "    return saying"
   ]
  },
  {
   "cell_type": "code",
   "execution_count": 18,
   "metadata": {},
   "outputs": [
    {
     "name": "stdout",
     "output_type": "stream",
     "text": [
      "你觉得蠢死啦有什么问题吗?\n"
     ]
    }
   ],
   "source": [
    "sentence_1 = supplement_sentence_ch(\"你觉得?z有什么问题吗?\", pat_match_ch('?*x和?*y一样?*z', \"你和猪一样蠢死啦\"))\n",
    "print(sentence_1)"
   ]
  },
  {
   "cell_type": "code",
   "execution_count": 19,
   "metadata": {},
   "outputs": [],
   "source": [
    "rules_ch = {\n",
    "    '?*x你好?*y': ['你好呀', '请告诉我你的问题'],\n",
    "    '?*x我想?*y': ['你觉得?y有什么意义呢？', '为什么你想?y', '你可以想想你很快就可以?y了'],\n",
    "    '?*x我想要?*y': ['?x想问你，你觉得?y有什么意义呢?', \n",
    "                  '为什么你想?y', \n",
    "                  '?x觉得... 你可以想想你很快就可以有?y了', \n",
    "                  '你看?x像?y不', \n",
    "                  '我看你就像?y'],\n",
    "    '?*x喜欢?*y': ['喜欢?y的哪里？', '?y有什么好的呢？', '你想要?y吗？'],\n",
    "    '?*x讨厌?*y': ['?y怎么会那么讨厌呢?', '讨厌?y的哪里？', '?y有什么不好呢？', '你不想要?y吗？'],\n",
    "    '?*xAI?*y': ['你为什么要提AI的事情？', '你为什么觉得AI要解决你的问题？'],\n",
    "    '?*x机器人?*y': ['你为什么要提机器人的事情？', '你为什么觉得机器人要解决你的问题？'],\n",
    "    '?*x对不起?*y': ['不用道歉', '你为什么觉得你需要道歉呢?'],\n",
    "    '?*x我记得?*y': ['你经常会想起这个吗？', '除了?y你还会想起什么吗？', '你为什么和我提起?y'],\n",
    "    '?*x如果?*y': ['你真的觉得?y会发生吗？', '你希望?y吗?', '真的吗？如果?y的话', '关于?y你怎么想？'],\n",
    "    '?*x我?*z梦见?*y':['真的吗? --- ?y', '你在醒着的时候，以前想象过?y吗？', '你以前梦见过?y吗'],\n",
    "    '?*x妈妈?*y': ['你家里除了?y还有谁?', '嗯嗯，多说一点和你家里有关系的', '她对你影响很大吗？'],\n",
    "    '?*x爸爸?*y': ['你家里除了?y还有谁?', \n",
    "                 '嗯嗯，多说一点和你家里有关系的',\n",
    "                 '他对你影响很大吗？', \n",
    "                 '每当你想起你爸爸的时候， 你还会想起其他的吗?'],\n",
    "    '?*x我愿意?*y': ['我可以帮你?y吗？', '你可以解释一下，为什么想?y'],\n",
    "    '?*x我很难过，因为?*y': ['我听到你这么说， 也很难过', '?y不应该让你这么难过的'],\n",
    "    '?*x难过?*y': ['我听到你这么说， 也很难过',\n",
    "                 '不应该让你这么难过的，你觉得你拥有什么，就会不难过?',\n",
    "                 '你觉得事情变成什么样，你就不难过了?'],\n",
    "    '?*x就像?*y': ['你觉得?x和?y有什么相似性？', '?x和?y真的有关系吗？', '怎么说？'],\n",
    "    '?*x和?*y都?*z': ['你觉得?z有什么问题吗?', '?z会对你有什么影响呢?'],\n",
    "    '?*x和?*y一样?*z': ['你觉得?z有什么问题吗?', '?z会对你有什么影响呢?'],\n",
    "    '?*x我是?*y': ['真的吗？', '?x想告诉你，或许我早就知道你是?y', '你为什么现在才告诉我你是?y'],\n",
    "    '?*x我是?*y吗': ['如果你是?y会怎么样呢？', '你觉得你是?y吗', '如果你是?y，那一位着什么?'],\n",
    "    '?*x你是?*y吗':  ['你为什么会对我是不是?y感兴趣?', '那你希望我是?y吗', '你要是喜欢， 我就会是?y'],\n",
    "    '?*x你是?*y' : ['为什么你觉得我是?y'],\n",
    "    '?*x因为?*y' : ['?y是真正的原因吗？', '你觉得会有其他原因吗?'],\n",
    "    '?*x我不能?*y': ['你或许现在就能?*y', '如果你能?*y,会怎样呢？'],\n",
    "    '?*x我觉得?*y': ['你经常这样感觉吗？', '除了到这个，你还有什么其他的感觉吗？'],\n",
    "    '?*x我?*y你?*z': ['其实很有可能我们互相?y'],\n",
    "    '?*x你为什么不?*y': ['你自己为什么不?y', '你觉得我不会?y', '等我心情好了，我就?y'],\n",
    "    '?*x好的?*y': ['好的', '你是一个很正能量的人'],\n",
    "    '?*x嗯嗯?*y': ['好的', '你是一个很正能量的人'],\n",
    "    '?*x不嘛?*y': ['为什么不？', '你有一点负能量', '你说 不，是想表达不想的意思吗？'],\n",
    "    '?*x不要?*y': ['为什么不？', '你有一点负能量', '你说 不，是想表达不想的意思吗？'],\n",
    "    '?*x有些人?*y': ['具体是哪些人呢?'],\n",
    "    '?*x有的人?*y': ['具体是哪些人呢?'],\n",
    "    '?*x某些人?*y': ['具体是哪些人呢?'],\n",
    "    '?*x每个人?*y': ['我确定不是人人都是', '你能想到一点特殊情况吗？', '例如谁？', '你看到的其实只是一小部分人'],\n",
    "    '?*x所有人?*y': ['我确定不是人人都是', '你能想到一点特殊情况吗？', '例如谁？', '你看到的其实只是一小部分人'],\n",
    "    '?*x总是?*y': ['你能想到一些其他情况吗?', '例如什么时候?', '你具体是说哪一次？', '真的---总是吗？'],\n",
    "    '?*x一直?*y': ['你能想到一些其他情况吗?', '例如什么时候?', '你具体是说哪一次？', '真的---总是吗？'],\n",
    "    '?*x或许?*y': ['你看起来不太确定'],\n",
    "    '?*x可能?*y': ['你看起来不太确定'],\n",
    "    '?*x他们是?*y吗？': ['你觉得他们可能不是?y？'],\n",
    "    '?*x': ['很有趣', '请继续', '我不太确定我很理解你说的, 能稍微详细解释一下吗?']\n",
    "}"
   ]
  },
  {
   "cell_type": "code",
   "execution_count": 20,
   "metadata": {},
   "outputs": [
    {
     "name": "stdout",
     "output_type": "stream",
     "text": [
      "你说 不，是想表达不想的意思吗？\n",
      "你有一点负能量\n",
      "你说 不，是想表达不想的意思吗？\n",
      "为什么不？\n",
      "为什么不？\n"
     ]
    }
   ],
   "source": [
    "for _ in range(5):\n",
    "    ans_str = get_response_ch('我不要苹果', rules_ch)\n",
    "    print(ans_str)"
   ]
  },
  {
   "cell_type": "markdown",
   "metadata": {},
   "source": [
    "### 问题3\n",
    "\n",
    "    多设计一些模式，让这个程序变得更好玩，多和大家交流，看看大家有什么好玩的模式"
   ]
  },
  {
   "cell_type": "code",
   "execution_count": 21,
   "metadata": {},
   "outputs": [
    {
     "name": "stdout",
     "output_type": "stream",
     "text": [
      "Input:某些人太狡猾了\n",
      "Response: 具体是哪些人呢?\n",
      "Input:我愿意嫁给你\n",
      "Response: 我可以帮你嫁给你吗？\n",
      "Input:我爸爸是警察\n",
      "Response: 他对你影响很大吗？\n",
      "Input:我爸爸是警察\n",
      "Response: 他对你影响很大吗？\n",
      "Input:我爸爸是警察\n",
      "Response: 每当你想起你爸爸的时候， 你还会想起其他的吗?\n",
      "Input:我妈妈是老师\n",
      "Response: 她对你影响很大吗？\n",
      "Input:我妈妈是教师\n",
      "Response: 嗯嗯，多说一点和你家里有关系的\n",
      "Input:你觉得他们是二货吗\n",
      "Response: 你为什么会对我是不是二货感兴趣?\n",
      "Input:每个人都有自己的生活\n",
      "Response: 你看到的其实只是一小部分人\n",
      "Input:有些人真的很善良\n",
      "Response: 具体是哪些人呢?\n",
      "Input:你为什么不喜欢我\n",
      "Response: 我有什么好的呢？\n",
      "Input:你为什么不喜欢我\n",
      "Response: 我有什么好的呢？\n",
      "Input:你为什么不喜欢我\n",
      "Response: 你想要我吗？\n",
      "Input:你为什么不喜欢我\n",
      "Response: 喜欢我的哪里？\n",
      "Input:你为什么不喜欢我\n",
      "Response: 我有什么好的呢？\n",
      "Input:你为什么不喜欢我\n",
      "Response: 我有什么好的呢？\n",
      "Input:你为什么不喜欢我\n",
      "Response: 我有什么好的呢？\n",
      "Input:你为什么不喜欢我\n",
      "Response: 喜欢我的哪里？\n",
      "Input:你为什么不喜欢我\n",
      "Response: 我有什么好的呢？\n",
      "Input:0\n"
     ]
    }
   ],
   "source": [
    "input_str = ''\n",
    "while True: # 输入0退出\n",
    "    input_str = input(\"Input:\")\n",
    "    if input_str == '0':break\n",
    "    print('Response:',get_response_ch(input_str, rules_ch))"
   ]
  },
  {
   "cell_type": "markdown",
   "metadata": {},
   "source": [
    "### 问题4\n",
    "\n",
    "    1、这样的程序有什么优点？有什么缺点？你有什么可以改进的方法吗？\n",
    "    Ans: 优点：原理简单、易理解；缺点：需要根据模板进行回答、还不够智能；改进：能根据词语自动组成适合于该场景下的句子就好了\n",
    "    2、什么是数据驱动？数据驱动在这个程序里如何体现？\n",
    "    Ans: 数据驱动就是一切规律和结论都是经过数据模型来体现。在程序里面通过各种数值运算来体现。\n",
    "    3、数据驱动与 AI 的关系是什么？\n",
    "    Ans: AI是以海量数据为基础发展而来的。"
   ]
  },
  {
   "cell_type": "code",
   "execution_count": null,
   "metadata": {},
   "outputs": [],
   "source": []
  }
 ],
 "metadata": {
  "kernelspec": {
   "display_name": "Python 3",
   "language": "python",
   "name": "python3"
  },
  "language_info": {
   "codemirror_mode": {
    "name": "ipython",
    "version": 3
   },
   "file_extension": ".py",
   "mimetype": "text/x-python",
   "name": "python",
   "nbconvert_exporter": "python",
   "pygments_lexer": "ipython3",
   "version": "3.6.5"
  }
 },
 "nbformat": 4,
 "nbformat_minor": 2
}
