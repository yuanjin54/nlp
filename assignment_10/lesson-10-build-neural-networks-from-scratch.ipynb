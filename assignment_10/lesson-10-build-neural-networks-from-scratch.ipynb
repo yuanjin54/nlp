{
 "cells": [
  {
   "cell_type": "markdown",
   "metadata": {},
   "source": [
    "# Lecture-10 Build a neural network from sractch\n",
    "\n",
    "## Target: using python and numpy implement a neural network framework.\n",
    "\n",
    "---\n",
    "\n",
    "- forward: Function, how to calculate the inputs\n",
    "- backwards: Function, how to get the gradients when backpropogation\n",
    "- gradients: Mapper, the gradient map the this node of its inputs node\n",
    "- inputs: List, the input nodes of this node\n",
    "- outputs: List, the output node of this node\n",
    "\n",
    "---\n",
    "\n",
    "## 面向对象的方式来组织\n",
    "\n",
    "### 构建基类"
   ]
  },
  {
   "cell_type": "code",
   "execution_count": 1,
   "metadata": {},
   "outputs": [],
   "source": [
    "import numpy as np\n",
    "from sklearn.utils import resample\n",
    "from sklearn.datasets import load_boston\n",
    "import matplotlib.pyplot as plt\n",
    "\n",
    "import warnings\n",
    "warnings.filterwarnings('ignore')"
   ]
  },
  {
   "cell_type": "code",
   "execution_count": 2,
   "metadata": {},
   "outputs": [],
   "source": [
    "class Node:\n",
    "    # 相当于构造器，对于每个节点有多个输入（List）和多个输出（List）\n",
    "    def __init__(self, inputs=[], name=''):\n",
    "        self.inputs = inputs  # 输入节点 list\n",
    "        self.outputs = []     # 输出节点 list\n",
    "        self.name = name      # 可以为每个节点起一个名字\n",
    "        self.gradients = {}   # 节点的梯度\n",
    "        self.value = None     # 节点的值，通过前向计算出来的\n",
    "        \n",
    "        for node in inputs:\n",
    "            node.outputs.append(self)\n",
    "\n",
    "    def forward(self):\n",
    "        raise NotImplemented # NotImplemented 表示该函数是一个抽象函数，子类继承该类需要重写该函数\n",
    "        \n",
    "    def backward(self):\n",
    "        raise NotImplemented\n",
    "    \n",
    "    # 该函数是为了打印类名和节点的名称\n",
    "    def __repr__(self):\n",
    "        return f'< {self.__class__.__name__}:{self.name} >'"
   ]
  },
  {
   "cell_type": "code",
   "execution_count": 3,
   "metadata": {},
   "outputs": [],
   "source": [
    "# Input(Node) 表示 Input 继承 Node\n",
    "class Input(Node):\n",
    "    def __init__(self, name=''):\n",
    "        Node.__init__(self, inputs=[], name=name)\n",
    "        self.name = name\n",
    "    \n",
    "    def forward(self, value=None):\n",
    "        if value is not None: self.value = value\n",
    "        \n",
    "    def backward(self):\n",
    "        self.gradients = {}\n",
    "        for output in self.outputs:\n",
    "            upstream_gradient = output.gradients[self]\n",
    "            self.gradients[self] = upstream_gradient ####"
   ]
  },
  {
   "cell_type": "code",
   "execution_count": 4,
   "metadata": {},
   "outputs": [],
   "source": [
    "class Linear(Node):\n",
    "    def __init__(self, nodes, weights, bias, name=''):\n",
    "        self.node_x = nodes\n",
    "        self.node_w = weights\n",
    "        self.node_b = bias\n",
    "        Node.__init__(self, inputs=[nodes, weights, bias], name=name)\n",
    "        \n",
    "    def forward(self):\n",
    "        self.value = np.dot(self.node_x.value, self.node_w.value) + self.node_b.value\n",
    "        \n",
    "    def backward(self):\n",
    "        for output in self.outputs:\n",
    "            grad_cost = output.gradients[self]\n",
    "            self.gradients[self.node_w] = np.dot(self.node_x.value.T, grad_cost)\n",
    "            self.gradients[self.node_b] = np.sum(grad_cost * 1, axis=0, keepdims=False)\n",
    "            self.gradients[self.node_x] = np.dot(grad_cost, self.node_w.value.T)"
   ]
  },
  {
   "cell_type": "code",
   "execution_count": 5,
   "metadata": {},
   "outputs": [],
   "source": [
    "class Sigmoid(Node):\n",
    "    def __init__(self, node, name=''):\n",
    "        Node.__init__(self, [node], name=name)\n",
    "        self.node_x = node\n",
    "    \n",
    "    def _sigmoid(self, x):\n",
    "        return 1. / (1 + np.exp(-x))\n",
    "    \n",
    "    def forward(self):\n",
    "        self.value = self._sigmoid(self.node_x.value)\n",
    "    \n",
    "    def backward(self):\n",
    "        y = self.value\n",
    "        \n",
    "        self.partial = y * (1 - y) # 求偏导\n",
    "        \n",
    "        for output in self.outputs:\n",
    "            upstream_gradient = output.gradients[self]\n",
    "            self.gradients[self.node_x] = upstream_gradient * self.partial"
   ]
  },
  {
   "cell_type": "code",
   "execution_count": 6,
   "metadata": {},
   "outputs": [],
   "source": [
    "class MSE(Node):\n",
    "    def __init__(self, y_true, y_hat, name=''):\n",
    "        self.y_true_node = y_true\n",
    "        self.y_hat_node = y_hat\n",
    "        Node.__init__(self, inputs=[y_true, y_hat], name=name)\n",
    "    \n",
    "    def forward(self):\n",
    "        y_true_flatten = self.y_true_node.value.reshape(-1, 1)\n",
    "        y_hat_flatten = self.y_hat_node.value.reshape(-1, 1)\n",
    "        self.diff = y_true_flatten - y_hat_flatten\n",
    "        self.value = np.mean(self.diff**2)\n",
    "        \n",
    "    def backward(self):\n",
    "        n = self.y_hat_node.value.shape[0]\n",
    "        self.gradients[self.y_true_node] = (2 / n) * self.diff\n",
    "        self.gradients[self.y_hat_node] =  (-2 / n) * self.diff"
   ]
  },
  {
   "cell_type": "code",
   "execution_count": 7,
   "metadata": {},
   "outputs": [],
   "source": [
    "def training_one_batch(topological_sorted_graph):\n",
    "    # graph 是经过拓扑排序之后的一个list\n",
    "    for node in topological_sorted_graph:\n",
    "        node.forward()\n",
    "        \n",
    "    for node in topological_sorted_graph[::-1]:\n",
    "        node.backward()"
   ]
  },
  {
   "cell_type": "code",
   "execution_count": 8,
   "metadata": {},
   "outputs": [],
   "source": [
    "def topological_sort(data_with_value):\n",
    "    feed_dict = data_with_value \n",
    "    input_nodes = [n for n in feed_dict.keys()]\n",
    "\n",
    "    G = {}\n",
    "    nodes = [n for n in input_nodes]\n",
    "    while len(nodes) > 0:\n",
    "        n = nodes.pop(0)\n",
    "        if n not in G:\n",
    "            G[n] = {'in': set(), 'out': set()}\n",
    "        for m in n.outputs:\n",
    "            if m not in G:\n",
    "                G[m] = {'in': set(), 'out': set()}\n",
    "            G[n]['out'].add(m)\n",
    "            G[m]['in'].add(n)\n",
    "            nodes.append(m)\n",
    "\n",
    "    L = []\n",
    "    S = set(input_nodes)\n",
    "    while len(S) > 0:\n",
    "        n = S.pop()\n",
    "\n",
    "        if isinstance(n, Input):\n",
    "            n.value = feed_dict[n]\n",
    "            ## if n is Input Node, set n'value as \n",
    "            ## feed_dict[n]\n",
    "            ## else, n's value is caculate as its\n",
    "            ## inbounds\n",
    "\n",
    "        L.append(n)\n",
    "        for m in n.outputs:\n",
    "            G[n]['out'].remove(m)\n",
    "            G[m]['in'].remove(n)\n",
    "            # if no other incoming edges add to S\n",
    "            if len(G[m]['in']) == 0:\n",
    "                S.add(m)\n",
    "    return L"
   ]
  },
  {
   "cell_type": "code",
   "execution_count": 9,
   "metadata": {},
   "outputs": [],
   "source": [
    "def sgd_update(trainable_nodes, learning_rate=1e-2):\n",
    "    for t in trainable_nodes:\n",
    "        t.value += -1 * learning_rate * t.gradients[t]"
   ]
  },
  {
   "cell_type": "code",
   "execution_count": 10,
   "metadata": {},
   "outputs": [],
   "source": [
    "data = load_boston()\n",
    "_X = data['data']\n",
    "_y = data['target']\n",
    "\n",
    "features = _X.shape[1]\n",
    "_X = (_X - _X.mean(axis=0)) / _X.std(axis=0)\n",
    "\n",
    "hidden_layer_1_nodes = 32\n",
    "hidden_layer_2_nodes = 32\n",
    "\n",
    "_W1, _b1 = np.random.randn(features, hidden_layer_1_nodes), np.zeros(hidden_layer_2_nodes)\n",
    "_W2, _b2 = np.random.randn(hidden_layer_2_nodes, 1), np.zeros(1)"
   ]
  },
  {
   "cell_type": "markdown",
   "metadata": {},
   "source": [
    "### Build Graph"
   ]
  },
  {
   "cell_type": "code",
   "execution_count": 11,
   "metadata": {},
   "outputs": [],
   "source": [
    "X, y = Input(name='X'), Input(name='y')  # tensorflow -> placeholder\n",
    "W1, b1 = Input(name='W1'), Input(name='b1')\n",
    "W2, b2 = Input(name='W2'), Input(name='b2')"
   ]
  },
  {
   "cell_type": "code",
   "execution_count": 12,
   "metadata": {},
   "outputs": [],
   "source": [
    "linear_output = Linear(X, W1, b1, name='L1')\n",
    "sigmoid_output = Sigmoid(linear_output, name='sigmoid')\n",
    "yhat = Linear(sigmoid_output, W2, b2, name='L2')\n",
    "loss = MSE(y, yhat, name='MSE')"
   ]
  },
  {
   "cell_type": "code",
   "execution_count": 13,
   "metadata": {},
   "outputs": [],
   "source": [
    "input_node_with_value = {  # -> feed_dict \n",
    "    X: _X, \n",
    "    y: _y, \n",
    "    W1: _W1, \n",
    "    W2: _W2, \n",
    "    b1: _b1, \n",
    "    b2: _b2\n",
    "}"
   ]
  },
  {
   "cell_type": "code",
   "execution_count": 14,
   "metadata": {},
   "outputs": [],
   "source": [
    "graph = topological_sort(input_node_with_value)"
   ]
  },
  {
   "cell_type": "code",
   "execution_count": 15,
   "metadata": {},
   "outputs": [
    {
     "data": {
      "text/plain": [
       "[< Input:b2 >,\n",
       " < Input:b1 >,\n",
       " < Input:W1 >,\n",
       " < Input:W2 >,\n",
       " < Input:X >,\n",
       " < Input:y >,\n",
       " < Linear:L1 >,\n",
       " < Sigmoid:sigmoid >,\n",
       " < Linear:L2 >,\n",
       " < MSE:MSE >]"
      ]
     },
     "execution_count": 15,
     "metadata": {},
     "output_type": "execute_result"
    }
   ],
   "source": [
    "graph"
   ]
  },
  {
   "cell_type": "code",
   "execution_count": 16,
   "metadata": {},
   "outputs": [
    {
     "name": "stdout",
     "output_type": "stream",
     "text": [
      "Epoch: 100, loss = 10.428\n",
      "Epoch: 200, loss = 7.383\n",
      "Epoch: 300, loss = 6.161\n",
      "Epoch: 400, loss = 5.331\n",
      "Epoch: 500, loss = 4.670\n",
      "Epoch: 600, loss = 4.152\n",
      "Epoch: 700, loss = 3.730\n",
      "Epoch: 800, loss = 3.370\n",
      "Epoch: 900, loss = 3.059\n",
      "Epoch: 1000, loss = 2.791\n",
      "Epoch: 1100, loss = 2.562\n",
      "Epoch: 1200, loss = 2.371\n",
      "Epoch: 1300, loss = 2.212\n",
      "Epoch: 1400, loss = 2.076\n",
      "Epoch: 1500, loss = 1.960\n",
      "Epoch: 1600, loss = 1.858\n",
      "Epoch: 1700, loss = 1.766\n",
      "Epoch: 1800, loss = 1.683\n",
      "Epoch: 1900, loss = 1.607\n",
      "Epoch: 2000, loss = 1.538\n",
      "Epoch: 2100, loss = 1.473\n",
      "Epoch: 2200, loss = 1.413\n",
      "Epoch: 2300, loss = 1.357\n",
      "Epoch: 2400, loss = 1.305\n",
      "Epoch: 2500, loss = 1.256\n",
      "Epoch: 2600, loss = 1.210\n",
      "Epoch: 2700, loss = 1.167\n",
      "Epoch: 2800, loss = 1.127\n",
      "Epoch: 2900, loss = 1.090\n",
      "Epoch: 3000, loss = 1.056\n",
      "Epoch: 3100, loss = 1.025\n",
      "Epoch: 3200, loss = 0.995\n",
      "Epoch: 3300, loss = 0.968\n",
      "Epoch: 3400, loss = 0.943\n",
      "Epoch: 3500, loss = 0.920\n",
      "Epoch: 3600, loss = 0.899\n",
      "Epoch: 3700, loss = 0.880\n",
      "Epoch: 3800, loss = 0.862\n",
      "Epoch: 3900, loss = 0.846\n",
      "Epoch: 4000, loss = 0.831\n",
      "Epoch: 4100, loss = 0.817\n",
      "Epoch: 4200, loss = 0.803\n",
      "Epoch: 4300, loss = 0.791\n",
      "Epoch: 4400, loss = 0.778\n",
      "Epoch: 4500, loss = 0.767\n",
      "Epoch: 4600, loss = 0.755\n",
      "Epoch: 4700, loss = 0.744\n",
      "Epoch: 4800, loss = 0.732\n",
      "Epoch: 4900, loss = 0.721\n",
      "Epoch: 5000, loss = 0.711\n",
      "Epoch: 5100, loss = 0.700\n",
      "Epoch: 5200, loss = 0.690\n",
      "Epoch: 5300, loss = 0.680\n",
      "Epoch: 5400, loss = 0.670\n",
      "Epoch: 5500, loss = 0.661\n",
      "Epoch: 5600, loss = 0.652\n",
      "Epoch: 5700, loss = 0.644\n",
      "Epoch: 5800, loss = 0.635\n",
      "Epoch: 5900, loss = 0.628\n",
      "Epoch: 6000, loss = 0.620\n",
      "Epoch: 6100, loss = 0.613\n",
      "Epoch: 6200, loss = 0.606\n",
      "Epoch: 6300, loss = 0.599\n",
      "Epoch: 6400, loss = 0.593\n",
      "Epoch: 6500, loss = 0.586\n",
      "Epoch: 6600, loss = 0.580\n",
      "Epoch: 6700, loss = 0.574\n",
      "Epoch: 6800, loss = 0.569\n",
      "Epoch: 6900, loss = 0.563\n",
      "Epoch: 7000, loss = 0.558\n",
      "Epoch: 7100, loss = 0.552\n",
      "Epoch: 7200, loss = 0.547\n",
      "Epoch: 7300, loss = 0.542\n",
      "Epoch: 7400, loss = 0.537\n",
      "Epoch: 7500, loss = 0.532\n",
      "Epoch: 7600, loss = 0.528\n",
      "Epoch: 7700, loss = 0.523\n",
      "Epoch: 7800, loss = 0.518\n",
      "Epoch: 7900, loss = 0.514\n",
      "Epoch: 8000, loss = 0.509\n"
     ]
    }
   ],
   "source": [
    "losses = []\n",
    "epochs = 8000\n",
    "batch_size = 64\n",
    "n_samples = _X.shape[0]\n",
    "n_batches = (n_samples-1) // batch_size+1\n",
    "lr = 1e-2\n",
    "\n",
    "for i in range(epochs):\n",
    "    loss = .0\n",
    "    \n",
    "    for batch in range(n_batches):\n",
    "        #indices = np.random.choice(range(X_.shape[0]), size=10, replace=True)\n",
    "        #X_batch = X_[indices]\n",
    "        #y_batch = y_[indices]\n",
    "#         X_batch, y_batch = resample(_X, _y, n_samples=batch_size)\n",
    "        \n",
    "#         X.value = X_batch\n",
    "#         y.value = y_batch\n",
    "        \n",
    "#         input_node_with_value = {  # -> feed_dict \n",
    "#             X: X_batch, \n",
    "#             y: y_batch, \n",
    "#             W1: W1.value, \n",
    "#             W2: W2.value, \n",
    "#             b1: b1.value, \n",
    "#             b2: b2.value,\n",
    "#         }\n",
    "        \n",
    "#         graph = topological_sort(input_node_with_value)\n",
    "\n",
    "        start_i = batch * batch_size\n",
    "        end_i = start_i + batch_size\n",
    "        xb, yb = _X[start_i:end_i], _y[start_i:end_i]\n",
    "        X.value, y.value = xb, yb\n",
    "        \n",
    "        training_one_batch(graph)\n",
    "        \n",
    "        learning_rate = 1e-3\n",
    "        \n",
    "        sgd_update(trainable_nodes=[W1, W2, b1, b2], learning_rate=lr)\n",
    "        \n",
    "        loss += graph[-1].value\n",
    "        \n",
    "    if (i + 1) % 100 == 0:\n",
    "        print('Epoch: {}, loss = {:.3f}'.format(i+1, loss/n_batches))\n",
    "        losses.append(loss)\n",
    "        "
   ]
  },
  {
   "cell_type": "code",
   "execution_count": 17,
   "metadata": {},
   "outputs": [
    {
     "data": {
      "text/plain": [
       "[<matplotlib.lines.Line2D at 0x11f804518>]"
      ]
     },
     "execution_count": 17,
     "metadata": {},
     "output_type": "execute_result"
    },
    {
     "data": {
      "image/png": "[encoded data removed]",
      "text/plain": [
       "<Figure size 432x288 with 1 Axes>"
      ]
     },
     "metadata": {
      "needs_background": "light"
     },
     "output_type": "display_data"
    }
   ],
   "source": [
    "plt.plot(losses)"
   ]
  },
  {
   "cell_type": "code",
   "execution_count": null,
   "metadata": {},
   "outputs": [],
   "source": []
  }
 ],
 "metadata": {
  "kernelspec": {
   "display_name": "venv",
   "language": "python",
   "name": "venv"
  },
  "language_info": {
   "codemirror_mode": {
    "name": "ipython",
    "version": 3
   },
   "file_extension": ".py",
   "mimetype": "text/x-python",
   "name": "python",
   "nbconvert_exporter": "python",
   "pygments_lexer": "ipython3",
   "version": "3.6.5"
  }
 },
 "nbformat": 4,
 "nbformat_minor": 2
}
