{
 "cells": [
  {
   "cell_type": "markdown",
   "metadata": {},
   "source": [
    "## Assignment-04 基于维基百科的词向量构建"
   ]
  },
  {
   "cell_type": "markdown",
   "metadata": {},
   "source": [
    "## Step-01: Download Wikipedia Chinese Corpus: \n",
    "    \n",
    "    Download Url: https://dumps.wikimedia.org/zhwiki/20190720/"
   ]
  },
  {
   "cell_type": "markdown",
   "metadata": {},
   "source": [
    "## Step-02: Using https://github.com/attardi/wikiextractor to extract the wikipedia corpus\n",
    "\n",
    "    下载 wikiextractor 解析下载的 xxx.xml.bz2 包。\n",
    "    \n",
    "    后台执行指令：\n",
    "    python wikiextractor/WikiExtractor.py -o data/zhwiki zhwiki-20190720-pages-articles-multistream.xml.bz2"
   ]
  },
  {
   "cell_type": "markdown",
   "metadata": {},
   "source": [
    "## Step-03: Using gensim get word vectors: \n",
    "\n",
    "    Reference: \n",
    "+ https://radimrehurek.com/gensim/models/word2vec.html\n",
    "+ https://www.kaggle.com/jeffd23/visualizing-word-vectors-with-t-sne\n",
    "\n",
    "    1、遍历文件夹 zhwiki 下面的所有子文件\n",
    "    \n",
    "    2、读取每一个文档内容\n",
    "    \n",
    "    3、繁体转简体\n",
    "       from opencc import OpenCC\n",
    "       from hanziconv import HanziConv\n",
    "    \n",
    "    4、jieba 分词\n",
    "    \n",
    "    5、去除非中文词\n",
    "    \n",
    "    6、保存词料库\n",
    "    \n",
    "    7、gensim 训练词模型\n",
    "       sentences = LineSentence(CUT_WORDS_RESULT)\n",
    "       model = Word2Vec(sentences, size=300, min_count=100, window=7)\n",
    "       model.save('save_path')\n",
    "    \n",
    "    8、预测\n",
    "       model = Word2Vec.load('save_path')\n",
    "       s_1 = model.similarity('word1', 'word2') # 查看两个词的相似度\n",
    "       s_2 = model.most_similar('word') # 查看和这个词最相关的几个词\n",
    "       print(model.wv['word']) # 查看某个词的词向量 \n",
    "    \n",
    "    9、可视化\n",
    "       Using visualization tools: https://www.kaggle.com/jeffd23/visualizing-word-vectors-with-t-sne"
   ]
  },
  {
   "cell_type": "code",
   "execution_count": 9,
   "metadata": {},
   "outputs": [
    {
     "name": "stdout",
     "output_type": "stream",
     "text": [
      "繁体转简体：基礎數學的知識與運用總是個人與團體生活中不可或缺的一環 ——> 基础数学的知识与运用总是个人与团体生活中不可或缺的一环\n",
      "简体转繁体：基础数学的知识与运用总是个人与团体生活中不可或缺的一环 ——> 基礎數學的知識與運用總是個人與團體生活中不可或缺的一環\n"
     ]
    }
   ],
   "source": [
    "from opencc import OpenCC\n",
    "# 繁体转简体\n",
    "t = '基礎數學的知識與運用總是個人與團體生活中不可或缺的一環'\n",
    "\n",
    "cc = OpenCC('t2s')\n",
    "s = cc.convert(t)\n",
    "print('繁体转简体：' + t + ' ——> ' + s)\n",
    "\n",
    "cc = OpenCC('s2t')\n",
    "t = cc.convert(s)\n",
    "print('简体转繁体：' + s + ' ——> ' + t)"
   ]
  },
  {
   "cell_type": "code",
   "execution_count": 10,
   "metadata": {},
   "outputs": [
    {
     "name": "stdout",
     "output_type": "stream",
     "text": [
      "繁体转简体：基礎數學的知識與運用總是個人與團體生活中不可或缺的一環 ——> 基础数学的知识与运用总是个人与团体生活中不可或缺的一环\n",
      "简体转繁体：基础数学的知识与运用总是个人与团体生活中不可或缺的一环 ——> 基礎數學的知識與運用總是個人與團體生活中不可或缺的一環\n"
     ]
    }
   ],
   "source": [
    "from hanziconv import HanziConv\n",
    "# 繁体转简体\n",
    "t = '基礎數學的知識與運用總是個人與團體生活中不可或缺的一環'\n",
    "\n",
    "s = HanziConv.toSimplified(t)\n",
    "print('繁体转简体：' + t + ' ——> ' + s)\n",
    "\n",
    "t = HanziConv.toTraditional(s)\n",
    "print('简体转繁体：' + s + ' ——> ' + t)"
   ]
  },
  {
   "cell_type": "code",
   "execution_count": null,
   "metadata": {},
   "outputs": [],
   "source": []
  },
  {
   "cell_type": "code",
   "execution_count": null,
   "metadata": {},
   "outputs": [],
   "source": []
  }
 ],
 "metadata": {
  "kernelspec": {
   "display_name": "Python 3",
   "language": "python",
   "name": "python3"
  },
  "language_info": {
   "codemirror_mode": {
    "name": "ipython",
    "version": 3
   },
   "file_extension": ".py",
   "mimetype": "text/x-python",
   "name": "python",
   "nbconvert_exporter": "python",
   "pygments_lexer": "ipython3",
   "version": "3.6.5"
  }
 },
 "nbformat": 4,
 "nbformat_minor": 2
}
