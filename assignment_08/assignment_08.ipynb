{
 "cells": [
  {
   "cell_type": "markdown",
   "metadata": {},
   "source": [
    "# 描述：\n",
    "\n",
    "    报社等相关的机构，往往会遇到一个问题，就是别的机构使用他们的文章但没有标明来源，这种属于抄袭的现象。在本次任务中，我们将解决新华社的文章被抄袭引用的问题。\n",
    "    在给定的数据集合中，存在一些新闻语料来自新华社，但是其来源并不是新华社，请设计技巧学习模型解决该问题（判别该文章是不是抄袭新华社的）。\n",
    "    \n",
    "    参考资料：\n",
    "    https://pandas.pydata.org/pandas-docs/stable/reference/api/pandas.DataFrame.html"
   ]
  },
  {
   "cell_type": "code",
   "execution_count": 2,
   "metadata": {},
   "outputs": [
    {
     "name": "stdout",
     "output_type": "stream",
     "text": [
      "Using matplotlib backend: MacOSX\n"
     ]
    }
   ],
   "source": [
    "import numpy as np\n",
    "import matplotlib.pyplot as plt\n",
    "import pandas as pd\n",
    "import seaborn as sns\n",
    "import jieba\n",
    "import re\n",
    "import warnings\n",
    "import time\n",
    "from sklearn.feature_extraction.text import TfidfVectorizer\n",
    "%matplotlib\n",
    "warnings.filterwarnings('ignore')"
   ]
  },
  {
   "cell_type": "markdown",
   "metadata": {},
   "source": [
    "## 数据分析"
   ]
  },
  {
   "cell_type": "code",
   "execution_count": 3,
   "metadata": {},
   "outputs": [
    {
     "data": {
      "text/html": [
       "<div>\n",
       "<style scoped>\n",
       "    .dataframe tbody tr th:only-of-type {\n",
       "        vertical-align: middle;\n",
       "    }\n",
       "\n",
       "    .dataframe tbody tr th {\n",
       "        vertical-align: top;\n",
       "    }\n",
       "\n",
       "    .dataframe thead th {\n",
       "        text-align: right;\n",
       "    }\n",
       "</style>\n",
       "<table border=\"1\" class=\"dataframe\">\n",
       "  <thead>\n",
       "    <tr style=\"text-align: right;\">\n",
       "      <th></th>\n",
       "      <th>id</th>\n",
       "      <th>author</th>\n",
       "      <th>source</th>\n",
       "      <th>content</th>\n",
       "      <th>feature</th>\n",
       "      <th>title</th>\n",
       "      <th>url</th>\n",
       "    </tr>\n",
       "  </thead>\n",
       "  <tbody>\n",
       "    <tr>\n",
       "      <th>0</th>\n",
       "      <td>89617</td>\n",
       "      <td>NaN</td>\n",
       "      <td>快科技@http://www.kkj.cn/</td>\n",
       "      <td>此外，自本周（6月12日）起，除小米手机6等15款机型外，其余机型已暂停更新发布（含开发版/...</td>\n",
       "      <td>{\"type\":\"科技\",\"site\":\"cnbeta\",\"commentNum\":\"37\"...</td>\n",
       "      <td>小米MIUI 9首批机型曝光：共计15款</td>\n",
       "      <td>http://www.cnbeta.com/articles/tech/623597.htm</td>\n",
       "    </tr>\n",
       "    <tr>\n",
       "      <th>1</th>\n",
       "      <td>89616</td>\n",
       "      <td>NaN</td>\n",
       "      <td>快科技@http://www.kkj.cn/</td>\n",
       "      <td>骁龙835作为唯一通过Windows 10桌面平台认证的ARM处理器，高通强调，不会因为只考...</td>\n",
       "      <td>{\"type\":\"科技\",\"site\":\"cnbeta\",\"commentNum\":\"15\"...</td>\n",
       "      <td>骁龙835在Windows 10上的性能表现有望改善</td>\n",
       "      <td>http://www.cnbeta.com/articles/tech/623599.htm</td>\n",
       "    </tr>\n",
       "    <tr>\n",
       "      <th>2</th>\n",
       "      <td>89615</td>\n",
       "      <td>NaN</td>\n",
       "      <td>快科技@http://www.kkj.cn/</td>\n",
       "      <td>此前的一加3T搭载的是3400mAh电池，DashCharge快充规格为5V/4A。\\r\\n...</td>\n",
       "      <td>{\"type\":\"科技\",\"site\":\"cnbeta\",\"commentNum\":\"18\"...</td>\n",
       "      <td>一加手机5细节曝光：3300mAh、充半小时用1天</td>\n",
       "      <td>http://www.cnbeta.com/articles/tech/623601.htm</td>\n",
       "    </tr>\n",
       "    <tr>\n",
       "      <th>3</th>\n",
       "      <td>89614</td>\n",
       "      <td>NaN</td>\n",
       "      <td>新华社</td>\n",
       "      <td>这是6月18日在葡萄牙中部大佩德罗冈地区拍摄的被森林大火烧毁的汽车。新华社记者张立云摄\\r\\n</td>\n",
       "      <td>{\"type\":\"国际新闻\",\"site\":\"环球\",\"commentNum\":\"0\",\"j...</td>\n",
       "      <td>葡森林火灾造成至少62人死亡 政府宣布进入紧急状态（组图）</td>\n",
       "      <td>http://world.huanqiu.com/hot/2017-06/10866126....</td>\n",
       "    </tr>\n",
       "    <tr>\n",
       "      <th>4</th>\n",
       "      <td>89613</td>\n",
       "      <td>胡淑丽_MN7479</td>\n",
       "      <td>深圳大件事</td>\n",
       "      <td>（原标题：44岁女子跑深圳约会网友被拒，暴雨中裸身奔走……）\\r\\n@深圳交警微博称：昨日清...</td>\n",
       "      <td>{\"type\":\"新闻\",\"site\":\"网易热门\",\"commentNum\":\"978\",...</td>\n",
       "      <td>44岁女子约网友被拒暴雨中裸奔 交警为其披衣相随</td>\n",
       "      <td>http://news.163.com/17/0618/00/CN617P3Q0001875...</td>\n",
       "    </tr>\n",
       "  </tbody>\n",
       "</table>\n",
       "</div>"
      ],
      "text/plain": [
       "      id      author                  source  \\\n",
       "0  89617         NaN  快科技@http://www.kkj.cn/   \n",
       "1  89616         NaN  快科技@http://www.kkj.cn/   \n",
       "2  89615         NaN  快科技@http://www.kkj.cn/   \n",
       "3  89614         NaN                     新华社   \n",
       "4  89613  胡淑丽_MN7479                   深圳大件事   \n",
       "\n",
       "                                             content  \\\n",
       "0  此外，自本周（6月12日）起，除小米手机6等15款机型外，其余机型已暂停更新发布（含开发版/...   \n",
       "1  骁龙835作为唯一通过Windows 10桌面平台认证的ARM处理器，高通强调，不会因为只考...   \n",
       "2  此前的一加3T搭载的是3400mAh电池，DashCharge快充规格为5V/4A。\\r\\n...   \n",
       "3    这是6月18日在葡萄牙中部大佩德罗冈地区拍摄的被森林大火烧毁的汽车。新华社记者张立云摄\\r\\n   \n",
       "4  （原标题：44岁女子跑深圳约会网友被拒，暴雨中裸身奔走……）\\r\\n@深圳交警微博称：昨日清...   \n",
       "\n",
       "                                             feature  \\\n",
       "0  {\"type\":\"科技\",\"site\":\"cnbeta\",\"commentNum\":\"37\"...   \n",
       "1  {\"type\":\"科技\",\"site\":\"cnbeta\",\"commentNum\":\"15\"...   \n",
       "2  {\"type\":\"科技\",\"site\":\"cnbeta\",\"commentNum\":\"18\"...   \n",
       "3  {\"type\":\"国际新闻\",\"site\":\"环球\",\"commentNum\":\"0\",\"j...   \n",
       "4  {\"type\":\"新闻\",\"site\":\"网易热门\",\"commentNum\":\"978\",...   \n",
       "\n",
       "                           title  \\\n",
       "0           小米MIUI 9首批机型曝光：共计15款   \n",
       "1     骁龙835在Windows 10上的性能表现有望改善   \n",
       "2      一加手机5细节曝光：3300mAh、充半小时用1天   \n",
       "3  葡森林火灾造成至少62人死亡 政府宣布进入紧急状态（组图）   \n",
       "4       44岁女子约网友被拒暴雨中裸奔 交警为其披衣相随   \n",
       "\n",
       "                                                 url  \n",
       "0     http://www.cnbeta.com/articles/tech/623597.htm  \n",
       "1     http://www.cnbeta.com/articles/tech/623599.htm  \n",
       "2     http://www.cnbeta.com/articles/tech/623601.htm  \n",
       "3  http://world.huanqiu.com/hot/2017-06/10866126....  \n",
       "4  http://news.163.com/17/0618/00/CN617P3Q0001875...  "
      ]
     },
     "execution_count": 3,
     "metadata": {},
     "output_type": "execute_result"
    }
   ],
   "source": [
    "# 导入数据\n",
    "filename = '../data_sets/sqlResult_1558435.csv'\n",
    "all_data = pd.read_csv(filename, encoding='gb18030')\n",
    "all_data.head()"
   ]
  },
  {
   "cell_type": "code",
   "execution_count": 4,
   "metadata": {},
   "outputs": [
    {
     "name": "stdout",
     "output_type": "stream",
     "text": [
      "['id', 'author', 'source', 'content', 'feature', 'title', 'url']\n"
     ]
    }
   ],
   "source": [
    "# 查看 table_labels\n",
    "print(all_data.columns.values.tolist())"
   ]
  },
  {
   "cell_type": "code",
   "execution_count": 5,
   "metadata": {},
   "outputs": [
    {
     "name": "stdout",
     "output_type": "stream",
     "text": [
      "<class 'pandas.core.frame.DataFrame'>\n",
      "RangeIndex: 89611 entries, 0 to 89610\n",
      "Data columns (total 7 columns):\n",
      "id         89611 non-null int64\n",
      "author     79396 non-null object\n",
      "source     89609 non-null object\n",
      "content    87054 non-null object\n",
      "feature    89611 non-null object\n",
      "title      89577 non-null object\n",
      "url        87144 non-null object\n",
      "dtypes: int64(1), object(6)\n",
      "memory usage: 4.8+ MB\n",
      "None\n"
     ]
    }
   ],
   "source": [
    "# 查看整体数据的情况\n",
    "print(all_data.info())"
   ]
  },
  {
   "cell_type": "code",
   "execution_count": 6,
   "metadata": {},
   "outputs": [
    {
     "data": {
      "text/plain": [
       "(78661, 0.8778051801676133)"
      ]
     },
     "execution_count": 6,
     "metadata": {},
     "output_type": "execute_result"
    }
   ],
   "source": [
    "# 计算新华社文章所占的比例\n",
    "xinhua_news = all_data[all_data['source'] == '新华社']\n",
    "len(xinhua_news), len(xinhua_news)/len(all_data)"
   ]
  },
  {
   "cell_type": "markdown",
   "metadata": {},
   "source": [
    "## 数据预处理"
   ]
  },
  {
   "cell_type": "code",
   "execution_count": 7,
   "metadata": {},
   "outputs": [],
   "source": [
    "all_data = all_data.dropna(subset=['content'])"
   ]
  },
  {
   "cell_type": "code",
   "execution_count": 8,
   "metadata": {},
   "outputs": [
    {
     "data": {
      "text/plain": [
       "(87054, 7)"
      ]
     },
     "execution_count": 8,
     "metadata": {},
     "output_type": "execute_result"
    }
   ],
   "source": [
    "all_data.shape"
   ]
  },
  {
   "cell_type": "code",
   "execution_count": 9,
   "metadata": {},
   "outputs": [],
   "source": [
    "# 添加一列 label，来源于新华社的为1，其他为0\n",
    "all_data['label'] = all_data['source'].apply(lambda x: 1 if x == '新华社' else 0)"
   ]
  },
  {
   "cell_type": "code",
   "execution_count": 10,
   "metadata": {},
   "outputs": [
    {
     "name": "stdout",
     "output_type": "stream",
     "text": [
      "['id', 'author', 'source', 'content', 'feature', 'title', 'url', 'label']\n"
     ]
    }
   ],
   "source": [
    "print(all_data.columns.values.tolist())"
   ]
  },
  {
   "cell_type": "code",
   "execution_count": 11,
   "metadata": {},
   "outputs": [],
   "source": [
    "data = all_data[['content', 'label']]"
   ]
  },
  {
   "cell_type": "code",
   "execution_count": 12,
   "metadata": {},
   "outputs": [
    {
     "data": {
      "text/html": [
       "<div>\n",
       "<style scoped>\n",
       "    .dataframe tbody tr th:only-of-type {\n",
       "        vertical-align: middle;\n",
       "    }\n",
       "\n",
       "    .dataframe tbody tr th {\n",
       "        vertical-align: top;\n",
       "    }\n",
       "\n",
       "    .dataframe thead th {\n",
       "        text-align: right;\n",
       "    }\n",
       "</style>\n",
       "<table border=\"1\" class=\"dataframe\">\n",
       "  <thead>\n",
       "    <tr style=\"text-align: right;\">\n",
       "      <th></th>\n",
       "      <th>content</th>\n",
       "      <th>label</th>\n",
       "    </tr>\n",
       "  </thead>\n",
       "  <tbody>\n",
       "    <tr>\n",
       "      <th>0</th>\n",
       "      <td>此外，自本周（6月12日）起，除小米手机6等15款机型外，其余机型已暂停更新发布（含开发版/...</td>\n",
       "      <td>0</td>\n",
       "    </tr>\n",
       "    <tr>\n",
       "      <th>1</th>\n",
       "      <td>骁龙835作为唯一通过Windows 10桌面平台认证的ARM处理器，高通强调，不会因为只考...</td>\n",
       "      <td>0</td>\n",
       "    </tr>\n",
       "    <tr>\n",
       "      <th>2</th>\n",
       "      <td>此前的一加3T搭载的是3400mAh电池，DashCharge快充规格为5V/4A。\\r\\n...</td>\n",
       "      <td>0</td>\n",
       "    </tr>\n",
       "    <tr>\n",
       "      <th>3</th>\n",
       "      <td>这是6月18日在葡萄牙中部大佩德罗冈地区拍摄的被森林大火烧毁的汽车。新华社记者张立云摄\\r\\n</td>\n",
       "      <td>1</td>\n",
       "    </tr>\n",
       "    <tr>\n",
       "      <th>4</th>\n",
       "      <td>（原标题：44岁女子跑深圳约会网友被拒，暴雨中裸身奔走……）\\r\\n@深圳交警微博称：昨日清...</td>\n",
       "      <td>0</td>\n",
       "    </tr>\n",
       "  </tbody>\n",
       "</table>\n",
       "</div>"
      ],
      "text/plain": [
       "                                             content  label\n",
       "0  此外，自本周（6月12日）起，除小米手机6等15款机型外，其余机型已暂停更新发布（含开发版/...      0\n",
       "1  骁龙835作为唯一通过Windows 10桌面平台认证的ARM处理器，高通强调，不会因为只考...      0\n",
       "2  此前的一加3T搭载的是3400mAh电池，DashCharge快充规格为5V/4A。\\r\\n...      0\n",
       "3    这是6月18日在葡萄牙中部大佩德罗冈地区拍摄的被森林大火烧毁的汽车。新华社记者张立云摄\\r\\n      1\n",
       "4  （原标题：44岁女子跑深圳约会网友被拒，暴雨中裸身奔走……）\\r\\n@深圳交警微博称：昨日清...      0"
      ]
     },
     "execution_count": 12,
     "metadata": {},
     "output_type": "execute_result"
    }
   ],
   "source": [
    "data.head()"
   ]
  },
  {
   "cell_type": "code",
   "execution_count": 13,
   "metadata": {},
   "outputs": [
    {
     "data": {
      "text/plain": [
       "8393"
      ]
     },
     "execution_count": 13,
     "metadata": {},
     "output_type": "execute_result"
    }
   ],
   "source": [
    "len(data[data['label'] == 0])"
   ]
  },
  {
   "cell_type": "code",
   "execution_count": 14,
   "metadata": {},
   "outputs": [],
   "source": [
    "data_0 = data[data['label'] == 0]\n",
    "data_1 = data[data['label'] == 1].sample(n=len(data_0),replace=False, random_state=None)"
   ]
  },
  {
   "cell_type": "code",
   "execution_count": 15,
   "metadata": {},
   "outputs": [
    {
     "data": {
      "text/plain": [
       "((8393, 2), (8393, 2))"
      ]
     },
     "execution_count": 15,
     "metadata": {},
     "output_type": "execute_result"
    }
   ],
   "source": [
    "data_0.shape, data_1.shape"
   ]
  },
  {
   "cell_type": "code",
   "execution_count": 16,
   "metadata": {},
   "outputs": [],
   "source": [
    "df = data_0.merge(data_1, how='outer')"
   ]
  },
  {
   "cell_type": "code",
   "execution_count": 17,
   "metadata": {},
   "outputs": [
    {
     "data": {
      "text/plain": [
       "(16786, 2)"
      ]
     },
     "execution_count": 17,
     "metadata": {},
     "output_type": "execute_result"
    }
   ],
   "source": [
    "df.shape"
   ]
  },
  {
   "cell_type": "code",
   "execution_count": 18,
   "metadata": {},
   "outputs": [],
   "source": [
    "df.index = range(len(df))"
   ]
  },
  {
   "cell_type": "code",
   "execution_count": 19,
   "metadata": {},
   "outputs": [
    {
     "data": {
      "text/html": [
       "<div>\n",
       "<style scoped>\n",
       "    .dataframe tbody tr th:only-of-type {\n",
       "        vertical-align: middle;\n",
       "    }\n",
       "\n",
       "    .dataframe tbody tr th {\n",
       "        vertical-align: top;\n",
       "    }\n",
       "\n",
       "    .dataframe thead th {\n",
       "        text-align: right;\n",
       "    }\n",
       "</style>\n",
       "<table border=\"1\" class=\"dataframe\">\n",
       "  <thead>\n",
       "    <tr style=\"text-align: right;\">\n",
       "      <th></th>\n",
       "      <th>content</th>\n",
       "      <th>label</th>\n",
       "    </tr>\n",
       "  </thead>\n",
       "  <tbody>\n",
       "    <tr>\n",
       "      <th>0</th>\n",
       "      <td>此外，自本周（6月12日）起，除小米手机6等15款机型外，其余机型已暂停更新发布（含开发版/...</td>\n",
       "      <td>0</td>\n",
       "    </tr>\n",
       "    <tr>\n",
       "      <th>1</th>\n",
       "      <td>骁龙835作为唯一通过Windows 10桌面平台认证的ARM处理器，高通强调，不会因为只考...</td>\n",
       "      <td>0</td>\n",
       "    </tr>\n",
       "    <tr>\n",
       "      <th>2</th>\n",
       "      <td>此前的一加3T搭载的是3400mAh电池，DashCharge快充规格为5V/4A。\\r\\n...</td>\n",
       "      <td>0</td>\n",
       "    </tr>\n",
       "    <tr>\n",
       "      <th>3</th>\n",
       "      <td>（原标题：44岁女子跑深圳约会网友被拒，暴雨中裸身奔走……）\\r\\n@深圳交警微博称：昨日清...</td>\n",
       "      <td>0</td>\n",
       "    </tr>\n",
       "    <tr>\n",
       "      <th>4</th>\n",
       "      <td>受到A股被纳入MSCI指数的利好消息刺激，A股市场从周三开始再度上演龙马行情，周四上午金...</td>\n",
       "      <td>0</td>\n",
       "    </tr>\n",
       "  </tbody>\n",
       "</table>\n",
       "</div>"
      ],
      "text/plain": [
       "                                             content  label\n",
       "0  此外，自本周（6月12日）起，除小米手机6等15款机型外，其余机型已暂停更新发布（含开发版/...      0\n",
       "1  骁龙835作为唯一通过Windows 10桌面平台认证的ARM处理器，高通强调，不会因为只考...      0\n",
       "2  此前的一加3T搭载的是3400mAh电池，DashCharge快充规格为5V/4A。\\r\\n...      0\n",
       "3  （原标题：44岁女子跑深圳约会网友被拒，暴雨中裸身奔走……）\\r\\n@深圳交警微博称：昨日清...      0\n",
       "4  　　受到A股被纳入MSCI指数的利好消息刺激，A股市场从周三开始再度上演龙马行情，周四上午金...      0"
      ]
     },
     "execution_count": 19,
     "metadata": {},
     "output_type": "execute_result"
    }
   ],
   "source": [
    "df.head()"
   ]
  },
  {
   "cell_type": "code",
   "execution_count": 20,
   "metadata": {},
   "outputs": [],
   "source": [
    "texts = df['content'] # 内容\n",
    "label = df['label'] # 标签"
   ]
  },
  {
   "cell_type": "markdown",
   "metadata": {},
   "source": [
    "## 文本向量化（使用tf_idf）"
   ]
  },
  {
   "cell_type": "code",
   "execution_count": 21,
   "metadata": {},
   "outputs": [],
   "source": [
    "from tqdm import tqdm # 用于显示进度条的"
   ]
  },
  {
   "cell_type": "code",
   "execution_count": 22,
   "metadata": {},
   "outputs": [],
   "source": [
    "def run_time(f):\n",
    "    '''@param f is a function'''\n",
    "    def warp(n):\n",
    "        s = time.clock()\n",
    "        result = f(n)\n",
    "        e = time.clock()\n",
    "        print('运行时间为：{}秒'.format(e-s))\n",
    "        return result\n",
    "    return warp"
   ]
  },
  {
   "cell_type": "code",
   "execution_count": 23,
   "metadata": {},
   "outputs": [],
   "source": [
    "# 切词\n",
    "@run_time\n",
    "def get_contents(texts):\n",
    "    contents = []\n",
    "    for text in tqdm(texts):\n",
    "        sentence = ''.join(re.findall(r'\\w+', text))\n",
    "        contents.append(' '.join(jieba.cut(sentence)))\n",
    "    return contents"
   ]
  },
  {
   "cell_type": "code",
   "execution_count": 24,
   "metadata": {},
   "outputs": [
    {
     "name": "stderr",
     "output_type": "stream",
     "text": [
      "  0%|          | 0/16786 [00:00<?, ?it/s]Building prefix dict from the default dictionary ...\n",
      "Loading model from cache /var/folders/dp/9d1tlc2926x2djj4c05f3325ps5m7_/T/jieba.cache\n",
      "Loading model cost 0.818 seconds.\n",
      "Prefix dict has been built succesfully.\n",
      "100%|██████████| 16786/16786 [00:48<00:00, 342.94it/s]"
     ]
    },
    {
     "name": "stdout",
     "output_type": "stream",
     "text": [
      "运行时间为：49.046831000000005秒\n"
     ]
    },
    {
     "name": "stderr",
     "output_type": "stream",
     "text": [
      "\n"
     ]
    }
   ],
   "source": [
    "contents = get_contents(texts)"
   ]
  },
  {
   "cell_type": "code",
   "execution_count": 25,
   "metadata": {},
   "outputs": [
    {
     "data": {
      "text/plain": [
       "['此外 自 本周 6 月 12 日起 除 小米 手机 6 等 15 款 机型 外 其余 机型 已 暂停 更新 发布 含 开发 版 体验版 内测 稳定版 暂不受 影响 以 确保 工程师 可以 集中 全部 精力 进行 系统优化 工作 有人 猜测 这 也 是 将 精力 主要 用到 MIUI9 的 研发 之中 MIUI8 去年 5 月 发布 距今已有 一年 有余 也 是 时候 更新换代 了 当然 关于 MIUI9 的 确切 信息 我们 还是 等待 官方消息']"
      ]
     },
     "execution_count": 25,
     "metadata": {},
     "output_type": "execute_result"
    }
   ],
   "source": [
    "contents[0:1]"
   ]
  },
  {
   "cell_type": "code",
   "execution_count": 26,
   "metadata": {},
   "outputs": [],
   "source": [
    "vectorizer = TfidfVectorizer(max_features=500)\n",
    "vectors = vectorizer.fit_transform(contents)"
   ]
  },
  {
   "cell_type": "code",
   "execution_count": 27,
   "metadata": {},
   "outputs": [],
   "source": [
    "X = vectors.toarray()\n",
    "y = label.tolist()"
   ]
  },
  {
   "cell_type": "code",
   "execution_count": 28,
   "metadata": {},
   "outputs": [
    {
     "data": {
      "text/plain": [
       "((16786, 500), 16786)"
      ]
     },
     "execution_count": 28,
     "metadata": {},
     "output_type": "execute_result"
    }
   ],
   "source": [
    "X.shape, len(y)"
   ]
  },
  {
   "cell_type": "markdown",
   "metadata": {},
   "source": [
    "## 构建不同的机器学习模型进行训练"
   ]
  },
  {
   "cell_type": "code",
   "execution_count": 29,
   "metadata": {},
   "outputs": [],
   "source": [
    "# 构建模型\n",
    "from sklearn.model_selection import train_test_split, StratifiedKFold\n",
    "from sklearn.metrics import precision_score, recall_score, f1_score, roc_auc_score\n",
    "\n",
    "from sklearn.model_selection import GridSearchCV\n",
    "\n",
    "from sklearn.neighbors import KNeighborsClassifier\n",
    "from sklearn.linear_model import LogisticRegression\n",
    "from sklearn.naive_bayes import GaussianNB,MultinomialNB\n",
    "from sklearn.ensemble import RandomForestClassifier\n",
    "from sklearn.tree import DecisionTreeClassifier\n",
    "from sklearn.svm import SVC"
   ]
  },
  {
   "cell_type": "code",
   "execution_count": 30,
   "metadata": {},
   "outputs": [],
   "source": [
    "# 拆分数据集\n",
    "X_train, X_test, Y_train, Y_test = train_test_split(X, y, random_state=50, test_size=0.15) # 拆成训练和测试集\n",
    "x_train, x_valid, y_train, y_valid = train_test_split(X_train, Y_train, random_state=50, test_size=0.15) # 拆成训练和验证集"
   ]
  },
  {
   "cell_type": "code",
   "execution_count": 31,
   "metadata": {},
   "outputs": [
    {
     "data": {
      "text/plain": [
       "((14268, 500), (2518, 500), (2141, 500))"
      ]
     },
     "execution_count": 31,
     "metadata": {},
     "output_type": "execute_result"
    }
   ],
   "source": [
    "X_train.shape, X_test.shape, x_valid.shape"
   ]
  },
  {
   "cell_type": "markdown",
   "metadata": {},
   "source": [
    "### KNN"
   ]
  },
  {
   "cell_type": "code",
   "execution_count": 32,
   "metadata": {},
   "outputs": [
    {
     "data": {
      "text/plain": [
       "GridSearchCV(cv='warn', error_score='raise-deprecating',\n",
       "       estimator=KNeighborsClassifier(algorithm='auto', leaf_size=30, metric='minkowski',\n",
       "           metric_params=None, n_jobs=None, n_neighbors=5, p=2,\n",
       "           weights='uniform'),\n",
       "       fit_params=None, iid='warn', n_jobs=4,\n",
       "       param_grid={'n_neighbors': [1, 2, 3, 4, 5]},\n",
       "       pre_dispatch='2*n_jobs', refit=True, return_train_score='warn',\n",
       "       scoring='roc_auc', verbose=0)"
      ]
     },
     "execution_count": 32,
     "metadata": {},
     "output_type": "execute_result"
    }
   ],
   "source": [
    "knn = KNeighborsClassifier()\n",
    "parameters = {'n_neighbors': [i for i in range(1,6)]}\n",
    "gcv = GridSearchCV(knn, parameters, scoring='roc_auc', n_jobs=4)\n",
    "gcv.fit(x_train, y_train)"
   ]
  },
  {
   "cell_type": "code",
   "execution_count": 33,
   "metadata": {},
   "outputs": [
    {
     "data": {
      "text/plain": [
       "{'n_neighbors': 4}"
      ]
     },
     "execution_count": 33,
     "metadata": {},
     "output_type": "execute_result"
    }
   ],
   "source": [
    "gcv.best_params_"
   ]
  },
  {
   "cell_type": "code",
   "execution_count": 34,
   "metadata": {},
   "outputs": [],
   "source": [
    "model_info = \"The model is {}, the parameters are {}.\"\n",
    "result_info = '''\n",
    "Test result: \n",
    "score = {}\n",
    "ps = {}\n",
    "rs = {}\n",
    "f1 = {}\n",
    "ras = {}\n",
    "'''"
   ]
  },
  {
   "cell_type": "code",
   "execution_count": 35,
   "metadata": {},
   "outputs": [
    {
     "data": {
      "text/plain": [
       "KNeighborsClassifier(algorithm='auto', leaf_size=30, metric='minkowski',\n",
       "           metric_params=None, n_jobs=None, n_neighbors=4, p=2,\n",
       "           weights='uniform')"
      ]
     },
     "execution_count": 35,
     "metadata": {},
     "output_type": "execute_result"
    }
   ],
   "source": [
    "knn_best = KNeighborsClassifier(n_neighbors = 4)\n",
    "knn_best.fit(x_train, y_train)"
   ]
  },
  {
   "cell_type": "code",
   "execution_count": 36,
   "metadata": {},
   "outputs": [
    {
     "name": "stdout",
     "output_type": "stream",
     "text": [
      "The model is KNN, the parameters are (n_neighbors = 4).\n",
      "\n",
      "Test result: \n",
      "score = 0.8169079869219991\n",
      "ps = 0.9538258575197889\n",
      "rs = 0.6694444444444444\n",
      "f1 = 0.7867247007616974\n",
      "ras = 0.8800262680210844\n",
      "\n"
     ]
    }
   ],
   "source": [
    "score = knn_best.score(x_valid, y_valid)\n",
    "y_pred = knn_best.predict(x_valid)\n",
    "y_pred_prob = knn_best.predict_proba(x_valid)\n",
    "ps = precision_score(y_valid, y_pred)\n",
    "rs = recall_score(y_valid, y_pred)\n",
    "f1 = f1_score(y_valid, y_pred)\n",
    "ras = roc_auc_score(y_valid, y_pred_prob[:, 1])\n",
    "print(model_info.format(\"KNN\", \"(n_neighbors = 4)\"))\n",
    "print(result_info.format(score, ps, rs, f1, ras))"
   ]
  },
  {
   "cell_type": "markdown",
   "metadata": {},
   "source": [
    "### LogisticRegression"
   ]
  },
  {
   "cell_type": "code",
   "execution_count": 37,
   "metadata": {},
   "outputs": [
    {
     "data": {
      "text/plain": [
       "LogisticRegression(C=1.0, class_weight=None, dual=False, fit_intercept=True,\n",
       "          intercept_scaling=1, max_iter=100, multi_class='warn',\n",
       "          n_jobs=None, penalty='l2', random_state=None, solver='warn',\n",
       "          tol=0.0001, verbose=0, warm_start=False)"
      ]
     },
     "execution_count": 37,
     "metadata": {},
     "output_type": "execute_result"
    }
   ],
   "source": [
    "lr_classifier = LogisticRegression()\n",
    "lr_classifier.fit(x_train, y_train)"
   ]
  },
  {
   "cell_type": "code",
   "execution_count": 38,
   "metadata": {},
   "outputs": [
    {
     "name": "stdout",
     "output_type": "stream",
     "text": [
      "The model is LR, the parameters are (default).\n",
      "\n",
      "Test result: \n",
      "score = 0.9444184960298926\n",
      "ps = 0.9781094527363184\n",
      "rs = 0.9101851851851852\n",
      "f1 = 0.942925659472422\n",
      "ras = 0.9912844276887633\n",
      "\n"
     ]
    }
   ],
   "source": [
    "score = lr_classifier.score(x_valid, y_valid)\n",
    "y_pred = lr_classifier.predict(x_valid)\n",
    "y_pred_prob = lr_classifier.predict_proba(x_valid)\n",
    "ps = precision_score(y_valid, y_pred)\n",
    "rs = recall_score(y_valid, y_pred)\n",
    "f1 = f1_score(y_valid, y_pred)\n",
    "ras = roc_auc_score(y_valid, y_pred_prob[:, 1])\n",
    "print(model_info.format(\"LR\", \"(default)\"))\n",
    "print(result_info.format(score, ps, rs, f1, ras))"
   ]
  },
  {
   "cell_type": "code",
   "execution_count": 39,
   "metadata": {},
   "outputs": [
    {
     "name": "stdout",
     "output_type": "stream",
     "text": [
      "The model is LR, the parameters are (default).\n",
      "\n",
      "Test result: \n",
      "score = 0.9584306398879029\n",
      "ps = 0.9714557564224549\n",
      "rs = 0.9453703703703704\n",
      "f1 = 0.9582355701548569\n",
      "ras = 0.9912844276887633\n",
      "\n"
     ]
    }
   ],
   "source": [
    "lrc = LogisticRegression(C=50)\n",
    "lrc.fit(x_train, y_train)\n",
    "\n",
    "score = lrc.score(x_valid, y_valid)\n",
    "y_pred = lrc.predict(x_valid)\n",
    "y_pred_prob = lr_classifier.predict_proba(x_valid)\n",
    "ps = precision_score(y_valid, y_pred)\n",
    "rs = recall_score(y_valid, y_pred)\n",
    "f1 = f1_score(y_valid, y_pred)\n",
    "ras = roc_auc_score(y_valid, y_pred_prob[:, 1])\n",
    "print(model_info.format(\"LR\", \"(default)\"))\n",
    "print(result_info.format(score, ps, rs, f1, ras))"
   ]
  },
  {
   "cell_type": "markdown",
   "metadata": {},
   "source": [
    "### Naive Bayes\n",
    "\n",
    "    高斯朴素贝叶斯(sklearn.naive_bayes.GaussianNB(priors=None))"
   ]
  },
  {
   "cell_type": "code",
   "execution_count": 40,
   "metadata": {},
   "outputs": [
    {
     "data": {
      "text/plain": [
       "GaussianNB(priors=None, var_smoothing=1e-09)"
      ]
     },
     "execution_count": 40,
     "metadata": {},
     "output_type": "execute_result"
    }
   ],
   "source": [
    "gnb_classifier = GaussianNB()\n",
    "gnb_classifier.fit(x_train, y_train)"
   ]
  },
  {
   "cell_type": "code",
   "execution_count": 41,
   "metadata": {},
   "outputs": [
    {
     "name": "stdout",
     "output_type": "stream",
     "text": [
      "The model is Naive Bayes, the parameters are (GaussianNB).\n",
      "\n",
      "Test result: \n",
      "score = 0.8612797758056983\n",
      "ps = 0.9125395152792413\n",
      "rs = 0.8018518518518518\n",
      "f1 = 0.8536224741251849\n",
      "ras = 0.895738646280588\n",
      "\n"
     ]
    }
   ],
   "source": [
    "score = gnb_classifier.score(x_valid, y_valid)\n",
    "y_pred = gnb_classifier.predict(x_valid)\n",
    "y_pred_prob = gnb_classifier.predict_proba(x_valid)\n",
    "ps = precision_score(y_valid, y_pred)\n",
    "rs = recall_score(y_valid, y_pred)\n",
    "f1 = f1_score(y_valid, y_pred)\n",
    "ras = roc_auc_score(y_valid, y_pred_prob[:, 1])\n",
    "print(model_info.format(\"Naive Bayes\", \"(GaussianNB)\"))\n",
    "print(result_info.format(score, ps, rs, f1, ras))"
   ]
  },
  {
   "cell_type": "markdown",
   "metadata": {},
   "source": [
    "    多项式分布贝叶斯(sklearn.naive_bayes.MultinomialNB(alpha=1.0, fit_prior=True, class_prior=None))"
   ]
  },
  {
   "cell_type": "code",
   "execution_count": 42,
   "metadata": {},
   "outputs": [
    {
     "data": {
      "text/plain": [
       "MultinomialNB(alpha=1.0, class_prior=None, fit_prior=True)"
      ]
     },
     "execution_count": 42,
     "metadata": {},
     "output_type": "execute_result"
    }
   ],
   "source": [
    "mnb_classifier = MultinomialNB()\n",
    "mnb_classifier.fit(x_train, y_train)"
   ]
  },
  {
   "cell_type": "code",
   "execution_count": 43,
   "metadata": {},
   "outputs": [
    {
     "name": "stdout",
     "output_type": "stream",
     "text": [
      "The model is Naive Bayes, the parameters are (MultinomialNB).\n",
      "\n",
      "Test result: \n",
      "score = 0.8589444184960299\n",
      "ps = 0.9322222222222222\n",
      "rs = 0.7768518518518519\n",
      "f1 = 0.8474747474747475\n",
      "ras = 0.9261798792194644\n",
      "\n"
     ]
    }
   ],
   "source": [
    "score = mnb_classifier.score(x_valid, y_valid)\n",
    "y_pred = mnb_classifier.predict(x_valid)\n",
    "y_pred_prob = mnb_classifier.predict_proba(x_valid)\n",
    "ps = precision_score(y_valid, y_pred)\n",
    "rs = recall_score(y_valid, y_pred)\n",
    "f1 = f1_score(y_valid, y_pred)\n",
    "ras = roc_auc_score(y_valid, y_pred_prob[:, 1])\n",
    "print(model_info.format(\"Naive Bayes\", \"(MultinomialNB)\"))\n",
    "print(result_info.format(score, ps, rs, f1, ras))"
   ]
  },
  {
   "cell_type": "markdown",
   "metadata": {},
   "source": [
    "### SVM"
   ]
  },
  {
   "cell_type": "code",
   "execution_count": 44,
   "metadata": {},
   "outputs": [
    {
     "data": {
      "text/plain": [
       "SVC(C=1.0, cache_size=200, class_weight=None, coef0=0.0,\n",
       "  decision_function_shape='ovr', degree=3, gamma='auto_deprecated',\n",
       "  kernel='rbf', max_iter=-1, probability=True, random_state=None,\n",
       "  shrinking=True, tol=0.001, verbose=False)"
      ]
     },
     "execution_count": 44,
     "metadata": {},
     "output_type": "execute_result"
    }
   ],
   "source": [
    "svm_svc = SVC(probability=True)\n",
    "svm_svc.fit(x_train, y_train)"
   ]
  },
  {
   "cell_type": "code",
   "execution_count": 45,
   "metadata": {},
   "outputs": [
    {
     "name": "stdout",
     "output_type": "stream",
     "text": [
      "The model is SVM, the parameters are (SVC).\n",
      "\n",
      "Test result: \n",
      "score = 0.811303129378795\n",
      "ps = 1.0\n",
      "rs = 0.6259259259259259\n",
      "f1 = 0.7699316628701595\n",
      "ras = 0.9612315425699026\n",
      "\n"
     ]
    }
   ],
   "source": [
    "score = svm_svc.score(x_valid, y_valid)\n",
    "y_pred = svm_svc.predict(x_valid)\n",
    "y_pred_prob = svm_svc.predict_proba(x_valid)\n",
    "ps = precision_score(y_valid, y_pred)\n",
    "rs = recall_score(y_valid, y_pred)\n",
    "f1 = f1_score(y_valid, y_pred)\n",
    "ras = roc_auc_score(y_valid, y_pred_prob[:, 1])\n",
    "print(model_info.format(\"SVM\", \"(SVC)\"))\n",
    "print(result_info.format(score, ps, rs, f1, ras))"
   ]
  },
  {
   "cell_type": "code",
   "execution_count": 46,
   "metadata": {},
   "outputs": [
    {
     "name": "stdout",
     "output_type": "stream",
     "text": [
      "The model is SVM, the parameters are (SVC).\n",
      "\n",
      "Test result: \n",
      "score = 0.9420831387202242\n",
      "ps = 0.9799196787148594\n",
      "rs = 0.9037037037037037\n",
      "f1 = 0.9402697495183044\n",
      "ras = 0.9917530631479737\n",
      "\n",
      "运行时间为：173.83277099999998秒\n"
     ]
    }
   ],
   "source": [
    "s = time.clock()\n",
    "svm_svc_c = SVC(C=50.0, probability=True)\n",
    "svm_svc_c.fit(x_train, y_train)\n",
    "\n",
    "score = svm_svc_c.score(x_valid, y_valid)\n",
    "y_pred = svm_svc_c.predict(x_valid)\n",
    "y_pred_prob = svm_svc_c.predict_proba(x_valid)\n",
    "ps = precision_score(y_valid, y_pred)\n",
    "rs = recall_score(y_valid, y_pred)\n",
    "f1 = f1_score(y_valid, y_pred)\n",
    "ras = roc_auc_score(y_valid, y_pred_prob[:, 1])\n",
    "print(model_info.format(\"SVM\", \"(SVC)\"))\n",
    "print(result_info.format(score, ps, rs, f1, ras))\n",
    "e = time.clock()\n",
    "print('运行时间为：{}秒'.format(e-s))"
   ]
  },
  {
   "cell_type": "code",
   "execution_count": 47,
   "metadata": {},
   "outputs": [
    {
     "name": "stdout",
     "output_type": "stream",
     "text": [
      "The model is SVM, the parameters are (SVC).\n",
      "\n",
      "Test result: \n",
      "score = 0.9645025688930406\n",
      "ps = 0.9735849056603774\n",
      "rs = 0.9555555555555556\n",
      "f1 = 0.9644859813084113\n",
      "ras = 0.9932540929242156\n",
      "\n",
      "运行时间为：90.99185499999999秒\n"
     ]
    }
   ],
   "source": [
    "s = time.clock()\n",
    "svm_svc = SVC(C=1000.0, probability=True)\n",
    "svm_svc.fit(x_train, y_train)\n",
    "\n",
    "score = svm_svc.score(x_valid, y_valid)\n",
    "y_pred = svm_svc.predict(x_valid)\n",
    "y_pred_prob = svm_svc.predict_proba(x_valid)\n",
    "ps = precision_score(y_valid, y_pred)\n",
    "rs = recall_score(y_valid, y_pred)\n",
    "f1 = f1_score(y_valid, y_pred)\n",
    "ras = roc_auc_score(y_valid, y_pred_prob[:, 1])\n",
    "print(model_info.format(\"SVM\", \"(SVC)\"))\n",
    "print(result_info.format(score, ps, rs, f1, ras))\n",
    "e = time.clock()\n",
    "print('运行时间为：{}秒'.format(e-s))"
   ]
  },
  {
   "cell_type": "markdown",
   "metadata": {},
   "source": [
    "### DecisionTree"
   ]
  },
  {
   "cell_type": "code",
   "execution_count": 48,
   "metadata": {},
   "outputs": [
    {
     "data": {
      "text/plain": [
       "DecisionTreeClassifier(class_weight=None, criterion='gini', max_depth=None,\n",
       "            max_features=None, max_leaf_nodes=None,\n",
       "            min_impurity_decrease=0.0, min_impurity_split=None,\n",
       "            min_samples_leaf=1, min_samples_split=2,\n",
       "            min_weight_fraction_leaf=0.0, presort=False, random_state=None,\n",
       "            splitter='best')"
      ]
     },
     "execution_count": 48,
     "metadata": {},
     "output_type": "execute_result"
    }
   ],
   "source": [
    "clf_dt = DecisionTreeClassifier(max_depth=None)\n",
    "clf_dt.fit(x_train, y_train)"
   ]
  },
  {
   "cell_type": "code",
   "execution_count": 49,
   "metadata": {},
   "outputs": [
    {
     "name": "stdout",
     "output_type": "stream",
     "text": [
      "The model is DecisionTree, the parameters are (default).\n",
      "\n",
      "Test result: \n",
      "score = 0.9663708547407753\n",
      "ps = 0.9658040665434381\n",
      "rs = 0.9675925925925926\n",
      "f1 = 0.9666975023126734\n",
      "ras = 0.9669022934338674\n",
      "\n"
     ]
    }
   ],
   "source": [
    "score = clf_dt.score(x_valid, y_valid)\n",
    "y_pred = clf_dt.predict(x_valid)\n",
    "y_pred_prob = clf_dt.predict_proba(x_valid)\n",
    "ps = precision_score(y_valid, y_pred)\n",
    "rs = recall_score(y_valid, y_pred)\n",
    "f1 = f1_score(y_valid, y_pred)\n",
    "ras = roc_auc_score(y_valid, y_pred_prob[:, 1])\n",
    "print(model_info.format(\"DecisionTree\", \"(default)\"))\n",
    "print(result_info.format(score, ps, rs, f1, ras))"
   ]
  },
  {
   "cell_type": "code",
   "execution_count": 50,
   "metadata": {},
   "outputs": [
    {
     "name": "stdout",
     "output_type": "stream",
     "text": [
      "The model is DecisionTree, the parameters are (default).\n",
      "\n",
      "Test result: \n",
      "score = 0.9696403549743111\n",
      "ps = 0.9686057248384118\n",
      "rs = 0.9712962962962963\n",
      "f1 = 0.9699491447064261\n",
      "ras = 0.970210667783712\n",
      "\n"
     ]
    }
   ],
   "source": [
    "clf_dd = DecisionTreeClassifier(random_state=100)\n",
    "clf_dd.fit(x_train, y_train)\n",
    "\n",
    "score = clf_dd.score(x_valid, y_valid)\n",
    "y_pred = clf_dd.predict(x_valid)\n",
    "y_pred_prob = clf_dd.predict_proba(x_valid)\n",
    "ps = precision_score(y_valid, y_pred)\n",
    "rs = recall_score(y_valid, y_pred)\n",
    "f1 = f1_score(y_valid, y_pred)\n",
    "ras = roc_auc_score(y_valid, y_pred_prob[:, 1])\n",
    "print(model_info.format(\"DecisionTree\", \"(default)\"))\n",
    "print(result_info.format(score, ps, rs, f1, ras))"
   ]
  },
  {
   "cell_type": "markdown",
   "metadata": {},
   "source": [
    "### RandomForest"
   ]
  },
  {
   "cell_type": "code",
   "execution_count": 51,
   "metadata": {},
   "outputs": [
    {
     "data": {
      "text/plain": [
       "RandomForestClassifier(bootstrap=True, class_weight=None, criterion='gini',\n",
       "            max_depth=None, max_features='auto', max_leaf_nodes=None,\n",
       "            min_impurity_decrease=0.0, min_impurity_split=None,\n",
       "            min_samples_leaf=1, min_samples_split=2,\n",
       "            min_weight_fraction_leaf=0.0, n_estimators=50, n_jobs=None,\n",
       "            oob_score=False, random_state=None, verbose=0,\n",
       "            warm_start=False)"
      ]
     },
     "execution_count": 51,
     "metadata": {},
     "output_type": "execute_result"
    }
   ],
   "source": [
    "clf_rf = RandomForestClassifier(n_estimators=50)\n",
    "clf_rf.fit(x_train, y_train)"
   ]
  },
  {
   "cell_type": "code",
   "execution_count": 52,
   "metadata": {},
   "outputs": [
    {
     "name": "stdout",
     "output_type": "stream",
     "text": [
      "The model is RandomForest, the parameters are (n_estimators=10).\n",
      "\n",
      "Test result: \n",
      "score = 0.9775805698271836\n",
      "ps = 0.9813432835820896\n",
      "rs = 0.9740740740740741\n",
      "f1 = 0.9776951672862454\n",
      "ras = 0.9966820260411212\n",
      "\n"
     ]
    }
   ],
   "source": [
    "score = clf_rf.score(x_valid, y_valid)\n",
    "y_pred = clf_rf.predict(x_valid)\n",
    "y_pred_prob = clf_rf.predict_proba(x_valid)\n",
    "ps = precision_score(y_valid, y_pred)\n",
    "rs = recall_score(y_valid, y_pred)\n",
    "f1 = f1_score(y_valid, y_pred)\n",
    "ras = roc_auc_score(y_valid, y_pred_prob[:, 1])\n",
    "print(model_info.format(\"RandomForest\", \"(n_estimators=10)\"))\n",
    "print(result_info.format(score, ps, rs, f1, ras))"
   ]
  },
  {
   "cell_type": "code",
   "execution_count": 53,
   "metadata": {},
   "outputs": [
    {
     "name": "stdout",
     "output_type": "stream",
     "text": [
      "The model is RandomForest, the parameters are (n_estimators=10).\n",
      "\n",
      "Test result: \n",
      "score = 0.9780476412891173\n",
      "ps = 0.9699727024567789\n",
      "rs = 0.987037037037037\n",
      "f1 = 0.9784304726938963\n",
      "ras = 0.9965882116801061\n",
      "\n"
     ]
    }
   ],
   "source": [
    "clf_rf1 = RandomForestClassifier(n_estimators=100)\n",
    "clf_rf1.fit(x_train, y_train)\n",
    "\n",
    "score = clf_rf1.score(x_valid, y_valid)\n",
    "y_pred = clf_rf1.predict(x_valid)\n",
    "y_pred_prob = clf_rf1.predict_proba(x_valid)  \n",
    "ps = precision_score(y_valid, y_pred)\n",
    "rs = recall_score(y_valid, y_pred)\n",
    "f1 = f1_score(y_valid, y_pred)\n",
    "ras = roc_auc_score(y_valid, y_pred_prob[:, 1])\n",
    "print(model_info.format(\"RandomForest\", \"(n_estimators=10)\"))\n",
    "print(result_info.format(score, ps, rs, f1, ras))"
   ]
  },
  {
   "cell_type": "code",
   "execution_count": 54,
   "metadata": {},
   "outputs": [
    {
     "name": "stdout",
     "output_type": "stream",
     "text": [
      "The model is RandomForest, the parameters are (n_estimators=10).\n",
      "\n",
      "Test result: \n",
      "score = 0.978514712751051\n",
      "ps = 0.9743119266055046\n",
      "rs = 0.9833333333333333\n",
      "f1 = 0.9788018433179724\n",
      "ras = 0.996987468146752\n",
      "\n"
     ]
    }
   ],
   "source": [
    "clf_rf2 = RandomForestClassifier(n_estimators=500)\n",
    "clf_rf2.fit(x_train, y_train)\n",
    "\n",
    "score = clf_rf2.score(x_valid, y_valid)\n",
    "y_pred = clf_rf2.predict(x_valid)\n",
    "y_pred_prob = clf_rf2.predict_proba(x_valid)  \n",
    "ps = precision_score(y_valid, y_pred)\n",
    "rs = recall_score(y_valid, y_pred)\n",
    "f1 = f1_score(y_valid, y_pred)\n",
    "ras = roc_auc_score(y_valid, y_pred_prob[:, 1])\n",
    "print(model_info.format(\"RandomForest\", \"(n_estimators=10)\"))\n",
    "print(result_info.format(score, ps, rs, f1, ras))"
   ]
  },
  {
   "cell_type": "code",
   "execution_count": null,
   "metadata": {},
   "outputs": [],
   "source": []
  },
  {
   "cell_type": "markdown",
   "metadata": {},
   "source": [
    "### 各模型在 test 数据集上的表现"
   ]
  },
  {
   "cell_type": "code",
   "execution_count": 55,
   "metadata": {},
   "outputs": [],
   "source": [
    "x_test = X_test\n",
    "y_test = Y_test"
   ]
  },
  {
   "cell_type": "markdown",
   "metadata": {},
   "source": [
    "#### LogisticRegression"
   ]
  },
  {
   "cell_type": "code",
   "execution_count": 56,
   "metadata": {},
   "outputs": [
    {
     "name": "stdout",
     "output_type": "stream",
     "text": [
      "The model is LogisticRegression, the parameters are (default).\n",
      "\n",
      "Test result: \n",
      "score = 0.9467831612390787\n",
      "ps = 0.9741602067183462\n",
      "rs = 0.9157894736842105\n",
      "f1 = 0.9440734557595993\n",
      "ras = 0.9908009125878429\n",
      "\n"
     ]
    }
   ],
   "source": [
    "score = lr_classifier.score(x_test, y_test)\n",
    "y_pred = lr_classifier.predict(x_test)\n",
    "y_pred_prob = lr_classifier.predict_proba(x_test)\n",
    "ps = precision_score(y_test, y_pred)\n",
    "rs = recall_score(y_test, y_pred)\n",
    "f1 = f1_score(y_test, y_pred)\n",
    "ras = roc_auc_score(y_test, y_pred_prob[:, 1])\n",
    "print(model_info.format(\"LogisticRegression\", \"(default)\"))\n",
    "print(result_info.format(score, ps, rs, f1, ras))"
   ]
  },
  {
   "cell_type": "markdown",
   "metadata": {},
   "source": [
    "#### Naive Bayes (MultinomialNB)"
   ]
  },
  {
   "cell_type": "code",
   "execution_count": 57,
   "metadata": {},
   "outputs": [
    {
     "name": "stdout",
     "output_type": "stream",
     "text": [
      "The model is Naive Bayes (MultinomialNB), the parameters are (default).\n",
      "\n",
      "Test result: \n",
      "score = 0.857823669579031\n",
      "ps = 0.9311701081612586\n",
      "rs = 0.7668016194331984\n",
      "f1 = 0.8410301953818827\n",
      "ras = 0.9230087629890723\n",
      "\n"
     ]
    }
   ],
   "source": [
    "score = mnb_classifier.score(x_test, y_test)\n",
    "y_pred = mnb_classifier.predict(x_test)\n",
    "y_pred_prob = mnb_classifier.predict_proba(x_test)\n",
    "ps = precision_score(y_test, y_pred)\n",
    "rs = recall_score(y_test, y_pred)\n",
    "f1 = f1_score(y_test, y_pred)\n",
    "ras = roc_auc_score(y_test, y_pred_prob[:, 1])\n",
    "print(model_info.format(\"Naive Bayes (MultinomialNB)\", \"(default)\"))\n",
    "print(result_info.format(score, ps, rs, f1, ras))"
   ]
  },
  {
   "cell_type": "markdown",
   "metadata": {},
   "source": [
    "#### SVM"
   ]
  },
  {
   "cell_type": "code",
   "execution_count": 58,
   "metadata": {},
   "outputs": [
    {
     "name": "stdout",
     "output_type": "stream",
     "text": [
      "The model is SVM, the parameters are (C=1000.0, probability=True).\n",
      "\n",
      "Test result: \n",
      "score = 0.9682287529785544\n",
      "ps = 0.972972972972973\n",
      "rs = 0.9619433198380567\n",
      "f1 = 0.96742671009772\n",
      "ras = 0.9916920426252993\n",
      "\n"
     ]
    }
   ],
   "source": [
    "score = svm_svc.score(x_test, y_test)\n",
    "y_pred = svm_svc.predict(x_test)\n",
    "y_pred_prob = svm_svc.predict_proba(x_test)\n",
    "ps = precision_score(y_test, y_pred)\n",
    "rs = recall_score(y_test, y_pred)\n",
    "f1 = f1_score(y_test, y_pred)\n",
    "ras = roc_auc_score(y_test, y_pred_prob[:, 1])\n",
    "print(model_info.format(\"SVM\", \"(C=1000.0, probability=True)\"))\n",
    "print(result_info.format(score, ps, rs, f1, ras))"
   ]
  },
  {
   "cell_type": "markdown",
   "metadata": {},
   "source": [
    "#### DecisionTree¶"
   ]
  },
  {
   "cell_type": "code",
   "execution_count": 59,
   "metadata": {},
   "outputs": [
    {
     "name": "stdout",
     "output_type": "stream",
     "text": [
      "The model is DecisionTree, the parameters are (random_state=100).\n",
      "\n",
      "Test result: \n",
      "score = 0.9682287529785544\n",
      "ps = 0.9668552950687146\n",
      "rs = 0.968421052631579\n",
      "f1 = 0.9676375404530745\n",
      "ras = 0.9678385363252245\n",
      "\n"
     ]
    }
   ],
   "source": [
    "score = clf_dd.score(x_test, y_test)\n",
    "y_pred = clf_dd.predict(x_test)\n",
    "y_pred_prob = clf_dd.predict_proba(x_test)\n",
    "ps = precision_score(y_test, y_pred)\n",
    "rs = recall_score(y_test, y_pred)\n",
    "f1 = f1_score(y_test, y_pred)\n",
    "ras = roc_auc_score(y_test, y_pred_prob[:, 1])\n",
    "print(model_info.format(\"DecisionTree\", \"(random_state=100)\"))\n",
    "print(result_info.format(score, ps, rs, f1, ras))"
   ]
  },
  {
   "cell_type": "markdown",
   "metadata": {},
   "source": [
    "#### RandomForest"
   ]
  },
  {
   "cell_type": "code",
   "execution_count": 60,
   "metadata": {
    "scrolled": true
   },
   "outputs": [
    {
     "name": "stdout",
     "output_type": "stream",
     "text": [
      "The model is DecisionTree, the parameters are (n_estimators=100).\n",
      "\n",
      "Test result: \n",
      "score = 0.9817315329626688\n",
      "ps = 0.9775100401606426\n",
      "rs = 0.9854251012145749\n",
      "f1 = 0.9814516129032258\n",
      "ras = 0.9976825570130735\n",
      "\n"
     ]
    }
   ],
   "source": [
    "score = clf_rf2.score(x_test, y_test)\n",
    "y_pred = clf_rf2.predict(x_test)\n",
    "y_pred_prob = clf_rf2.predict_proba(x_test)\n",
    "ps = precision_score(y_test, y_pred)\n",
    "rs = recall_score(y_test, y_pred)\n",
    "f1 = f1_score(y_test, y_pred)\n",
    "ras = roc_auc_score(y_test, y_pred_prob[:, 1])\n",
    "print(model_info.format(\"DecisionTree\", \"(n_estimators=500)\"))\n",
    "print(result_info.format(score, ps, rs, f1, ras))"
   ]
  },
  {
   "cell_type": "code",
   "execution_count": 61,
   "metadata": {},
   "outputs": [
    {
     "name": "stdout",
     "output_type": "stream",
     "text": [
      "The model is RandomForest, the parameters are (n_estimators=100).\n",
      "\n",
      "Test result: \n",
      "score = 0.9817315329626688\n",
      "ps = 0.9759807846277022\n",
      "rs = 0.9870445344129555\n",
      "f1 = 0.9814814814814815\n",
      "ras = 0.9975228856961638\n",
      "\n"
     ]
    }
   ],
   "source": [
    "score = clf_rf1.score(x_test, y_test)\n",
    "y_pred = clf_rf1.predict(x_test)\n",
    "y_pred_prob = clf_rf1.predict_proba(x_test)\n",
    "ps = precision_score(y_test, y_pred)\n",
    "rs = recall_score(y_test, y_pred)\n",
    "f1 = f1_score(y_test, y_pred)\n",
    "ras = roc_auc_score(y_test, y_pred_prob[:, 1])\n",
    "print(model_info.format(\"RandomForest\", \"(n_estimators=100)\"))\n",
    "print(result_info.format(score, ps, rs, f1, ras))"
   ]
  },
  {
   "cell_type": "markdown",
   "metadata": {},
   "source": [
    "#### 综上，下面选择 LogisticRegression 来检测文章是否抄袭新华社。"
   ]
  },
  {
   "cell_type": "markdown",
   "metadata": {},
   "source": [
    "## 找出预测结果与实际结果相反的文章，作为抄袭的候选者。"
   ]
  },
  {
   "cell_type": "code",
   "execution_count": 62,
   "metadata": {},
   "outputs": [
    {
     "data": {
      "text/html": [
       "<div>\n",
       "<style scoped>\n",
       "    .dataframe tbody tr th:only-of-type {\n",
       "        vertical-align: middle;\n",
       "    }\n",
       "\n",
       "    .dataframe tbody tr th {\n",
       "        vertical-align: top;\n",
       "    }\n",
       "\n",
       "    .dataframe thead th {\n",
       "        text-align: right;\n",
       "    }\n",
       "</style>\n",
       "<table border=\"1\" class=\"dataframe\">\n",
       "  <thead>\n",
       "    <tr style=\"text-align: right;\">\n",
       "      <th></th>\n",
       "      <th>content</th>\n",
       "      <th>label</th>\n",
       "    </tr>\n",
       "  </thead>\n",
       "  <tbody>\n",
       "    <tr>\n",
       "      <th>0</th>\n",
       "      <td>此外，自本周（6月12日）起，除小米手机6等15款机型外，其余机型已暂停更新发布（含开发版/...</td>\n",
       "      <td>0</td>\n",
       "    </tr>\n",
       "    <tr>\n",
       "      <th>1</th>\n",
       "      <td>骁龙835作为唯一通过Windows 10桌面平台认证的ARM处理器，高通强调，不会因为只考...</td>\n",
       "      <td>0</td>\n",
       "    </tr>\n",
       "    <tr>\n",
       "      <th>2</th>\n",
       "      <td>此前的一加3T搭载的是3400mAh电池，DashCharge快充规格为5V/4A。\\r\\n...</td>\n",
       "      <td>0</td>\n",
       "    </tr>\n",
       "    <tr>\n",
       "      <th>3</th>\n",
       "      <td>这是6月18日在葡萄牙中部大佩德罗冈地区拍摄的被森林大火烧毁的汽车。新华社记者张立云摄\\r\\n</td>\n",
       "      <td>1</td>\n",
       "    </tr>\n",
       "    <tr>\n",
       "      <th>4</th>\n",
       "      <td>（原标题：44岁女子跑深圳约会网友被拒，暴雨中裸身奔走……）\\r\\n@深圳交警微博称：昨日清...</td>\n",
       "      <td>0</td>\n",
       "    </tr>\n",
       "  </tbody>\n",
       "</table>\n",
       "</div>"
      ],
      "text/plain": [
       "                                             content  label\n",
       "0  此外，自本周（6月12日）起，除小米手机6等15款机型外，其余机型已暂停更新发布（含开发版/...      0\n",
       "1  骁龙835作为唯一通过Windows 10桌面平台认证的ARM处理器，高通强调，不会因为只考...      0\n",
       "2  此前的一加3T搭载的是3400mAh电池，DashCharge快充规格为5V/4A。\\r\\n...      0\n",
       "3    这是6月18日在葡萄牙中部大佩德罗冈地区拍摄的被森林大火烧毁的汽车。新华社记者张立云摄\\r\\n      1\n",
       "4  （原标题：44岁女子跑深圳约会网友被拒，暴雨中裸身奔走……）\\r\\n@深圳交警微博称：昨日清...      0"
      ]
     },
     "execution_count": 62,
     "metadata": {},
     "output_type": "execute_result"
    }
   ],
   "source": [
    "data.head()"
   ]
  },
  {
   "cell_type": "code",
   "execution_count": 64,
   "metadata": {},
   "outputs": [],
   "source": [
    "data.index = range(len(data))"
   ]
  },
  {
   "cell_type": "code",
   "execution_count": 71,
   "metadata": {},
   "outputs": [
    {
     "name": "stderr",
     "output_type": "stream",
     "text": [
      "100%|██████████| 87054/87054 [04:51<00:00, 298.45it/s]\n"
     ]
    },
    {
     "name": "stdout",
     "output_type": "stream",
     "text": [
      "运行时间为：286.097573秒\n"
     ]
    }
   ],
   "source": [
    "texts = data['content'] # 内容\n",
    "contents = get_contents(texts)\n",
    "vectorizer = TfidfVectorizer(max_features=500)\n",
    "vectors = vectorizer.fit_transform(contents)\n",
    "X = vectors.toarray()"
   ]
  },
  {
   "cell_type": "code",
   "execution_count": 72,
   "metadata": {},
   "outputs": [],
   "source": [
    "label = data['label'] # 标签\n",
    "y = label.tolist()"
   ]
  },
  {
   "cell_type": "code",
   "execution_count": 73,
   "metadata": {},
   "outputs": [
    {
     "data": {
      "text/plain": [
       "(87054, 500)"
      ]
     },
     "execution_count": 73,
     "metadata": {},
     "output_type": "execute_result"
    }
   ],
   "source": [
    "X.shape"
   ]
  },
  {
   "cell_type": "code",
   "execution_count": 74,
   "metadata": {},
   "outputs": [
    {
     "data": {
      "text/plain": [
       "87054"
      ]
     },
     "execution_count": 74,
     "metadata": {},
     "output_type": "execute_result"
    }
   ],
   "source": [
    "len(y)"
   ]
  },
  {
   "cell_type": "code",
   "execution_count": 78,
   "metadata": {},
   "outputs": [
    {
     "name": "stdout",
     "output_type": "stream",
     "text": [
      "The model is RandomForest, the parameters are (default).\n",
      "\n",
      "Test result: \n",
      "score = 0.47463643255910126\n",
      "ps = 0.9656879384476126\n",
      "rs = 0.4340016018102999\n",
      "f1 = 0.598861533333918\n",
      "ras = 0.7176080925187094\n",
      "\n"
     ]
    }
   ],
   "source": [
    "# 预测所有的样本\n",
    "score = clf_rf1.score(X, y)\n",
    "y_pred = clf_rf1.predict(X)\n",
    "y_pred_prob = clf_rf1.predict_proba(X)\n",
    "ps = precision_score(y, y_pred)\n",
    "rs = recall_score(y, y_pred)\n",
    "f1 = f1_score(y, y_pred)\n",
    "ras = roc_auc_score(y, y_pred_prob[:, 1])\n",
    "print(model_info.format(\"RandomForest\", \"(default)\"))\n",
    "print(result_info.format(score, ps, rs, f1, ras))"
   ]
  },
  {
   "cell_type": "markdown",
   "metadata": {},
   "source": [
    "### 可以看出效果并不好，尽管训练和测试误差都较小，但是一旦在整体数据上来看就太差了。\n",
    "\n",
    "    下面增加训练样本的数量（正负样本个2w个）"
   ]
  },
  {
   "cell_type": "code",
   "execution_count": 86,
   "metadata": {},
   "outputs": [],
   "source": [
    "data_f = data[data['label'] == 0].sample(n=20000,replace=True, random_state=100)\n",
    "data_z = data[data['label'] == 1].sample(n=20000,replace=False, random_state=100)"
   ]
  },
  {
   "cell_type": "code",
   "execution_count": 87,
   "metadata": {},
   "outputs": [
    {
     "data": {
      "text/plain": [
       "((20000, 3), (20000, 3))"
      ]
     },
     "execution_count": 87,
     "metadata": {},
     "output_type": "execute_result"
    }
   ],
   "source": [
    "data_f.shape, data_z.shape"
   ]
  },
  {
   "cell_type": "code",
   "execution_count": 91,
   "metadata": {},
   "outputs": [],
   "source": [
    "data_farame = data_f.merge(data_z, how='outer')"
   ]
  },
  {
   "cell_type": "code",
   "execution_count": 92,
   "metadata": {},
   "outputs": [
    {
     "data": {
      "text/html": [
       "<div>\n",
       "<style scoped>\n",
       "    .dataframe tbody tr th:only-of-type {\n",
       "        vertical-align: middle;\n",
       "    }\n",
       "\n",
       "    .dataframe tbody tr th {\n",
       "        vertical-align: top;\n",
       "    }\n",
       "\n",
       "    .dataframe thead th {\n",
       "        text-align: right;\n",
       "    }\n",
       "</style>\n",
       "<table border=\"1\" class=\"dataframe\">\n",
       "  <thead>\n",
       "    <tr style=\"text-align: right;\">\n",
       "      <th></th>\n",
       "      <th>content</th>\n",
       "      <th>label</th>\n",
       "      <th>pred_label</th>\n",
       "    </tr>\n",
       "  </thead>\n",
       "  <tbody>\n",
       "    <tr>\n",
       "      <th>0</th>\n",
       "      <td>参考消息网6月23日报道 台媒称，英国著名物理学家霍金20日于挪威举办的斯塔穆斯节发表演讲，...</td>\n",
       "      <td>0</td>\n",
       "      <td>0</td>\n",
       "    </tr>\n",
       "    <tr>\n",
       "      <th>1</th>\n",
       "      <td>参考消息网6月23日报道 台媒称，英国著名物理学家霍金20日于挪威举办的斯塔穆斯节发表演讲，...</td>\n",
       "      <td>0</td>\n",
       "      <td>0</td>\n",
       "    </tr>\n",
       "    <tr>\n",
       "      <th>2</th>\n",
       "      <td>参考消息网6月23日报道 台媒称，英国著名物理学家霍金20日于挪威举办的斯塔穆斯节发表演讲，...</td>\n",
       "      <td>0</td>\n",
       "      <td>0</td>\n",
       "    </tr>\n",
       "    <tr>\n",
       "      <th>3</th>\n",
       "      <td>参考消息网6月23日报道 台媒称，英国著名物理学家霍金20日于挪威举办的斯塔穆斯节发表演讲，...</td>\n",
       "      <td>0</td>\n",
       "      <td>0</td>\n",
       "    </tr>\n",
       "    <tr>\n",
       "      <th>4</th>\n",
       "      <td>参考消息网6月23日报道 台媒称，英国著名物理学家霍金20日于挪威举办的斯塔穆斯节发表演讲，...</td>\n",
       "      <td>0</td>\n",
       "      <td>0</td>\n",
       "    </tr>\n",
       "  </tbody>\n",
       "</table>\n",
       "</div>"
      ],
      "text/plain": [
       "                                             content  label  pred_label\n",
       "0  参考消息网6月23日报道 台媒称，英国著名物理学家霍金20日于挪威举办的斯塔穆斯节发表演讲，...      0           0\n",
       "1  参考消息网6月23日报道 台媒称，英国著名物理学家霍金20日于挪威举办的斯塔穆斯节发表演讲，...      0           0\n",
       "2  参考消息网6月23日报道 台媒称，英国著名物理学家霍金20日于挪威举办的斯塔穆斯节发表演讲，...      0           0\n",
       "3  参考消息网6月23日报道 台媒称，英国著名物理学家霍金20日于挪威举办的斯塔穆斯节发表演讲，...      0           0\n",
       "4  参考消息网6月23日报道 台媒称，英国著名物理学家霍金20日于挪威举办的斯塔穆斯节发表演讲，...      0           0"
      ]
     },
     "execution_count": 92,
     "metadata": {},
     "output_type": "execute_result"
    }
   ],
   "source": [
    "data_farame.head()"
   ]
  },
  {
   "cell_type": "code",
   "execution_count": 93,
   "metadata": {},
   "outputs": [],
   "source": [
    "texts = data_farame['content'] # 内容\n",
    "label = data_farame['label'] # 标签"
   ]
  },
  {
   "cell_type": "code",
   "execution_count": 94,
   "metadata": {},
   "outputs": [
    {
     "name": "stderr",
     "output_type": "stream",
     "text": [
      "100%|██████████| 40000/40000 [03:26<00:00, 194.13it/s]"
     ]
    },
    {
     "name": "stdout",
     "output_type": "stream",
     "text": [
      "运行时间为：200.47628699999996秒\n"
     ]
    },
    {
     "name": "stderr",
     "output_type": "stream",
     "text": [
      "\n"
     ]
    }
   ],
   "source": [
    "contents = get_contents(texts)"
   ]
  },
  {
   "cell_type": "code",
   "execution_count": 95,
   "metadata": {},
   "outputs": [],
   "source": [
    "vectorizer = TfidfVectorizer(max_features=500)\n",
    "vectors = vectorizer.fit_transform(contents)\n",
    "X = vectors.toarray()\n",
    "y = label.tolist()"
   ]
  },
  {
   "cell_type": "code",
   "execution_count": 96,
   "metadata": {},
   "outputs": [
    {
     "data": {
      "text/plain": [
       "((40000, 500), 40000)"
      ]
     },
     "execution_count": 96,
     "metadata": {},
     "output_type": "execute_result"
    }
   ],
   "source": [
    "X.shape, len(y)"
   ]
  },
  {
   "cell_type": "code",
   "execution_count": 97,
   "metadata": {},
   "outputs": [],
   "source": [
    "x_train, x_test, y_train, y_test = train_test_split(X, y, random_state=50, test_size=0.3) # 拆成训练和测试集"
   ]
  },
  {
   "cell_type": "code",
   "execution_count": 98,
   "metadata": {},
   "outputs": [
    {
     "name": "stdout",
     "output_type": "stream",
     "text": [
      "The model is RandomForest, the parameters are (n_estimators=10).\n",
      "\n",
      "Test result: \n",
      "score = 0.9925\n",
      "ps = 0.994316282179873\n",
      "rs = 0.9906728847435043\n",
      "f1 = 0.9924912397797431\n",
      "ras = 0.9991044023797343\n",
      "\n"
     ]
    }
   ],
   "source": [
    "clf_rf1 = RandomForestClassifier(n_estimators=100)\n",
    "clf_rf1.fit(x_train, y_train)\n",
    "\n",
    "score = clf_rf1.score(x_test, y_test)\n",
    "y_pred = clf_rf1.predict(x_test)\n",
    "y_pred_prob = clf_rf1.predict_proba(x_test)  \n",
    "ps = precision_score(y_test, y_pred)\n",
    "rs = recall_score(y_test, y_pred)\n",
    "f1 = f1_score(y_test, y_pred)\n",
    "ras = roc_auc_score(y_test, y_pred_prob[:, 1])\n",
    "print(model_info.format(\"RandomForest\", \"(n_estimators=10)\"))\n",
    "print(result_info.format(score, ps, rs, f1, ras))"
   ]
  },
  {
   "cell_type": "code",
   "execution_count": 106,
   "metadata": {},
   "outputs": [
    {
     "name": "stdout",
     "output_type": "stream",
     "text": [
      "The model is RandomForest, the parameters are (default).\n",
      "\n",
      "Test result: \n",
      "score = 0.997325\n",
      "ps = 0.9981968444778362\n",
      "rs = 0.99645\n",
      "f1 = 0.9973226573251596\n",
      "ras = 0.9997926225000001\n",
      "\n"
     ]
    }
   ],
   "source": [
    "score = clf_rf1.score(X, y)\n",
    "y_pred = clf_rf1.predict(X)\n",
    "y_pred_prob = clf_rf1.predict_proba(X)\n",
    "ps = precision_score(y, y_pred)\n",
    "rs = recall_score(y, y_pred)\n",
    "f1 = f1_score(y, y_pred)\n",
    "ras = roc_auc_score(y, y_pred_prob[:, 1])\n",
    "print(model_info.format(\"RandomForest\", \"(default)\"))\n",
    "print(result_info.format(score, ps, rs, f1, ras))"
   ]
  },
  {
   "cell_type": "code",
   "execution_count": 99,
   "metadata": {},
   "outputs": [],
   "source": [
    "texts = data['content'] # 内容\n",
    "label = data['label'] # 标签"
   ]
  },
  {
   "cell_type": "code",
   "execution_count": 100,
   "metadata": {},
   "outputs": [
    {
     "name": "stderr",
     "output_type": "stream",
     "text": [
      "100%|██████████| 87054/87054 [04:30<00:00, 321.86it/s]\n"
     ]
    },
    {
     "name": "stdout",
     "output_type": "stream",
     "text": [
      "运行时间为：263.9786130000002秒\n"
     ]
    }
   ],
   "source": [
    "contents = get_contents(texts)\n",
    "vectorizer = TfidfVectorizer(max_features=500)\n",
    "vectors = vectorizer.fit_transform(contents)\n",
    "X_o = vectors.toarray()\n",
    "y_o = label.tolist()"
   ]
  },
  {
   "cell_type": "code",
   "execution_count": 101,
   "metadata": {},
   "outputs": [],
   "source": [
    "data.index = range(len(data))"
   ]
  },
  {
   "cell_type": "code",
   "execution_count": 103,
   "metadata": {
    "scrolled": true
   },
   "outputs": [
    {
     "name": "stdout",
     "output_type": "stream",
     "text": [
      "The model is RandomForest, the parameters are (default).\n",
      "\n",
      "Test result: \n",
      "score = 0.6090472580237554\n",
      "ps = 0.9757980254600508\n",
      "rs = 0.5817622455854871\n",
      "f1 = 0.7289380206757036\n",
      "ras = 0.7312480778508906\n",
      "\n"
     ]
    }
   ],
   "source": [
    "# 预测所有的样本\n",
    "score = clf_rf1.score(X_o, y_o)\n",
    "y_pred = clf_rf1.predict(X_o)\n",
    "y_pred_prob = clf_rf1.predict_proba(X_o)\n",
    "ps = precision_score(y_o, y_pred)\n",
    "rs = recall_score(y_o, y_pred)\n",
    "f1 = f1_score(y_o, y_pred)\n",
    "ras = roc_auc_score(y_o, y_pred_prob[:, 1])\n",
    "print(model_info.format(\"RandomForest\", \"(default)\"))\n",
    "print(result_info.format(score, ps, rs, f1, ras))"
   ]
  },
  {
   "cell_type": "code",
   "execution_count": 104,
   "metadata": {},
   "outputs": [],
   "source": [
    "data['pred_label'] = y_pred"
   ]
  },
  {
   "cell_type": "code",
   "execution_count": 105,
   "metadata": {},
   "outputs": [
    {
     "data": {
      "text/plain": [
       "34034"
      ]
     },
     "execution_count": 105,
     "metadata": {},
     "output_type": "execute_result"
    }
   ],
   "source": [
    "# 预测错误的个数\n",
    "(data['label'] != data['pred_label']).sum()"
   ]
  },
  {
   "cell_type": "code",
   "execution_count": 107,
   "metadata": {},
   "outputs": [],
   "source": [
    "# 查看实际是0，预测为1。表示抄袭新华社的文章\n",
    "copy_data = data[(data['label'] == 0) & (data['pred_label'] == 1)]"
   ]
  },
  {
   "cell_type": "code",
   "execution_count": 108,
   "metadata": {},
   "outputs": [
    {
     "data": {
      "text/html": [
       "<div>\n",
       "<style scoped>\n",
       "    .dataframe tbody tr th:only-of-type {\n",
       "        vertical-align: middle;\n",
       "    }\n",
       "\n",
       "    .dataframe tbody tr th {\n",
       "        vertical-align: top;\n",
       "    }\n",
       "\n",
       "    .dataframe thead th {\n",
       "        text-align: right;\n",
       "    }\n",
       "</style>\n",
       "<table border=\"1\" class=\"dataframe\">\n",
       "  <thead>\n",
       "    <tr style=\"text-align: right;\">\n",
       "      <th></th>\n",
       "      <th>content</th>\n",
       "      <th>label</th>\n",
       "      <th>pred_label</th>\n",
       "    </tr>\n",
       "  </thead>\n",
       "  <tbody>\n",
       "    <tr>\n",
       "      <th>14</th>\n",
       "      <td>6月21日，MSCI在官网发布公告称，从明年6月起将中国A股纳入MSCI新兴市场指数和MSC...</td>\n",
       "      <td>0</td>\n",
       "      <td>1</td>\n",
       "    </tr>\n",
       "    <tr>\n",
       "      <th>29</th>\n",
       "      <td>文章导读： 供应商围堵追债、20多位高管离职、上千人被裁员、孤注一掷史上最大规模的降价…...</td>\n",
       "      <td>0</td>\n",
       "      <td>1</td>\n",
       "    </tr>\n",
       "    <tr>\n",
       "      <th>41</th>\n",
       "      <td>6月14日，记者从省卫计委的答复中获悉，广东将启动城市三甲医院人员下沉基层计划，每年全省三级...</td>\n",
       "      <td>0</td>\n",
       "      <td>1</td>\n",
       "    </tr>\n",
       "    <tr>\n",
       "      <th>53</th>\n",
       "      <td>央广网贵阳6月19日消息（记者王珩 贵州台记者黄瑾）为规范省级救灾储备物资管理，提高救灾物资...</td>\n",
       "      <td>0</td>\n",
       "      <td>1</td>\n",
       "    </tr>\n",
       "    <tr>\n",
       "      <th>54</th>\n",
       "      <td>（原标题：高速上50秒别车6次 面包车司机现身：我一时冲动犯了错）\\r\\n高速上50秒别车6...</td>\n",
       "      <td>0</td>\n",
       "      <td>1</td>\n",
       "    </tr>\n",
       "    <tr>\n",
       "      <th>90</th>\n",
       "      <td>新疆日报讯（记者王永飞报道）近日，新疆广汇实业投资（集团）有限责任公司在新加坡交易所成功发行...</td>\n",
       "      <td>0</td>\n",
       "      <td>1</td>\n",
       "    </tr>\n",
       "    <tr>\n",
       "      <th>96</th>\n",
       "      <td>中新网6月23日电 (记者潘旭临) 意大利航空首席商务官乔治先生22日在北京接受中新网记者专...</td>\n",
       "      <td>0</td>\n",
       "      <td>1</td>\n",
       "    </tr>\n",
       "    <tr>\n",
       "      <th>127</th>\n",
       "      <td>自治区信访局干部冯玉是自治区第二批驻村工作队队员。2016年11月，她把4岁的女儿托付给婆婆...</td>\n",
       "      <td>0</td>\n",
       "      <td>1</td>\n",
       "    </tr>\n",
       "    <tr>\n",
       "      <th>153</th>\n",
       "      <td>佩莱格里尼\\r\\n凤凰体育讯（记者范宏基报道）6月17日，中超联赛进行了一场土豪间的对决，结...</td>\n",
       "      <td>0</td>\n",
       "      <td>1</td>\n",
       "    </tr>\n",
       "    <tr>\n",
       "      <th>155</th>\n",
       "      <td>今年，或许是在“新零售”的感召下，让大家本以为已回归平静的电商市场又起波澜。无论是线上线下融...</td>\n",
       "      <td>0</td>\n",
       "      <td>1</td>\n",
       "    </tr>\n",
       "  </tbody>\n",
       "</table>\n",
       "</div>"
      ],
      "text/plain": [
       "                                               content  label  pred_label\n",
       "14   6月21日，MSCI在官网发布公告称，从明年6月起将中国A股纳入MSCI新兴市场指数和MSC...      0           1\n",
       "29   　　文章导读： 供应商围堵追债、20多位高管离职、上千人被裁员、孤注一掷史上最大规模的降价…...      0           1\n",
       "41   6月14日，记者从省卫计委的答复中获悉，广东将启动城市三甲医院人员下沉基层计划，每年全省三级...      0           1\n",
       "53   央广网贵阳6月19日消息（记者王珩 贵州台记者黄瑾）为规范省级救灾储备物资管理，提高救灾物资...      0           1\n",
       "54   （原标题：高速上50秒别车6次 面包车司机现身：我一时冲动犯了错）\\r\\n高速上50秒别车6...      0           1\n",
       "90   新疆日报讯（记者王永飞报道）近日，新疆广汇实业投资（集团）有限责任公司在新加坡交易所成功发行...      0           1\n",
       "96   中新网6月23日电 (记者潘旭临) 意大利航空首席商务官乔治先生22日在北京接受中新网记者专...      0           1\n",
       "127  自治区信访局干部冯玉是自治区第二批驻村工作队队员。2016年11月，她把4岁的女儿托付给婆婆...      0           1\n",
       "153  佩莱格里尼\\r\\n凤凰体育讯（记者范宏基报道）6月17日，中超联赛进行了一场土豪间的对决，结...      0           1\n",
       "155  今年，或许是在“新零售”的感召下，让大家本以为已回归平静的电商市场又起波澜。无论是线上线下融...      0           1"
      ]
     },
     "execution_count": 108,
     "metadata": {},
     "output_type": "execute_result"
    }
   ],
   "source": [
    "copy_data.head(10)"
   ]
  },
  {
   "cell_type": "code",
   "execution_count": 109,
   "metadata": {},
   "outputs": [],
   "source": [
    "copy_text = copy_data['content'].values[0]"
   ]
  },
  {
   "cell_type": "code",
   "execution_count": 110,
   "metadata": {},
   "outputs": [
    {
     "name": "stdout",
     "output_type": "stream",
     "text": [
      "6月21日，MSCI在官网发布公告称，从明年6月起将中国A股纳入MSCI新兴市场指数和MSCI ACWI全球指数，这恐怕是近半年来中国资本市场上最令人振奋的消息。\r\n",
      "A股早在2013年6月就已纳入新兴市场指数的候选列表中，但此后几年，都因为配额分配、资本流动限制、资本利得税等所谓原因而遭否决，尤其是在2016年第三次闯关失败后，中国投资者和相关监管部门似乎对“A股入摩”已心灰意冷，甚至连证监会分管国际合作的副主席方星海都在今年一月份的时候表示，“中国与MSCI在股指期货上的观点存在分歧，中国并不急于加入MSCI全球指数”。\r\n",
      "然而事情最终出现了转机，今年3月，MSCI提出纳入A股的新方案——将A股的权重由原计划的1%降低至0.5%，并将指数纳入A股的数量由原来计划的448只减至169只，这一举动其实已经预示了A股今年大概率“入摩”。从6月21日宣布的结果来看，相比3月份的调整可以说还有惊喜，最终确定的权重为0.73%，股票数量为222只。\r\n",
      "就具体的时间表而言，MSCI新兴市场A股纳入计划分两步走，第一步是在2018年5月按2.5%的指数纳入因子（index inclusion factor）给予A股0.37%的权重，第二步是在2018年8月按5%的因子将权重提高至计划的0.73%。从现在到A股正式进入MSCI新兴市场指数尚有一年时间，因此短期来看，这一事件不会马上起到提振国内股市的作用。另一方面，大部分机构预计本次“入摩”将为中国带来约1000亿美元的资金流入。相比于标的公司近2万亿美元的市值来说，这些资金并不能在市场上掀起太大的涟漪，只有当纳入因子进一步提高时（根据MSCI在2016年提出的A股纳入计划，纳入因子达到100%时，A股的权重将达到18.1%），“入摩”才可能在资金面上直接对A股市场有重大利好。\r\n",
      "除了股价上的利好，“入摩”更重大的意义在于其给国内资本市场改革带来机遇与动力。MSCI在做出纳入决定前，需要广泛咨询国际机构投资者，这些投资者能够在全球范围内进行资产配置，他们最擅于比较各个国家的投资环境、资本市场对外资的友好程度。此前A股屡次碰壁就是因为国内金融市场上的QFII配额限制、QFII每月资本赎回限制、大面积股票停牌以及交易所需对A股相关金融产品预审等过多的管制与不确定性，给海外机构投资中国市场设下实质障碍，也让海外机构担心投入中国的资金的安全性。这种情况下，海外机构毫无疑问会选择“用脚投票”，避免参与中国市场。现在随着沪港通、深港通的开通，交易所产品预审的放松等，A股市场终于得到了国际机构的初步认可。想要“乘胜追击”，进一步吸引境外投资者，资本市场无疑还需要进一步的改革，否则可能错失好不容易打下的良好局面。\r\n",
      "\n"
     ]
    }
   ],
   "source": [
    "print(copy_text)"
   ]
  },
  {
   "cell_type": "code",
   "execution_count": 111,
   "metadata": {},
   "outputs": [],
   "source": [
    "xinhua_news = data[data['label'] == 1]['content'].tolist()"
   ]
  },
  {
   "cell_type": "code",
   "execution_count": 112,
   "metadata": {},
   "outputs": [
    {
     "data": {
      "text/plain": [
       "'这是6月18日在葡萄牙中部大佩德罗冈地区拍摄的被森林大火烧毁的汽车。新华社记者张立云摄\\r\\n'"
      ]
     },
     "execution_count": 112,
     "metadata": {},
     "output_type": "execute_result"
    }
   ],
   "source": [
    "xinhua_news[0]"
   ]
  },
  {
   "cell_type": "code",
   "execution_count": null,
   "metadata": {},
   "outputs": [],
   "source": [
    "# s -> t\n",
    "def edit_distance(s, t):\n",
    "    len1, len2 = len(s), len(t)\n",
    "    if len1 == 0 and len2 == 0: return 0\n",
    "    if len2 == 0: return len1\n",
    "    if len1 == 0: return len2\n",
    "    solution = {}\n",
    "    dp = [[0] * (len2+1) for _ in range(len1+1)]\n",
    "    for i in range(1, len2+1):\n",
    "        dp[0][i] = i\n",
    "    for i in range(1, len1+1):\n",
    "        dp[i][0] = i\n",
    "    for i in range(1, len1+1):\n",
    "        for j in range(1, len2+1):\n",
    "            if s[i-1] == t[j-1]:\n",
    "                dp[i][j] = dp[i-1][j-1]\n",
    "            else:\n",
    "                options = [(dp[i-1][j-1], 'sub'), (dp[i-1][j], 'del'), (dp[i][j-1], 'add')]\n",
    "                tmp = min(options)\n",
    "                dp[i][j] = tmp[0] + 1\n",
    "    return dp[-1][-1]"
   ]
  },
  {
   "cell_type": "code",
   "execution_count": null,
   "metadata": {},
   "outputs": [],
   "source": [
    "def setEditDistance(text):\n",
    "    return edit_distance(copy_text, text)"
   ]
  },
  {
   "cell_type": "code",
   "execution_count": null,
   "metadata": {},
   "outputs": [],
   "source": [
    "data_news['edit_dis'] = data_news['content'].apply(lambda x: setEditDistance(x))"
   ]
  },
  {
   "cell_type": "markdown",
   "metadata": {},
   "source": [
    "#### 上面这步太卡了，没有算不出来 :("
   ]
  },
  {
   "cell_type": "code",
   "execution_count": null,
   "metadata": {},
   "outputs": [],
   "source": [
    "# 在上一步的基础上，找出与 copy_text 编辑距离最短的文章\n",
    "sim_text = data_news[data_news['edit_dis'] == min(data_news['edit_dis'])]['content'].values[0]"
   ]
  },
  {
   "cell_type": "markdown",
   "metadata": {},
   "source": [
    "#### 下面我想从 X 中直接用余弦相似度的方法求得与当前 copy_text 最相似的文章\n",
    "\n",
    "    1、从 X 中找出 copy_text 对应的向量 X_copy\n",
    "    2、求解 X_copy 与 X 中对应新华社的文章向量相似度最高的向量 X_sim，即为新华社被抄袭的文章的向量\n",
    "    3、再根据 X_sim 找到对应的文章 sim_text，即为被抄袭的文章"
   ]
  },
  {
   "cell_type": "code",
   "execution_count": null,
   "metadata": {},
   "outputs": [],
   "source": [
    "len(X)"
   ]
  },
  {
   "cell_type": "code",
   "execution_count": null,
   "metadata": {},
   "outputs": [],
   "source": [
    "# 需要重新设置一下所有==索引，因为把 content 为空的去掉了，这样就能对应上 X 的索引\n",
    "data_news.index = range(len(data_news))"
   ]
  },
  {
   "cell_type": "code",
   "execution_count": null,
   "metadata": {},
   "outputs": [],
   "source": [
    "copy_index = copy_data.index[0]\n",
    "X_copy = X[copy_index]"
   ]
  },
  {
   "cell_type": "code",
   "execution_count": null,
   "metadata": {},
   "outputs": [],
   "source": [
    "# 求解两个向量的余弦相似度\n",
    "def cos_sim(vector_a, vector_b):\n",
    "    \"\"\"\n",
    "    计算两个向量之间的余弦相似度\n",
    "    :param vector_a: 向量 a \n",
    "    :param vector_b: 向量 b\n",
    "    :return: sim\n",
    "    \"\"\"\n",
    "    vector_a = np.mat(vector_a)\n",
    "    vector_b = np.mat(vector_b)\n",
    "    num = float(vector_a * vector_b.T)\n",
    "    denom = np.linalg.norm(vector_a) * np.linalg.norm(vector_b)\n",
    "    cos = num / denom\n",
    "    sim = 0.5 + 0.5 * cos\n",
    "    return sim"
   ]
  },
  {
   "cell_type": "code",
   "execution_count": null,
   "metadata": {},
   "outputs": [],
   "source": [
    "def getMostSimText(X_copy):\n",
    "    sim = 0.\n",
    "    sim_idx = 0\n",
    "    for idx in tqdm(range(len(X))):\n",
    "        _sim = cos_sim(X[idx], X_copy)\n",
    "        if y[idx] == 1 and _sim > sim:\n",
    "            sim = _sim\n",
    "            sim_idx = idx\n",
    "    return data_news.loc[sim_idx]['content'], sim, sim_idx"
   ]
  },
  {
   "cell_type": "code",
   "execution_count": null,
   "metadata": {},
   "outputs": [],
   "source": [
    "sim_text, sim, sim_idx = getMostSimText(X_copy)"
   ]
  },
  {
   "cell_type": "code",
   "execution_count": null,
   "metadata": {},
   "outputs": [],
   "source": [
    "(sim, sim_idx)"
   ]
  },
  {
   "cell_type": "code",
   "execution_count": null,
   "metadata": {},
   "outputs": [],
   "source": [
    "print(sim_text)"
   ]
  },
  {
   "cell_type": "code",
   "execution_count": null,
   "metadata": {
    "scrolled": true
   },
   "outputs": [],
   "source": [
    "print(copy_text)"
   ]
  },
  {
   "cell_type": "markdown",
   "metadata": {},
   "source": [
    "### 总结：\n",
    "### 上面结果看起来差不多吧。相似度 0.83，肉眼看貌似有点像。特别提示：最后根据索引提取文章的时候，一定要先重置一下原来的索引，因为在数据预处理的时候删除了一些 content 为空的文章，导致索引不再是连续的。"
   ]
  },
  {
   "cell_type": "markdown",
   "metadata": {},
   "source": [
    "## 上面存在一个问题，因为数据是imbalance的。同时训练数据不一定要用全量的数据，将在下次作业中改进"
   ]
  },
  {
   "cell_type": "code",
   "execution_count": null,
   "metadata": {},
   "outputs": [],
   "source": []
  }
 ],
 "metadata": {
  "kernelspec": {
   "display_name": "Python 3",
   "language": "python",
   "name": "python3"
  },
  "language_info": {
   "codemirror_mode": {
    "name": "ipython",
    "version": 3
   },
   "file_extension": ".py",
   "mimetype": "text/x-python",
   "name": "python",
   "nbconvert_exporter": "python",
   "pygments_lexer": "ipython3",
   "version": "3.6.5"
  }
 },
 "nbformat": 4,
 "nbformat_minor": 2
}
