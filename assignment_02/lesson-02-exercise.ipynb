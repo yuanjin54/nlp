{
 "cells": [
  {
   "cell_type": "markdown",
   "metadata": {},
   "source": [
    "# lambda 表达式练习\n",
    "\n",
    "    lambda表创建匿名函数"
   ]
  },
  {
   "cell_type": "code",
   "execution_count": 1,
   "metadata": {},
   "outputs": [
    {
     "name": "stdout",
     "output_type": "stream",
     "text": [
      "原列表为：[1, 2, 3, 4, 5, 6, 7]，按照各元素对3取余后的结果排序后的新列表为：[3, 6, 1, 4, 7, 2, 5]\n"
     ]
    }
   ],
   "source": [
    "list_1 = [1, 2, 3, 4, 5, 6, 7]\n",
    "# 表示按照对3取余的结果来对原list排序，并不改变原list的值，返回排序后的新的list\n",
    "list_res = sorted(list_1, key=lambda x: x % 3) \n",
    "print('原列表为：{}，按照各元素对3取余后的结果排序后的新列表为：{}'.format(list_1, list_res))"
   ]
  },
  {
   "cell_type": "code",
   "execution_count": 2,
   "metadata": {},
   "outputs": [],
   "source": [
    "# 创建匿名函数\n",
    "number_plus = lambda x, y: x + y"
   ]
  },
  {
   "cell_type": "code",
   "execution_count": 3,
   "metadata": {},
   "outputs": [
    {
     "name": "stdout",
     "output_type": "stream",
     "text": [
      "The result is 310\n"
     ]
    }
   ],
   "source": [
    "a_plus_b_res = number_plus(100, 210)\n",
    "print(\"The result is {}\".format(a_plus_b_res))"
   ]
  },
  {
   "cell_type": "markdown",
   "metadata": {},
   "source": [
    "# search policy（搜索策略）"
   ]
  },
  {
   "cell_type": "code",
   "execution_count": 4,
   "metadata": {},
   "outputs": [],
   "source": [
    "# 各个省会城市坐标候选集\n",
    "coordination_source = \"\"\"\n",
    "{name:'兰州', geoCoord:[103.73, 36.03]},\n",
    "{name:'嘉峪关', geoCoord:[98.17, 39.47]},\n",
    "{name:'西宁', geoCoord:[101.74, 36.56]},\n",
    "{name:'成都', geoCoord:[104.06, 30.67]},\n",
    "{name:'石家庄', geoCoord:[114.48, 38.03]},\n",
    "{name:'拉萨', geoCoord:[102.73, 25.04]},\n",
    "{name:'贵阳', geoCoord:[106.71, 26.57]},\n",
    "{name:'武汉', geoCoord:[114.31, 30.52]},\n",
    "{name:'郑州', geoCoord:[113.65, 34.76]},\n",
    "{name:'济南', geoCoord:[117, 36.65]},\n",
    "{name:'南京', geoCoord:[118.78, 32.04]},\n",
    "{name:'合肥', geoCoord:[117.27, 31.86]},\n",
    "{name:'杭州', geoCoord:[120.19, 30.26]},\n",
    "{name:'南昌', geoCoord:[115.89, 28.68]},\n",
    "{name:'福州', geoCoord:[119.3, 26.08]},\n",
    "{name:'广州', geoCoord:[113.23, 23.16]},\n",
    "{name:'长沙', geoCoord:[113, 28.21]},\n",
    "//{name:'海口', geoCoord:[110.35, 20.02]},\n",
    "{name:'沈阳', geoCoord:[123.38, 41.8]},\n",
    "{name:'长春', geoCoord:[125.35, 43.88]},\n",
    "{name:'哈尔滨', geoCoord:[126.63, 45.75]},\n",
    "{name:'太原', geoCoord:[112.53, 37.87]},\n",
    "{name:'西安', geoCoord:[108.95, 34.27]},\n",
    "//{name:'台湾', geoCoord:[121.30, 25.03]},\n",
    "{name:'北京', geoCoord:[116.46, 39.92]},\n",
    "{name:'上海', geoCoord:[121.48, 31.22]},\n",
    "{name:'重庆', geoCoord:[106.54, 29.59]},\n",
    "{name:'天津', geoCoord:[117.2, 39.13]},\n",
    "{name:'呼和浩特', geoCoord:[111.65, 40.82]},\n",
    "{name:'南宁', geoCoord:[108.33, 22.84]},\n",
    "//{name:'西藏', geoCoord:[91.11, 29.97]},\n",
    "{name:'银川', geoCoord:[106.27, 38.47]},\n",
    "{name:'乌鲁木齐', geoCoord:[87.68, 43.77]},\n",
    "{name:'香港', geoCoord:[114.17, 22.28]},\n",
    "{name:'澳门', geoCoord:[113.54, 22.19]}\n",
    "\"\"\""
   ]
  },
  {
   "cell_type": "markdown",
   "metadata": {},
   "source": [
    "### 字符串转字典"
   ]
  },
  {
   "cell_type": "code",
   "execution_count": 5,
   "metadata": {},
   "outputs": [],
   "source": [
    "city_dict = {}\n",
    "for string in coordination_source.split('\\n'):\n",
    "    if string:\n",
    "        start_index = string.find('\\'') + 1\n",
    "        end_index = string.find('\\'', start_index)\n",
    "        position = string[string.find('[') + 1:string.find(']')].split(', ')\n",
    "        position_list = [float(position[0]), float(position[1])]\n",
    "        city_dict[string[start_index:end_index]] = position_list"
   ]
  },
  {
   "cell_type": "code",
   "execution_count": 6,
   "metadata": {},
   "outputs": [
    {
     "name": "stdout",
     "output_type": "stream",
     "text": [
      "{'兰州': [103.73, 36.03], '嘉峪关': [98.17, 39.47], '西宁': [101.74, 36.56], '成都': [104.06, 30.67], '石家庄': [114.48, 38.03], '拉萨': [102.73, 25.04], '贵阳': [106.71, 26.57], '武汉': [114.31, 30.52], '郑州': [113.65, 34.76], '济南': [117.0, 36.65], '南京': [118.78, 32.04], '合肥': [117.27, 31.86], '杭州': [120.19, 30.26], '南昌': [115.89, 28.68], '福州': [119.3, 26.08], '广州': [113.23, 23.16], '长沙': [113.0, 28.21], '海口': [110.35, 20.02], '沈阳': [123.38, 41.8], '长春': [125.35, 43.88], '哈尔滨': [126.63, 45.75], '太原': [112.53, 37.87], '西安': [108.95, 34.27], '台湾': [121.3, 25.03], '北京': [116.46, 39.92], '上海': [121.48, 31.22], '重庆': [106.54, 29.59], '天津': [117.2, 39.13], '呼和浩特': [111.65, 40.82], '南宁': [108.33, 22.84], '西藏': [91.11, 29.97], '银川': [106.27, 38.47], '乌鲁木齐': [87.68, 43.77], '香港': [114.17, 22.28], '澳门': [113.54, 22.19]}\n"
     ]
    }
   ],
   "source": [
    "print(city_dict)"
   ]
  },
  {
   "cell_type": "markdown",
   "metadata": {},
   "source": [
    "### 画出网络图"
   ]
  },
  {
   "cell_type": "code",
   "execution_count": 7,
   "metadata": {},
   "outputs": [],
   "source": [
    "import networkx as nx\n",
    "import matplotlib.pyplot as plt\n",
    "plt.rcParams['font.sans-serif']=['SimHei']\n",
    "plt.rcParams['axes.unicode_minus']=False"
   ]
  },
  {
   "cell_type": "code",
   "execution_count": 8,
   "metadata": {},
   "outputs": [],
   "source": [
    "city_graph = nx.Graph()"
   ]
  },
  {
   "cell_type": "code",
   "execution_count": 9,
   "metadata": {},
   "outputs": [],
   "source": [
    "city_graph.add_nodes_from(list(city_dict.keys()))"
   ]
  },
  {
   "cell_type": "code",
   "execution_count": 10,
   "metadata": {},
   "outputs": [],
   "source": [
    "%matplotlib inline"
   ]
  },
  {
   "cell_type": "code",
   "execution_count": 11,
   "metadata": {},
   "outputs": [
    {
     "data": {
      "image/png": "[encoded data removed]",
      "text/plain": [
       "<Figure size 432x288 with 1 Axes>"
      ]
     },
     "metadata": {},
     "output_type": "display_data"
    }
   ],
   "source": [
    "nx.draw(city_graph, city_dict, with_labels=True, node_size=10)"
   ]
  },
  {
   "cell_type": "code",
   "execution_count": 12,
   "metadata": {},
   "outputs": [],
   "source": [
    "import math"
   ]
  },
  {
   "cell_type": "code",
   "execution_count": 13,
   "metadata": {},
   "outputs": [],
   "source": [
    "# 计算两地之间的距离\n",
    "def calculate_distance(address_start, address_end):\n",
    "    dimension_start, longitude_start = city_dict[address_start]\n",
    "    dimension_end, longitude_end = city_dict[address_end]\n",
    "    radius = 6371  # km\n",
    "    dimension_d = math.radians(dimension_end - dimension_start)\n",
    "    longitude_d = math.radians(longitude_end - longitude_start)\n",
    "    val_a = (math.sin(dimension_d / 2) * math.sin(dimension_d / 2) +\n",
    "         math.cos(math.radians(dimension_start)) * math.cos(math.radians(dimension_end)) *\n",
    "         math.sin(longitude_d / 2) * math.sin(longitude_d / 2))\n",
    "    return radius * 2 * math.atan2(math.sqrt(val_a), math.sqrt(1 - val_a))"
   ]
  },
  {
   "cell_type": "code",
   "execution_count": 14,
   "metadata": {},
   "outputs": [
    {
     "data": {
      "text/plain": [
       "153.5185697155768"
      ]
     },
     "execution_count": 14,
     "metadata": {},
     "output_type": "execute_result"
    }
   ],
   "source": [
    "calculate_distance('上海', '杭州')"
   ]
  },
  {
   "cell_type": "markdown",
   "metadata": {},
   "source": [
    "### 给定一个阈值，在范围内的构成一个网络"
   ]
  },
  {
   "cell_type": "code",
   "execution_count": 15,
   "metadata": {},
   "outputs": [],
   "source": [
    "threshold = 300 # 设置300km"
   ]
  },
  {
   "cell_type": "code",
   "execution_count": 16,
   "metadata": {},
   "outputs": [
    {
     "name": "stdout",
     "output_type": "stream",
     "text": [
      "{'兰州': ['西宁', '成都', '银川'], '西宁': ['兰州', '成都', '拉萨'], '成都': ['兰州', '西宁', '拉萨', '重庆'], '石家庄': ['郑州', '济南', '太原', '北京'], '拉萨': ['西宁', '成都'], '贵阳': ['重庆', '南宁'], '武汉': ['郑州', '南昌', '长沙'], '郑州': ['石家庄', '武汉', '长沙', '太原'], '济南': ['石家庄', '合肥', '北京', '天津'], '南京': ['合肥', '杭州'], '合肥': ['济南', '南京', '南昌'], '杭州': ['南京', '福州', '上海'], '南昌': ['武汉', '合肥'], '福州': ['杭州', '台湾'], '广州': ['长沙', '香港', '澳门'], '长沙': ['武汉', '郑州', '广州', '香港', '澳门'], '海口': ['南宁'], '沈阳': ['长春'], '长春': ['沈阳', '哈尔滨'], '哈尔滨': ['长春'], '太原': ['石家庄', '郑州', '呼和浩特'], '台湾': ['福州'], '北京': ['石家庄', '济南', '天津'], '上海': ['杭州'], '重庆': ['成都', '贵阳', '银川'], '天津': ['济南', '北京'], '呼和浩特': ['太原'], '南宁': ['贵阳', '海口'], '银川': ['兰州', '重庆'], '香港': ['广州', '长沙', '澳门'], '澳门': ['广州', '长沙', '香港']}\n"
     ]
    }
   ],
   "source": [
    "connection_addr = {}\n",
    "for start_city in city_dict.keys():\n",
    "    next_city = []\n",
    "    for end_city in city_dict.keys():\n",
    "        city_distance = calculate_distance(start_city, end_city)\n",
    "        if 0 < city_distance <= 300:\n",
    "#             print(city_distance, end_city)\n",
    "            next_city.append(end_city)\n",
    "    if next_city: connection_addr[start_city] = next_city\n",
    "print(connection_addr)"
   ]
  },
  {
   "cell_type": "code",
   "execution_count": 17,
   "metadata": {},
   "outputs": [
    {
     "data": {
      "image/png": "[encoded data removed]",
      "text/plain": [
       "<Figure size 432x288 with 1 Axes>"
      ]
     },
     "metadata": {},
     "output_type": "display_data"
    }
   ],
   "source": [
    "nx.draw(nx.Graph(connection_addr), city_dict, with_labels=True, node_size=10)"
   ]
  },
  {
   "cell_type": "markdown",
   "metadata": {},
   "source": [
    "### 计算两个地点之间经过哪些站点"
   ]
  },
  {
   "cell_type": "markdown",
   "metadata": {},
   "source": [
    "#### 先来个简单的测试"
   ]
  },
  {
   "cell_type": "code",
   "execution_count": 38,
   "metadata": {},
   "outputs": [],
   "source": [
    "simple_connection_addr = {\n",
    "    '北京': ['太原', '沈阳'],\n",
    "    '太原': ['北京', '西安', '郑州'],\n",
    "    '兰州': ['西安'],\n",
    "    '郑州': ['太原'],\n",
    "    '西安': ['太原', '兰州', '长沙'],\n",
    "    '长沙': ['福州', '南宁'],\n",
    "    '沈阳': ['北京'],\n",
    "    '南宁': ['长沙'],\n",
    "    '福州': ['长沙'],\n",
    "}"
   ]
  },
  {
   "cell_type": "code",
   "execution_count": 39,
   "metadata": {},
   "outputs": [
    {
     "data": {
      "image/png": "[encoded data removed]",
      "text/plain": [
       "<Figure size 432x288 with 1 Axes>"
      ]
     },
     "metadata": {},
     "output_type": "display_data"
    }
   ],
   "source": [
    "nx.draw(nx.Graph(simple_connection_addr), city_dict, with_labels=True, node_size=10)"
   ]
  },
  {
   "cell_type": "code",
   "execution_count": 40,
   "metadata": {},
   "outputs": [],
   "source": [
    "from collections import defaultdict"
   ]
  },
  {
   "cell_type": "code",
   "execution_count": 21,
   "metadata": {},
   "outputs": [
    {
     "name": "stdout",
     "output_type": "stream",
     "text": [
      "defaultdict(<class 'list'>, {'a': '1', 'b': '2', 'c': '3'})\n",
      "[]\n"
     ]
    }
   ],
   "source": [
    "# 测试获取一个不存在的key时，返回空list\n",
    "t = {\n",
    "    'a': '1',\n",
    "    'b': '2',\n",
    "    'c': '3',\n",
    "}\n",
    "new_t = defaultdict(list)\n",
    "new_t.update(t)\n",
    "print(new_t)\n",
    "print(new_t['d'])"
   ]
  },
  {
   "cell_type": "markdown",
   "metadata": {},
   "source": [
    "### 搜索从某一点出发的所有路线"
   ]
  },
  {
   "cell_type": "code",
   "execution_count": 45,
   "metadata": {},
   "outputs": [],
   "source": [
    "# 搜索从某一地出发的所有路线\n",
    "def simple_search_path(start_addr, simple_connection_addr):\n",
    "    # 处理下面在获取不存在key时异常问题\n",
    "    connection_addr = defaultdict(list)\n",
    "    connection_addr.update(simple_connection_addr)\n",
    "    # 存放所有的路径，从 start_addr 出发\n",
    "    all_paths = [[start_addr]]\n",
    "    # 已经搜索过的地点\n",
    "    visited_addr_list = set()\n",
    "    # 结果集\n",
    "    paths_result = []\n",
    "    while all_paths:\n",
    "        b = True\n",
    "        # 取出最先加入的地址，开始搜索\n",
    "        one_path = all_paths.pop(0)\n",
    "#         one_path = all_paths.pop()\n",
    "        # 取出 path 的最后一个地址\n",
    "        last_addr = one_path[-1]\n",
    "        # 取出当前搜索地址连接的下一站地址\n",
    "        next_addr_list = connection_addr[last_addr]\n",
    "        for next_addr in next_addr_list:\n",
    "            if next_addr in visited_addr_list: continue\n",
    "            # 生成新的 path ，加入到all_paths中\n",
    "            all_paths.append(one_path + [next_addr])\n",
    "            b = False\n",
    "        if b: paths_result.append(one_path)\n",
    "        visited_addr_list.add(last_addr)\n",
    "    return paths_result"
   ]
  },
  {
   "cell_type": "code",
   "execution_count": 46,
   "metadata": {},
   "outputs": [
    {
     "data": {
      "text/plain": [
       "[['西安', '长沙', '南宁'],\n",
       " ['西安', '长沙', '福州'],\n",
       " ['西安', '兰州'],\n",
       " ['西安', '太原', '郑州'],\n",
       " ['西安', '太原', '北京', '沈阳']]"
      ]
     },
     "execution_count": 46,
     "metadata": {},
     "output_type": "execute_result"
    }
   ],
   "source": [
    "simple_search_path('西安', simple_connection_addr)"
   ]
  },
  {
   "cell_type": "markdown",
   "metadata": {},
   "source": [
    "    上述当 one_path = all_paths.pop() 时，结果如下：\n",
    "    [['西安', '长沙', '南宁'],\n",
    "     ['西安', '长沙', '福州'],\n",
    "     ['西安', '兰州'],\n",
    "     ['西安', '太原', '郑州'],\n",
    "     ['西安', '太原', '北京', '沈阳']]\n",
    "    当 one_path = all_paths.pop(0) 时，结果如下：\n",
    "    [['西安', '兰州'],\n",
    "     ['西安', '太原', '郑州'],\n",
    "     ['西安', '长沙', '福州'],\n",
    "     ['西安', '长沙', '南宁'],\n",
    "     ['西安', '太原', '北京', '沈阳']]\n",
    "    可以看出，第一种是深度优先遍历，第二种是广度优先遍历。"
   ]
  },
  {
   "cell_type": "code",
   "execution_count": 49,
   "metadata": {},
   "outputs": [
    {
     "data": {
      "text/plain": [
       "[['石家庄', '北京', '天津', '济南', '合肥', '南昌', '武汉', '长沙', '澳门', '香港', '广州'],\n",
       " ['石家庄', '北京', '天津', '济南', '合肥', '南昌', '武汉', '长沙', '澳门', '广州'],\n",
       " ['石家庄', '北京', '天津', '济南', '合肥', '南昌', '武汉', '长沙', '香港'],\n",
       " ['石家庄', '北京', '天津', '济南', '合肥', '南昌', '武汉', '长沙', '广州'],\n",
       " ['石家庄', '北京', '天津', '济南', '合肥', '南昌', '武汉', '长沙', '郑州', '太原', '呼和浩特'],\n",
       " ['石家庄', '北京', '天津', '济南', '合肥', '南昌', '武汉', '郑州'],\n",
       " ['石家庄', '北京', '天津', '济南', '合肥', '南京', '杭州', '上海'],\n",
       " ['石家庄', '北京', '天津', '济南', '合肥', '南京', '杭州', '福州', '台湾'],\n",
       " ['石家庄', '北京', '济南'],\n",
       " ['石家庄', '太原'],\n",
       " ['石家庄', '济南'],\n",
       " ['石家庄', '郑州']]"
      ]
     },
     "execution_count": 49,
     "metadata": {},
     "output_type": "execute_result"
    }
   ],
   "source": [
    "simple_search_path('石家庄', connection_addr)"
   ]
  },
  {
   "cell_type": "markdown",
   "metadata": {},
   "source": [
    "### 搜索始发地道目的地的一条路径"
   ]
  },
  {
   "cell_type": "code",
   "execution_count": 50,
   "metadata": {},
   "outputs": [],
   "source": [
    "# 搜索两地之间路线\n",
    "def search_2_addr_path(start_addr, end_addr, simple_connection_addr):\n",
    "    # 处理下面在获取不存在key时异常问题\n",
    "    connection_addr = defaultdict(list)\n",
    "    connection_addr.update(simple_connection_addr)\n",
    "    # 存放所有的路径，从 start_addr 出发\n",
    "    all_paths = [[start_addr]]\n",
    "    # 已经搜索过的地点\n",
    "    visited_addr_list = set()\n",
    "    while all_paths:\n",
    "        # 取出最先加入的地址，开始搜索\n",
    "        one_path = all_paths.pop(0)\n",
    "        # 取出 path 的最后一个地址\n",
    "        last_addr = one_path[-1]\n",
    "        # 取出当前搜索地址连接的下一站地址\n",
    "        next_addr_list = connection_addr[last_addr]\n",
    "        for next_addr in next_addr_list:\n",
    "            if next_addr in visited_addr_list: continue\n",
    "            if next_addr == end_addr: return one_path + [next_addr]\n",
    "            # 生成新的 path ，加入到all_paths中\n",
    "            all_paths.append(one_path + [next_addr])\n",
    "        visited_addr_list.add(last_addr)\n",
    "    return []"
   ]
  },
  {
   "cell_type": "code",
   "execution_count": 51,
   "metadata": {},
   "outputs": [
    {
     "data": {
      "text/plain": [
       "['太原', '郑州', '武汉', '南昌']"
      ]
     },
     "execution_count": 51,
     "metadata": {},
     "output_type": "execute_result"
    }
   ],
   "source": [
    "search_2_addr_path('太原', '南昌', connection_addr)"
   ]
  },
  {
   "cell_type": "markdown",
   "metadata": {},
   "source": [
    "### 太原到南昌其实有两条路线：\n",
    "    ['太原', '石家庄', '郑州', '武汉', '南昌']\n",
    "    ['太原', '石家庄', '济南', '合肥', '南昌']\n",
    "    但是我们可以根据距离找到最优的路线，上面那种方式，每次取的都是之前加入的地址那个路径，所以是广度优先遍历（breath first）；\n",
    "    如果我们每次都选择最先加入节点的路径进行搜索，这种方式为深度优先遍历（depth first）。\n",
    "|项目|优点|缺点|\n",
    "|:-----------| :-------------|:-------------|\n",
    "| depth first | 不全部保留结点，占用空间少  | 有回溯操作(即有入栈、出栈操作)，运行速度慢 | \n",
    "| breath first | 无回溯操作(即无入栈、出栈操作)，运行速度快  | 保留全部结点，占用空间大 | "
   ]
  },
  {
   "cell_type": "code",
   "execution_count": null,
   "metadata": {},
   "outputs": [],
   "source": [
    "# 搜索两地之间路线，根据距离\n",
    "def search_2_addr_path(start_addr, end_addr, simple_connection_addr):\n",
    "    # 处理下面在获取不存在key时异常问题\n",
    "    connection_addr = defaultdict(list)\n",
    "    connection_addr.update(simple_connection_addr)\n",
    "    # 存放所有的路径，从 start_addr 出发\n",
    "    all_paths = [[start_addr]]\n",
    "    # 已经搜索过的地点\n",
    "    visited_addr_list = set()\n",
    "    while all_paths:\n",
    "        # 取出最先加入的地址，开始搜索\n",
    "        one_path = all_paths.pop()\n",
    "        # 取出 path 的最后一个地址\n",
    "        last_addr = one_path[-1]\n",
    "        # 取出当前搜索地址连接的下一站地址\n",
    "        next_addr_list = connection_addr[last_addr]\n",
    "        for next_addr in next_addr_list:\n",
    "            if next_addr in visited_addr_list: continue\n",
    "            if next_addr == end_addr: return one_path + [next_addr]\n",
    "            # 生成新的 path ，加入到all_paths中\n",
    "            all_paths.append(one_path + [next_addr])\n",
    "        visited_addr_list.add(last_addr)\n",
    "    return []"
   ]
  },
  {
   "cell_type": "code",
   "execution_count": null,
   "metadata": {},
   "outputs": [],
   "source": [
    "search_2_addr_path('太原', '南昌', connection_addr)"
   ]
  },
  {
   "cell_type": "code",
   "execution_count": null,
   "metadata": {},
   "outputs": [],
   "source": [
    "# 搜索两地之间路线\n",
    "def search_path(start_addr, end_addr, connection_addr):\n",
    "    # 等待搜索的地点\n",
    "    waiting_addr_list = [start_addr]\n",
    "    # 已经搜索过的地点\n",
    "    visited_addr_list = set()\n",
    "    while waiting_addr_list:\n",
    "        # 取出最先加入的地点，开始搜索\n",
    "        waiting_addr = waiting_addr_list.pop(0)\n",
    "        # 如果当前搜索地址已经被搜索过了，继续下一次循环\n",
    "        if waiting_addr in visited_addr_list: continue\n",
    "        # 取出当前搜索地址连接的下一站地址\n",
    "        next_addr_list = connection_addr[waiting_addr]\n",
    "        for next_addr in next_addr_list:\n",
    "            if next_city in visited_addr_list: continue\n",
    "            waiting_addr_list.append(next_city)\n",
    "        visited_addr_list.add(waiting_addr)\n",
    "    return waiting_addr_list"
   ]
  },
  {
   "cell_type": "code",
   "execution_count": null,
   "metadata": {},
   "outputs": [],
   "source": []
  },
  {
   "cell_type": "code",
   "execution_count": null,
   "metadata": {},
   "outputs": [],
   "source": [
    "l = [1, 2, 3]\n",
    "l1 = l.copy()\n",
    "l1.append(4)\n",
    "print(l1)"
   ]
  },
  {
   "cell_type": "code",
   "execution_count": null,
   "metadata": {},
   "outputs": [],
   "source": []
  },
  {
   "cell_type": "code",
   "execution_count": null,
   "metadata": {},
   "outputs": [],
   "source": [
    "t = {\n",
    "    1:[2, 3],\n",
    "    2:[5, 4],\n",
    "    3:[6, 7],\n",
    "    4:[8, 9],\n",
    "    5:[10, 11],\n",
    "    6:[12, 13],\n",
    "    7:[14, 15]\n",
    "}\n",
    "nx.draw(nx.Graph(t), with_labels=True)"
   ]
  },
  {
   "cell_type": "code",
   "execution_count": null,
   "metadata": {},
   "outputs": [],
   "source": []
  },
  {
   "cell_type": "code",
   "execution_count": null,
   "metadata": {},
   "outputs": [],
   "source": []
  },
  {
   "cell_type": "code",
   "execution_count": null,
   "metadata": {},
   "outputs": [],
   "source": []
  },
  {
   "cell_type": "code",
   "execution_count": null,
   "metadata": {},
   "outputs": [],
   "source": [
    "\n"
   ]
  }
 ],
 "metadata": {
  "kernelspec": {
   "display_name": "Python 3",
   "language": "python",
   "name": "python3"
  },
  "language_info": {
   "codemirror_mode": {
    "name": "ipython",
    "version": 3
   },
   "file_extension": ".py",
   "mimetype": "text/x-python",
   "name": "python",
   "nbconvert_exporter": "python",
   "pygments_lexer": "ipython3",
   "version": "3.7.0"
  }
 },
 "nbformat": 4,
 "nbformat_minor": 2
}
