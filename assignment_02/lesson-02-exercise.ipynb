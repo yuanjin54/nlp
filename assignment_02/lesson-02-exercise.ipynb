{
 "cells": [
  {
   "cell_type": "markdown",
   "metadata": {},
   "source": [
    "# lambda 表达式练习\n",
    "\n",
    "    lambda表创建匿名函数"
   ]
  },
  {
   "cell_type": "code",
   "execution_count": 1,
   "metadata": {},
   "outputs": [
    {
     "name": "stdout",
     "output_type": "stream",
     "text": [
      "原列表为：[1, 2, 3, 4, 5, 6, 7]，按照各元素对3取余后的结果排序后的新列表为：[3, 6, 1, 4, 7, 2, 5]\n"
     ]
    }
   ],
   "source": [
    "list_1 = [1, 2, 3, 4, 5, 6, 7]\n",
    "# 表示按照对3取余的结果来对原list排序，并不改变原list的值，返回排序后的新的list\n",
    "list_res = sorted(list_1, key=lambda x: x % 3) \n",
    "print('原列表为：{}，按照各元素对3取余后的结果排序后的新列表为：{}'.format(list_1, list_res))"
   ]
  },
  {
   "cell_type": "code",
   "execution_count": 2,
   "metadata": {},
   "outputs": [],
   "source": [
    "# 创建匿名函数\n",
    "number_plus = lambda x, y: x + y"
   ]
  },
  {
   "cell_type": "code",
   "execution_count": 3,
   "metadata": {},
   "outputs": [
    {
     "name": "stdout",
     "output_type": "stream",
     "text": [
      "The result is 310\n"
     ]
    }
   ],
   "source": [
    "a_plus_b_res = number_plus(100, 210)\n",
    "print(\"The result is {}\".format(a_plus_b_res))"
   ]
  },
  {
   "cell_type": "markdown",
   "metadata": {},
   "source": [
    "# search policy（搜索策略）\n",
    "## 制作简易的中国导航地图"
   ]
  },
  {
   "cell_type": "code",
   "execution_count": 4,
   "metadata": {},
   "outputs": [],
   "source": [
    "# 各个省会城市坐标候选集\n",
    "coordination_source = \"\"\"\n",
    "{name:'兰州', geoCoord:[103.73, 36.03]},\n",
    "{name:'嘉峪关', geoCoord:[98.17, 39.47]},\n",
    "{name:'西宁', geoCoord:[101.74, 36.56]},\n",
    "{name:'成都', geoCoord:[104.06, 30.67]},\n",
    "{name:'石家庄', geoCoord:[114.48, 38.03]},\n",
    "{name:'拉萨', geoCoord:[102.73, 25.04]},\n",
    "{name:'贵阳', geoCoord:[106.71, 26.57]},\n",
    "{name:'武汉', geoCoord:[114.31, 30.52]},\n",
    "{name:'郑州', geoCoord:[113.65, 34.76]},\n",
    "{name:'济南', geoCoord:[117, 36.65]},\n",
    "{name:'南京', geoCoord:[118.78, 32.04]},\n",
    "{name:'合肥', geoCoord:[117.27, 31.86]},\n",
    "{name:'杭州', geoCoord:[120.19, 30.26]},\n",
    "{name:'南昌', geoCoord:[115.89, 28.68]},\n",
    "{name:'福州', geoCoord:[119.3, 26.08]},\n",
    "{name:'广州', geoCoord:[113.23, 23.16]},\n",
    "{name:'长沙', geoCoord:[113, 28.21]},\n",
    "//{name:'海口', geoCoord:[110.35, 20.02]},\n",
    "{name:'沈阳', geoCoord:[123.38, 41.8]},\n",
    "{name:'长春', geoCoord:[125.35, 43.88]},\n",
    "{name:'哈尔滨', geoCoord:[126.63, 45.75]},\n",
    "{name:'太原', geoCoord:[112.53, 37.87]},\n",
    "{name:'西安', geoCoord:[108.95, 34.27]},\n",
    "//{name:'台湾', geoCoord:[121.30, 25.03]},\n",
    "{name:'北京', geoCoord:[116.46, 39.92]},\n",
    "{name:'上海', geoCoord:[121.48, 31.22]},\n",
    "{name:'重庆', geoCoord:[106.54, 29.59]},\n",
    "{name:'天津', geoCoord:[117.2, 39.13]},\n",
    "{name:'呼和浩特', geoCoord:[111.65, 40.82]},\n",
    "{name:'南宁', geoCoord:[108.33, 22.84]},\n",
    "//{name:'西藏', geoCoord:[91.11, 29.97]},\n",
    "{name:'银川', geoCoord:[106.27, 38.47]},\n",
    "{name:'乌鲁木齐', geoCoord:[87.68, 43.77]},\n",
    "{name:'香港', geoCoord:[114.17, 22.28]},\n",
    "{name:'澳门', geoCoord:[113.54, 22.19]},\n",
    "{name:'秦皇岛', geoCoord:[119.64, 39.97]}\n",
    "\"\"\""
   ]
  },
  {
   "cell_type": "markdown",
   "metadata": {},
   "source": [
    "### 1.字符串转字典（k=str, v=list）"
   ]
  },
  {
   "cell_type": "code",
   "execution_count": 5,
   "metadata": {},
   "outputs": [],
   "source": [
    "# 城市对应经纬度\n",
    "city_dict = {}\n",
    "for string in coordination_source.split('\\n'):\n",
    "    if string:\n",
    "        if string.startswith('//'): continue\n",
    "        start_index = string.find('\\'') + 1\n",
    "        end_index = string.find('\\'', start_index)\n",
    "        position = string[string.find('[') + 1:string.find(']')].split(', ')\n",
    "        position_list = [float(position[0]), float(position[1])]\n",
    "        city_dict[string[start_index:end_index]] = position_list"
   ]
  },
  {
   "cell_type": "code",
   "execution_count": 6,
   "metadata": {},
   "outputs": [
    {
     "name": "stdout",
     "output_type": "stream",
     "text": [
      "{'兰州': [103.73, 36.03], '嘉峪关': [98.17, 39.47], '西宁': [101.74, 36.56], '成都': [104.06, 30.67], '石家庄': [114.48, 38.03], '拉萨': [102.73, 25.04], '贵阳': [106.71, 26.57], '武汉': [114.31, 30.52], '郑州': [113.65, 34.76], '济南': [117.0, 36.65], '南京': [118.78, 32.04], '合肥': [117.27, 31.86], '杭州': [120.19, 30.26], '南昌': [115.89, 28.68], '福州': [119.3, 26.08], '广州': [113.23, 23.16], '长沙': [113.0, 28.21], '沈阳': [123.38, 41.8], '长春': [125.35, 43.88], '哈尔滨': [126.63, 45.75], '太原': [112.53, 37.87], '西安': [108.95, 34.27], '北京': [116.46, 39.92], '上海': [121.48, 31.22], '重庆': [106.54, 29.59], '天津': [117.2, 39.13], '呼和浩特': [111.65, 40.82], '南宁': [108.33, 22.84], '银川': [106.27, 38.47], '乌鲁木齐': [87.68, 43.77], '香港': [114.17, 22.28], '澳门': [113.54, 22.19], '秦皇岛': [119.64, 39.97]}\n"
     ]
    }
   ],
   "source": [
    "print(city_dict)"
   ]
  },
  {
   "cell_type": "markdown",
   "metadata": {},
   "source": [
    "### 2.画出交通网络图"
   ]
  },
  {
   "cell_type": "code",
   "execution_count": 7,
   "metadata": {},
   "outputs": [],
   "source": [
    "import networkx as nx\n",
    "import matplotlib.pyplot as plt\n",
    "plt.rcParams['font.sans-serif']=['SimHei']\n",
    "plt.rcParams['axes.unicode_minus']=False"
   ]
  },
  {
   "cell_type": "code",
   "execution_count": 8,
   "metadata": {},
   "outputs": [],
   "source": [
    "city_graph = nx.Graph()"
   ]
  },
  {
   "cell_type": "code",
   "execution_count": 9,
   "metadata": {},
   "outputs": [],
   "source": [
    "city_graph.add_nodes_from(list(city_dict.keys()))"
   ]
  },
  {
   "cell_type": "code",
   "execution_count": 10,
   "metadata": {},
   "outputs": [],
   "source": [
    "%matplotlib inline"
   ]
  },
  {
   "cell_type": "code",
   "execution_count": 37,
   "metadata": {},
   "outputs": [
    {
     "data": {
      "image/png": "[encoded data removed]",
      "text/plain": [
       "<Figure size 432x288 with 1 Axes>"
      ]
     },
     "metadata": {},
     "output_type": "display_data"
    }
   ],
   "source": [
    "nx.draw(city_graph, city_dict, with_labels=True, node_size=20)\n",
    "plt.show()"
   ]
  },
  {
   "cell_type": "markdown",
   "metadata": {},
   "source": [
    "### 3.给定一个阈值，在范围内的构成一个网络"
   ]
  },
  {
   "cell_type": "code",
   "execution_count": 12,
   "metadata": {},
   "outputs": [],
   "source": [
    "import math"
   ]
  },
  {
   "cell_type": "code",
   "execution_count": 13,
   "metadata": {},
   "outputs": [],
   "source": [
    "# 计算两地之间的距离\n",
    "def calculate_distance(address_start, address_end):\n",
    "    dimension_start, longitude_start = city_dict[address_start]\n",
    "    dimension_end, longitude_end = city_dict[address_end]\n",
    "    radius = 6371  # km\n",
    "    dimension_d = math.radians(dimension_end - dimension_start)\n",
    "    longitude_d = math.radians(longitude_end - longitude_start)\n",
    "    val_a = (math.sin(dimension_d / 2) * math.sin(dimension_d / 2) +\n",
    "         math.cos(math.radians(dimension_start)) * math.cos(math.radians(dimension_end)) *\n",
    "         math.sin(longitude_d / 2) * math.sin(longitude_d / 2))\n",
    "    return radius * 2 * math.atan2(math.sqrt(val_a), math.sqrt(1 - val_a))"
   ]
  },
  {
   "cell_type": "code",
   "execution_count": 14,
   "metadata": {},
   "outputs": [
    {
     "data": {
      "text/plain": [
       "703.1572567879595"
      ]
     },
     "execution_count": 14,
     "metadata": {},
     "output_type": "execute_result"
    }
   ],
   "source": [
    "calculate_distance('沈阳', '天津')"
   ]
  },
  {
   "cell_type": "code",
   "execution_count": 15,
   "metadata": {},
   "outputs": [],
   "source": [
    "threshold = 500 # 设置300km"
   ]
  },
  {
   "cell_type": "code",
   "execution_count": 16,
   "metadata": {},
   "outputs": [
    {
     "name": "stdout",
     "output_type": "stream",
     "text": [
      "{'兰州': ['西宁', '成都', '拉萨', '贵阳', '重庆', '银川'], '嘉峪关': ['西宁'], '西宁': ['兰州', '嘉峪关', '成都', '拉萨'], '成都': ['兰州', '西宁', '拉萨', '贵阳', '重庆', '银川'], '石家庄': ['武汉', '郑州', '济南', '合肥', '南昌', '长沙', '太原', '北京', '天津', '呼和浩特'], '拉萨': ['兰州', '西宁', '成都', '贵阳', '重庆'], '贵阳': ['兰州', '成都', '拉萨', '西安', '重庆', '南宁', '银川'], '武汉': ['石家庄', '郑州', '济南', '合肥', '南昌', '广州', '长沙', '太原', '香港', '澳门'], '郑州': ['石家庄', '武汉', '济南', '合肥', '南昌', '长沙', '太原', '北京', '天津', '呼和浩特'], '济南': ['石家庄', '武汉', '郑州', '南京', '合肥', '杭州', '南昌', '北京', '天津', '秦皇岛'], '南京': ['济南', '合肥', '杭州', '南昌', '福州', '北京', '上海', '天津', '秦皇岛'], '合肥': ['石家庄', '武汉', '郑州', '济南', '南京', '杭州', '南昌', '福州', '北京', '上海', '天津'], '杭州': ['济南', '南京', '合肥', '南昌', '福州', '上海'], '南昌': ['石家庄', '武汉', '郑州', '济南', '南京', '合肥', '杭州', '福州', '广州', '长沙', '香港', '澳门'], '福州': ['南京', '合肥', '杭州', '南昌', '上海'], '广州': ['武汉', '南昌', '长沙', '香港', '澳门'], '长沙': ['石家庄', '武汉', '郑州', '南昌', '广州', '太原', '香港', '澳门'], '沈阳': ['长春', '哈尔滨', '秦皇岛'], '长春': ['沈阳', '哈尔滨'], '哈尔滨': ['沈阳', '长春'], '太原': ['石家庄', '武汉', '郑州', '长沙', '西安', '北京', '呼和浩特'], '西安': ['贵阳', '太原', '重庆', '呼和浩特', '南宁', '银川'], '北京': ['石家庄', '郑州', '济南', '南京', '合肥', '太原', '天津', '秦皇岛'], '上海': ['南京', '合肥', '杭州', '福州'], '重庆': ['兰州', '成都', '拉萨', '贵阳', '西安', '南宁', '银川'], '天津': ['石家庄', '郑州', '济南', '南京', '合肥', '北京', '秦皇岛'], '呼和浩特': ['石家庄', '郑州', '太原', '西安'], '南宁': ['贵阳', '西安', '重庆'], '银川': ['兰州', '成都', '贵阳', '西安', '重庆'], '香港': ['武汉', '南昌', '广州', '长沙', '澳门'], '澳门': ['武汉', '南昌', '广州', '长沙', '香港'], '秦皇岛': ['济南', '南京', '沈阳', '北京', '天津']}\n"
     ]
    }
   ],
   "source": [
    "# 构建数据城市之间直接可达的数据结构\n",
    "connection_addr = {}\n",
    "for start_city in city_dict.keys():\n",
    "    next_city = []\n",
    "    for end_city in city_dict.keys():\n",
    "        city_distance = calculate_distance(start_city, end_city)\n",
    "        if 0 < city_distance <= threshold:\n",
    "#             print(city_distance, end_city)\n",
    "            next_city.append(end_city)\n",
    "    if next_city: connection_addr[start_city] = next_city\n",
    "print(connection_addr)"
   ]
  },
  {
   "cell_type": "code",
   "execution_count": 17,
   "metadata": {},
   "outputs": [
    {
     "data": {
      "image/png": "[encoded data removed]",
      "text/plain": [
       "<Figure size 432x288 with 1 Axes>"
      ]
     },
     "metadata": {},
     "output_type": "display_data"
    }
   ],
   "source": [
    "nx.draw(nx.Graph(connection_addr), city_dict, with_labels=True, node_size=10)"
   ]
  },
  {
   "cell_type": "markdown",
   "metadata": {},
   "source": [
    "### 4.计算两个地点之间的导航路径"
   ]
  },
  {
   "cell_type": "markdown",
   "metadata": {},
   "source": [
    "#### 4.1搜索从始发站到终点站路程最短的路线"
   ]
  },
  {
   "cell_type": "code",
   "execution_count": 18,
   "metadata": {},
   "outputs": [],
   "source": [
    "from collections import defaultdict"
   ]
  },
  {
   "cell_type": "code",
   "execution_count": 19,
   "metadata": {},
   "outputs": [
    {
     "name": "stdout",
     "output_type": "stream",
     "text": [
      "defaultdict(<class 'list'>, {'a': '1', 'b': '2', 'c': '3'})\n",
      "[]\n"
     ]
    }
   ],
   "source": [
    "# 测试获取一个不存在的key时，返回空list\n",
    "t = {\n",
    "    'a': '1',\n",
    "    'b': '2',\n",
    "    'c': '3',\n",
    "}\n",
    "new_t = defaultdict(list)\n",
    "new_t.update(t)\n",
    "print(new_t)\n",
    "print(new_t['d'])"
   ]
  },
  {
   "cell_type": "code",
   "execution_count": 20,
   "metadata": {},
   "outputs": [],
   "source": [
    "# 计算路线长度\n",
    "def calculate_path_distance(path):\n",
    "    distance = 0\n",
    "    if len(path) < 2: return 0\n",
    "    for i in range(1,len(path)):\n",
    "        distance += calculate_distance(path[i], path[i-1])\n",
    "#     print('path: {}，distance: {:.2f} km'.format(' 🚕 '.join(path),distance))\n",
    "    return distance\n",
    "        \n",
    "# 根据距离最短排序      \n",
    "def sorted_by_distance(paths):\n",
    "    if len(paths) < 2: return paths\n",
    "    # sorted 函数默认是升序\n",
    "    return sorted(paths, key=calculate_path_distance)"
   ]
  },
  {
   "cell_type": "code",
   "execution_count": 21,
   "metadata": {},
   "outputs": [],
   "source": [
    "# 搜索从某一地出发的所有路线(全局最短路程)\n",
    "def search_start_to_end_city_path(start_city, end_city, connection_addr_dict):\n",
    "    # 处理下面在获取不存在key时异常问题\n",
    "    connection_addr = defaultdict(list)\n",
    "    connection_addr.update(connection_addr_dict)\n",
    "    # key表示为city，value表示以key结尾的最短路径\n",
    "    short_paths_dict = {}\n",
    "    short_paths = defaultdict(list)\n",
    "    short_paths.update(short_paths_dict)\n",
    "    # 存放待搜索路径，路径最后一个城市代表下一次即将搜索\n",
    "    paths = [[start_city]]\n",
    "    # 存放已经搜索过得城市\n",
    "    visited_addr = set()\n",
    "    while paths:\n",
    "        # 取出一条路径，这里取得是最前面的一条\n",
    "        path = paths.pop(0)\n",
    "        # 取出路径的最后一个城市\n",
    "        last_city = path[-1]\n",
    "        # 查询城市下面链接的城市\n",
    "        citys = connection_addr[last_city]\n",
    "        for city in citys:\n",
    "            # 如果城市已经被搜索过，继续循环\n",
    "            if city in visited_addr: continue\n",
    "            # 判断一下历史short_paths中是不是已经有了到达该city的path，已经有了需要进行比较，替换成最短的path\n",
    "            if short_paths[city]:\n",
    "                old = calculate_path_distance(short_paths[city])\n",
    "                new = calculate_path_distance(path + [city])\n",
    "                if new < old: short_paths[city] = path + [city]\n",
    "            else:\n",
    "                short_paths[city] = path + [city]\n",
    "            # 把city追加到path后面生成新的一个path并插入到paths中\n",
    "            paths.append(path + [city])\n",
    "        # 把last_city添加到已搜索过得集合中\n",
    "        visited_addr.add(last_city)\n",
    "        # 按照距离排序\n",
    "        paths = sorted_by_distance(paths)\n",
    "#         print(\"排序后：{}\".format(paths))\n",
    "    return short_paths[end_city]"
   ]
  },
  {
   "cell_type": "code",
   "execution_count": 22,
   "metadata": {},
   "outputs": [],
   "source": [
    "def print_path_info(path):\n",
    "    path_str = ' > 🚕> '.join(path)\n",
    "    print(\"path: {}\".format(path_str))\n",
    "    print(\"distance = {:.2f} km\".format(calculate_path_distance(path)))"
   ]
  },
  {
   "cell_type": "markdown",
   "metadata": {},
   "source": [
    "#### a.先来个简单的测试"
   ]
  },
  {
   "cell_type": "code",
   "execution_count": 23,
   "metadata": {},
   "outputs": [],
   "source": [
    "simple_connection_addr = {\n",
    "    '北京': ['太原', '沈阳'],\n",
    "    '太原': ['北京', '西安', '郑州'],\n",
    "    '兰州': ['西安'],\n",
    "    '郑州': ['太原', '长沙', '福州'],\n",
    "    '西安': ['太原', '兰州', '长沙'],\n",
    "    '长沙': ['福州', '南宁', '郑州', '西安'],\n",
    "    '沈阳': ['北京'],\n",
    "    '南宁': ['长沙'],\n",
    "    '福州': ['长沙', '上海', '郑州'],\n",
    "    '上海': ['福州'],\n",
    "}"
   ]
  },
  {
   "cell_type": "code",
   "execution_count": 24,
   "metadata": {},
   "outputs": [
    {
     "data": {
      "image/png": "[encoded data removed]",
      "text/plain": [
       "<Figure size 432x288 with 1 Axes>"
      ]
     },
     "metadata": {},
     "output_type": "display_data"
    }
   ],
   "source": [
    "nx.draw(nx.Graph(simple_connection_addr), city_dict, with_labels=True, node_size=10)"
   ]
  },
  {
   "cell_type": "code",
   "execution_count": 27,
   "metadata": {},
   "outputs": [
    {
     "name": "stdout",
     "output_type": "stream",
     "text": [
      "path: 沈阳 > 🚕> 北京 > 🚕> 太原 > 🚕> 郑州 > 🚕> 长沙 > 🚕> 南宁\n",
      "distance = 2264.58 km\n"
     ]
    }
   ],
   "source": [
    "path = search_start_to_end_city_path('沈阳', '南宁', simple_connection_addr)\n",
    "print_path_info(path)"
   ]
  },
  {
   "cell_type": "code",
   "execution_count": 28,
   "metadata": {},
   "outputs": [
    {
     "name": "stdout",
     "output_type": "stream",
     "text": [
      "path: 兰州 > 🚕> 西安 > 🚕> 长沙 > 🚕> 福州\n",
      "distance = 1801.45 km\n"
     ]
    }
   ],
   "source": [
    "path = search_start_to_end_city_path('兰州', '福州', simple_connection_addr)\n",
    "print_path_info(path)"
   ]
  },
  {
   "cell_type": "markdown",
   "metadata": {},
   "source": [
    "#### b.切换成中国地图进行测试"
   ]
  },
  {
   "cell_type": "code",
   "execution_count": 29,
   "metadata": {},
   "outputs": [
    {
     "name": "stdout",
     "output_type": "stream",
     "text": [
      "path: 沈阳 > 🚕> 秦皇岛 > 🚕> 天津 > 🚕> 石家庄 > 🚕> 太原 > 🚕> 西安 > 🚕> 南宁\n",
      "distance = 2061.96 km\n"
     ]
    }
   ],
   "source": [
    "path = search_start_to_end_city_path('沈阳', '南宁', connection_addr)\n",
    "print_path_info(path)"
   ]
  },
  {
   "cell_type": "code",
   "execution_count": 30,
   "metadata": {},
   "outputs": [
    {
     "name": "stdout",
     "output_type": "stream",
     "text": [
      "path: 兰州 > 🚕> 银川 > 🚕> 西安 > 🚕> 太原 > 🚕> 郑州 > 🚕> 南昌 > 🚕> 福州\n",
      "distance = 2006.02 km\n"
     ]
    }
   ],
   "source": [
    "path = search_start_to_end_city_path('兰州', '福州', connection_addr)\n",
    "print_path_info(path)"
   ]
  },
  {
   "cell_type": "markdown",
   "metadata": {},
   "source": [
    "#### 4.2搜索始发城市到终点城市之间换成站较少的路线"
   ]
  },
  {
   "cell_type": "code",
   "execution_count": 31,
   "metadata": {},
   "outputs": [],
   "source": [
    "# 搜索从某一地出发到另一地的一条换乘最少路线\n",
    "def search_less_citys_path(start_city, end_city, connection_addr_dict):\n",
    "    # 处理下面在获取不存在key时异常问题\n",
    "    connection_addr = defaultdict(list)\n",
    "    connection_addr.update(connection_addr_dict)\n",
    "    paths = [[start_city]]\n",
    "    visited_addr = set()\n",
    "    while paths:\n",
    "        path = paths.pop(0)\n",
    "        last_city = path[-1]\n",
    "        citys = connection_addr[last_city]\n",
    "        for city in citys:\n",
    "            if city in visited_addr: continue\n",
    "            if city == end_city: return path + [city]\n",
    "            paths.append(path + [city])\n",
    "        visited_addr.add(last_city)\n",
    "        paths = sorted(paths, key=len)\n",
    "    return paths_result"
   ]
  },
  {
   "cell_type": "markdown",
   "metadata": {},
   "source": [
    "#### a.简单测试"
   ]
  },
  {
   "cell_type": "code",
   "execution_count": 32,
   "metadata": {},
   "outputs": [
    {
     "name": "stdout",
     "output_type": "stream",
     "text": [
      "path: 太原 > 🚕> 西安 > 🚕> 兰州\n",
      "distance = 1005.37 km\n"
     ]
    }
   ],
   "source": [
    "path = search_less_citys_path('太原', '兰州', simple_connection_addr)\n",
    "print_path_info(path)"
   ]
  },
  {
   "cell_type": "markdown",
   "metadata": {},
   "source": [
    "#### b.测试中国地图"
   ]
  },
  {
   "cell_type": "code",
   "execution_count": 33,
   "metadata": {},
   "outputs": [
    {
     "name": "stdout",
     "output_type": "stream",
     "text": [
      "path: 太原 > 🚕> 西安 > 🚕> 贵阳 > 🚕> 兰州\n",
      "distance = 1213.85 km\n"
     ]
    }
   ],
   "source": [
    "path = search_less_citys_path('太原', '兰州', connection_addr)\n",
    "print_path_info(path)"
   ]
  },
  {
   "cell_type": "markdown",
   "metadata": {},
   "source": [
    "### 5.总结\n",
    "\n",
    "    1、我设计的路程最短那个算法是全局最优算法，能找到全局最短路径，但是由于要存储可达所有城市的最短路径，还要计算每条路径的距离且进行排序，计算量较大，消耗内存也有点大，所以当地图网络较为复杂时，等待计算返回结果时间偏长。不知道有没有更好的优化方案？\n",
    "    2、换成站较少的这个算法，计算量较小，能很快返回结果，返回的结果虽然满足了换乘站较少条件，但是结果并不一定是全局最优的，全局最优的是既满足换乘较少，又满足路程较短的路径。\n",
    "    \n",
    "    深度优先遍历(depth first) \n",
    "    优点：不全部保留结点，占用空间少                 缺点：有回溯操作(即有入栈、出栈操作)，运行速度慢\n",
    "    广度优先遍历(breath first) \n",
    "    优点：无回溯操作(即无入栈、出栈操作)，运行速度快   缺点：保留全部结点，占用空间大"
   ]
  },
  {
   "cell_type": "markdown",
   "metadata": {},
   "source": [
    "### 6.二者最优化算法：即获取换乘较少、路程较短的路径"
   ]
  },
  {
   "cell_type": "code",
   "execution_count": 34,
   "metadata": {},
   "outputs": [],
   "source": [
    "# 搜索从某一地出发到另一地的一条路线\n",
    "def search_best_path(start_city, end_city, connection_addr_dict):\n",
    "    # 处理下面在获取不存在key时异常问题\n",
    "    connection_addr = defaultdict(list)\n",
    "    connection_addr.update(connection_addr_dict)\n",
    "    # 存储可达end_city的所有path\n",
    "    paths_result = []\n",
    "    paths = [[start_city]]\n",
    "    visited_addr = set()\n",
    "    while paths:\n",
    "        path = paths.pop(0)\n",
    "        last_city = path[-1]\n",
    "        citys = connection_addr[last_city]\n",
    "        for city in citys:\n",
    "            if city in visited_addr: continue\n",
    "            if city == end_city: \n",
    "                paths_result.append(path + [city])\n",
    "                continue\n",
    "            paths.append(path + [city])\n",
    "        visited_addr.add(last_city)\n",
    "        paths = sorted(paths, key=len)\n",
    "    return sorted_by_distance(paths_result)[0]"
   ]
  },
  {
   "cell_type": "markdown",
   "metadata": {},
   "source": [
    "#### a.简单地图测试"
   ]
  },
  {
   "cell_type": "code",
   "execution_count": 35,
   "metadata": {},
   "outputs": [
    {
     "name": "stdout",
     "output_type": "stream",
     "text": [
      "path: 太原 > 🚕> 西安 > 🚕> 兰州\n",
      "distance = 1005.37 km\n"
     ]
    }
   ],
   "source": [
    "path = search_best_path('太原', '兰州', simple_connection_addr)\n",
    "print_path_info(path)"
   ]
  },
  {
   "cell_type": "markdown",
   "metadata": {},
   "source": [
    "#### b.中国地图测试"
   ]
  },
  {
   "cell_type": "code",
   "execution_count": 36,
   "metadata": {},
   "outputs": [
    {
     "name": "stdout",
     "output_type": "stream",
     "text": [
      "path: 太原 > 🚕> 西安 > 🚕> 银川 > 🚕> 兰州\n",
      "distance = 1042.98 km\n"
     ]
    }
   ],
   "source": [
    "path = search_best_path('太原', '兰州', connection_addr)\n",
    "print_path_info(path)"
   ]
  },
  {
   "cell_type": "code",
   "execution_count": null,
   "metadata": {},
   "outputs": [],
   "source": []
  },
  {
   "cell_type": "code",
   "execution_count": null,
   "metadata": {},
   "outputs": [],
   "source": []
  }
 ],
 "metadata": {
  "kernelspec": {
   "display_name": "Python 3",
   "language": "python",
   "name": "python3"
  },
  "language_info": {
   "codemirror_mode": {
    "name": "ipython",
    "version": 3
   },
   "file_extension": ".py",
   "mimetype": "text/x-python",
   "name": "python",
   "nbconvert_exporter": "python",
   "pygments_lexer": "ipython3",
   "version": "3.6.5"
  }
 },
 "nbformat": 4,
 "nbformat_minor": 2
}
