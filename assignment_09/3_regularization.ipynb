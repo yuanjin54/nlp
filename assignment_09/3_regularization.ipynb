{
 "cells": [
  {
   "cell_type": "markdown",
   "metadata": {
    "colab_type": "text",
    "id": "kR-4eNdK6lYS"
   },
   "source": [
    "Deep Learning\n",
    "=============\n",
    "\n",
    "Assignment 3\n",
    "------------\n",
    "\n",
    "Previously in `2_fullyconnected.ipynb`, you trained a logistic regression and a neural network model.\n",
    "\n",
    "The goal of this assignment is to explore regularization techniques."
   ]
  },
  {
   "cell_type": "code",
   "execution_count": 1,
   "metadata": {
    "cellView": "both",
    "colab": {
     "autoexec": {
      "startup": false,
      "wait_interval": 0
     }
    },
    "colab_type": "code",
    "id": "JLpLa8Jt7Vu4"
   },
   "outputs": [
    {
     "name": "stderr",
     "output_type": "stream",
     "text": [
      "/usr/local/lib/python3.6/site-packages/tensorflow/python/framework/dtypes.py:523: FutureWarning: Passing (type, 1) or '1type' as a synonym of type is deprecated; in a future version of numpy, it will be understood as (type, (1,)) / '(1,)type'.\n",
      "  _np_qint8 = np.dtype([(\"qint8\", np.int8, 1)])\n",
      "/usr/local/lib/python3.6/site-packages/tensorflow/python/framework/dtypes.py:524: FutureWarning: Passing (type, 1) or '1type' as a synonym of type is deprecated; in a future version of numpy, it will be understood as (type, (1,)) / '(1,)type'.\n",
      "  _np_quint8 = np.dtype([(\"quint8\", np.uint8, 1)])\n",
      "/usr/local/lib/python3.6/site-packages/tensorflow/python/framework/dtypes.py:525: FutureWarning: Passing (type, 1) or '1type' as a synonym of type is deprecated; in a future version of numpy, it will be understood as (type, (1,)) / '(1,)type'.\n",
      "  _np_qint16 = np.dtype([(\"qint16\", np.int16, 1)])\n",
      "/usr/local/lib/python3.6/site-packages/tensorflow/python/framework/dtypes.py:526: FutureWarning: Passing (type, 1) or '1type' as a synonym of type is deprecated; in a future version of numpy, it will be understood as (type, (1,)) / '(1,)type'.\n",
      "  _np_quint16 = np.dtype([(\"quint16\", np.uint16, 1)])\n",
      "/usr/local/lib/python3.6/site-packages/tensorflow/python/framework/dtypes.py:527: FutureWarning: Passing (type, 1) or '1type' as a synonym of type is deprecated; in a future version of numpy, it will be understood as (type, (1,)) / '(1,)type'.\n",
      "  _np_qint32 = np.dtype([(\"qint32\", np.int32, 1)])\n",
      "/usr/local/lib/python3.6/site-packages/tensorflow/python/framework/dtypes.py:532: FutureWarning: Passing (type, 1) or '1type' as a synonym of type is deprecated; in a future version of numpy, it will be understood as (type, (1,)) / '(1,)type'.\n",
      "  np_resource = np.dtype([(\"resource\", np.ubyte, 1)])\n"
     ]
    }
   ],
   "source": [
    "# These are all the modules we'll be using later. Make sure you can import them\n",
    "# before proceeding further.\n",
    "from __future__ import print_function\n",
    "import numpy as np\n",
    "import tensorflow as tf\n",
    "from six.moves import cPickle as pickle"
   ]
  },
  {
   "cell_type": "code",
   "execution_count": 2,
   "metadata": {},
   "outputs": [],
   "source": [
    "pickle_file = '../../nlp_data_set/notmnist/notMNIST_good.pickle'"
   ]
  },
  {
   "cell_type": "markdown",
   "metadata": {
    "colab_type": "text",
    "id": "1HrCK6e17WzV"
   },
   "source": [
    "First reload the data we generated in `1_notmnist.ipynb`."
   ]
  },
  {
   "cell_type": "code",
   "execution_count": 3,
   "metadata": {
    "cellView": "both",
    "colab": {
     "autoexec": {
      "startup": false,
      "wait_interval": 0
     },
     "output_extras": [
      {
       "item_id": 1
      }
     ]
    },
    "colab_type": "code",
    "executionInfo": {
     "elapsed": 11777,
     "status": "ok",
     "timestamp": 1449849322348,
     "user": {
      "color": "",
      "displayName": "",
      "isAnonymous": false,
      "isMe": true,
      "permissionId": "",
      "photoUrl": "",
      "sessionId": "0",
      "userId": ""
     },
     "user_tz": 480
    },
    "id": "y3-cj1bpmuxc",
    "outputId": "e03576f1-ebbe-4838-c388-f1777bcc9873"
   },
   "outputs": [
    {
     "name": "stdout",
     "output_type": "stream",
     "text": [
      "Training set (192339, 28, 28) (192339,)\n",
      "Validation set (10000, 28, 28) (10000,)\n",
      "Test set (10000, 28, 28) (10000,)\n"
     ]
    }
   ],
   "source": [
    "with open(pickle_file, 'rb') as f:\n",
    "    save = pickle.load(f)\n",
    "    train_dataset = save['train_dataset']\n",
    "    train_labels = save['train_labels']\n",
    "    valid_dataset = save['valid_dataset']\n",
    "    valid_labels = save['valid_labels']\n",
    "    test_dataset = save['test_dataset']\n",
    "    test_labels = save['test_labels']\n",
    "    del save  # hint to help gc free up memory\n",
    "    print('Training set', train_dataset.shape, train_labels.shape)\n",
    "    print('Validation set', valid_dataset.shape, valid_labels.shape)\n",
    "    print('Test set', test_dataset.shape, test_labels.shape)"
   ]
  },
  {
   "cell_type": "markdown",
   "metadata": {
    "colab_type": "text",
    "id": "L7aHrm6nGDMB"
   },
   "source": [
    "Reformat into a shape that's more adapted to the models we're going to train:\n",
    "- data as a flat matrix,\n",
    "- labels as float 1-hot encodings."
   ]
  },
  {
   "cell_type": "code",
   "execution_count": 4,
   "metadata": {
    "cellView": "both",
    "colab": {
     "autoexec": {
      "startup": false,
      "wait_interval": 0
     },
     "output_extras": [
      {
       "item_id": 1
      }
     ]
    },
    "colab_type": "code",
    "executionInfo": {
     "elapsed": 11728,
     "status": "ok",
     "timestamp": 1449849322356,
     "user": {
      "color": "",
      "displayName": "",
      "isAnonymous": false,
      "isMe": true,
      "permissionId": "",
      "photoUrl": "",
      "sessionId": "0",
      "userId": ""
     },
     "user_tz": 480
    },
    "id": "IRSyYiIIGIzS",
    "outputId": "3f8996ee-3574-4f44-c953-5c8a04636582"
   },
   "outputs": [
    {
     "name": "stdout",
     "output_type": "stream",
     "text": [
      "Training set (192339, 784) (192339, 10)\n",
      "Validation set (10000, 784) (10000, 10)\n",
      "Test set (10000, 784) (10000, 10)\n"
     ]
    }
   ],
   "source": [
    "image_size = 28\n",
    "num_labels = 10\n",
    "\n",
    "def reformat(dataset, labels):\n",
    "    dataset = dataset.reshape((-1, image_size * image_size)).astype(np.float32)\n",
    "    # Map 1 to [0.0, 1.0, 0.0 ...], 2 to [0.0, 0.0, 1.0 ...]\n",
    "    labels = (np.arange(num_labels) == labels[:,None]).astype(np.float32)\n",
    "    return dataset, labels\n",
    "train_dataset, train_labels = reformat(train_dataset, train_labels)\n",
    "valid_dataset, valid_labels = reformat(valid_dataset, valid_labels)\n",
    "test_dataset, test_labels = reformat(test_dataset, test_labels)\n",
    "print('Training set', train_dataset.shape, train_labels.shape)\n",
    "print('Validation set', valid_dataset.shape, valid_labels.shape)\n",
    "print('Test set', test_dataset.shape, test_labels.shape)"
   ]
  },
  {
   "cell_type": "code",
   "execution_count": 5,
   "metadata": {
    "cellView": "both",
    "colab": {
     "autoexec": {
      "startup": false,
      "wait_interval": 0
     }
    },
    "colab_type": "code",
    "id": "RajPLaL_ZW6w"
   },
   "outputs": [],
   "source": [
    "def accuracy(predictions, labels):\n",
    "    return (100.0 * np.sum(np.argmax(predictions, 1) == np.argmax(labels, 1))\n",
    "          / predictions.shape[0])"
   ]
  },
  {
   "cell_type": "markdown",
   "metadata": {
    "colab_type": "text",
    "id": "sgLbUAQ1CW-1"
   },
   "source": [
    "---\n",
    "Problem 1\n",
    "---------\n",
    "\n",
    "Introduce and tune L2 regularization for both logistic and neural network models. Remember that L2 amounts to adding a penalty on the norm of the weights to the loss. In TensorFlow, you can compute the L2 loss for a tensor `t` using `nn.l2_loss(t)`. The right amount of regularization should improve your validation / test accuracy.\n",
    "\n",
    "---"
   ]
  },
  {
   "cell_type": "code",
   "execution_count": 6,
   "metadata": {},
   "outputs": [],
   "source": [
    "lr = 0.05\n",
    "epochs = 100\n",
    "batch_size =500\n",
    "hidden_nodes = 1024\n",
    "num_steps = 4001"
   ]
  },
  {
   "cell_type": "markdown",
   "metadata": {},
   "source": [
    "- logistic"
   ]
  },
  {
   "cell_type": "code",
   "execution_count": 7,
   "metadata": {},
   "outputs": [
    {
     "name": "stdout",
     "output_type": "stream",
     "text": [
      "Tensor(\"Placeholder:0\", shape=(500, 784), dtype=float32)\n",
      "WARNING:tensorflow:From <ipython-input-7-d25643772812>:17: softmax_cross_entropy_with_logits (from tensorflow.python.ops.nn_ops) is deprecated and will be removed in a future version.\n",
      "Instructions for updating:\n",
      "\n",
      "Future major versions of TensorFlow will allow gradients to flow\n",
      "into the labels input on backprop by default.\n",
      "\n",
      "See `tf.nn.softmax_cross_entropy_with_logits_v2`.\n",
      "\n",
      "Initialized\n",
      "Minibatch loss at step 0: 21.418232\n",
      "Minibatch accuracy: 5.4%\n",
      "Validation accuracy: 7.4%\n",
      "Minibatch loss at step 500: 3.484394\n",
      "Minibatch accuracy: 66.0%\n",
      "Validation accuracy: 66.6%\n",
      "Minibatch loss at step 1000: 2.427581\n",
      "Minibatch accuracy: 69.4%\n",
      "Validation accuracy: 71.2%\n",
      "Minibatch loss at step 1500: 2.312521\n",
      "Minibatch accuracy: 68.8%\n",
      "Validation accuracy: 72.9%\n",
      "Minibatch loss at step 2000: 1.979519\n",
      "Minibatch accuracy: 76.0%\n",
      "Validation accuracy: 73.5%\n",
      "Minibatch loss at step 2500: 2.117676\n",
      "Minibatch accuracy: 71.2%\n",
      "Validation accuracy: 74.1%\n",
      "Minibatch loss at step 3000: 2.024105\n",
      "Minibatch accuracy: 71.6%\n",
      "Validation accuracy: 74.5%\n",
      "Minibatch loss at step 3500: 1.801237\n",
      "Minibatch accuracy: 74.0%\n",
      "Validation accuracy: 75.0%\n",
      "Minibatch loss at step 4000: 1.502247\n",
      "Minibatch accuracy: 76.2%\n",
      "Validation accuracy: 75.2%\n",
      "Test accuracy: 82.1%\n"
     ]
    }
   ],
   "source": [
    "graph = tf.Graph()\n",
    "with graph.as_default():\n",
    "    # datasets\n",
    "    train_X = tf.placeholder(tf.float32, shape=(batch_size, image_size * image_size))\n",
    "    train_y = tf.placeholder(tf.float32, shape=(batch_size, num_labels))\n",
    "    valid_X = tf.constant(valid_dataset)\n",
    "    test_X = tf.constant(test_dataset)\n",
    "    print(train_X)\n",
    "\n",
    "    # --------Create the first layer (1024 hidden nodes)--------\n",
    "    W1 = tf.Variable(tf.truncated_normal([image_size * image_size, num_labels]))\n",
    "    b1 = tf.Variable(tf.zeros([num_labels]))\n",
    "    logits = tf.add(tf.matmul(train_X, W1), b1)\n",
    "\n",
    "    # Minimize error using cross entropy\n",
    "    loss = tf.reduce_mean(\n",
    "        tf.nn.softmax_cross_entropy_with_logits(labels=train_y, logits=logits))\n",
    "\n",
    "    # Gradient Descent\n",
    "    optimizer = tf.train.GradientDescentOptimizer(lr).minimize(loss)\n",
    "\n",
    "    # Predictions for the training, validation, and test data.\n",
    "    train_prediction = tf.nn.softmax(tf.add(tf.matmul(train_X, W1), b1))\n",
    "\n",
    "    valid_prediction = tf.nn.softmax(tf.add(tf.matmul(valid_X, W1), b1))\n",
    "\n",
    "    test_prediction = tf.nn.softmax(tf.add(tf.matmul(test_X, W1), b1))\n",
    "\n",
    "with tf.Session(graph=graph) as session:\n",
    "    tf.global_variables_initializer().run()\n",
    "    print(\"Initialized\")\n",
    "    for step in range(num_steps):\n",
    "        rand_index = np.random.choice(len(train_dataset), size=batch_size, replace=False)\n",
    "        batch_data = np.array([train_dataset[i] for i in rand_index])\n",
    "        batch_labels = np.array([train_labels[i] for i in rand_index])\n",
    "        feed_dict = {train_X : batch_data, train_y : batch_labels}\n",
    "        _, l, predictions = session.run([optimizer, loss, train_prediction], \n",
    "                                        feed_dict=feed_dict)\n",
    "        if (step % 500 == 0):\n",
    "            print(\"Minibatch loss at step %d: %f\" % (step, l))\n",
    "            print(\"Minibatch accuracy: %.1f%%\" % accuracy(predictions, batch_labels))\n",
    "            print(\"Validation accuracy: %.1f%%\" % accuracy(valid_prediction.eval(), \n",
    "                                                           valid_labels))\n",
    "    print(\"Test accuracy: %.1f%%\" % accuracy(test_prediction.eval(), test_labels))"
   ]
  },
  {
   "cell_type": "markdown",
   "metadata": {},
   "source": [
    "- neural network"
   ]
  },
  {
   "cell_type": "code",
   "execution_count": 8,
   "metadata": {},
   "outputs": [
    {
     "name": "stdout",
     "output_type": "stream",
     "text": [
      "Tensor(\"Placeholder:0\", shape=(500, 784), dtype=float32)\n",
      "Tensor(\"Relu:0\", shape=(500, 1024), dtype=float32)\n",
      "Initialized\n",
      "Minibatch loss at step 0: 458.301849\n",
      "Minibatch accuracy: 3.4%\n",
      "Validation accuracy: 13.3%\n",
      "Minibatch loss at step 500: 22.485310\n",
      "Minibatch accuracy: 79.0%\n",
      "Validation accuracy: 79.5%\n",
      "Minibatch loss at step 1000: 13.349266\n",
      "Minibatch accuracy: 82.6%\n",
      "Validation accuracy: 81.4%\n",
      "Minibatch loss at step 1500: 10.241511\n",
      "Minibatch accuracy: 82.0%\n",
      "Validation accuracy: 80.5%\n",
      "Minibatch loss at step 2000: 9.217144\n",
      "Minibatch accuracy: 85.4%\n",
      "Validation accuracy: 82.3%\n",
      "Minibatch loss at step 2500: 6.348873\n",
      "Minibatch accuracy: 85.6%\n",
      "Validation accuracy: 83.0%\n",
      "Minibatch loss at step 3000: 5.506753\n",
      "Minibatch accuracy: 86.4%\n",
      "Validation accuracy: 83.0%\n",
      "Minibatch loss at step 3500: 8.929010\n",
      "Minibatch accuracy: 81.2%\n",
      "Validation accuracy: 83.0%\n",
      "Minibatch loss at step 4000: 6.466455\n",
      "Minibatch accuracy: 84.6%\n",
      "Validation accuracy: 83.9%\n",
      "Test accuracy: 90.0%\n"
     ]
    }
   ],
   "source": [
    "graph = tf.Graph()\n",
    "with graph.as_default():\n",
    "    # datasets\n",
    "    train_X = tf.placeholder(tf.float32, shape=(batch_size, image_size * image_size))\n",
    "    train_y = tf.placeholder(tf.float32, shape=(batch_size, num_labels))\n",
    "    valid_X = tf.constant(valid_dataset)\n",
    "    test_X = tf.constant(test_dataset)\n",
    "    print(train_X)\n",
    "\n",
    "    # --------Create the first layer (1024 hidden nodes)--------\n",
    "    W1 = tf.Variable(tf.truncated_normal([image_size * image_size, hidden_nodes]))\n",
    "    b1 = tf.Variable(tf.zeros([hidden_nodes]))\n",
    "    layer_1 = tf.nn.relu(tf.add(tf.matmul(train_X, W1), b1))\n",
    "    print(layer_1)\n",
    "\n",
    "    # --------Create second layer (10 hidden nodes)--------\n",
    "    W2 = tf.Variable(tf.truncated_normal([hidden_nodes, num_labels]))\n",
    "    b2 = tf.Variable(tf.zeros([num_labels]))\n",
    "    logits = tf.add(tf.matmul(layer_1, W2), b2)\n",
    "\n",
    "    # Minimize error using cross entropy\n",
    "    loss = tf.reduce_mean(\n",
    "        tf.nn.softmax_cross_entropy_with_logits(labels=train_y, logits=logits))\n",
    "\n",
    "    # Gradient Descent\n",
    "    optimizer = tf.train.GradientDescentOptimizer(lr).minimize(loss)\n",
    "\n",
    "    # Predictions for the training, validation, and test data.\n",
    "    pre_train_y = tf.nn.relu(tf.add(tf.matmul(train_X, W1), b1))\n",
    "    train_prediction = tf.nn.softmax(tf.add(tf.matmul(pre_train_y, W2), b2))\n",
    "\n",
    "    valid_y = tf.nn.relu(tf.add(tf.matmul(valid_X, W1), b1))\n",
    "    valid_prediction = tf.nn.softmax(tf.add(tf.matmul(valid_y, W2), b2))\n",
    "\n",
    "    test_y = tf.nn.relu(tf.add(tf.matmul(test_X, W1), b1))\n",
    "    test_prediction = tf.nn.softmax(tf.add(tf.matmul(test_y, W2), b2))\n",
    "\n",
    "with tf.Session(graph=graph) as session:\n",
    "    tf.global_variables_initializer().run()\n",
    "    print(\"Initialized\")\n",
    "    for step in range(num_steps):\n",
    "        rand_index = np.random.choice(len(train_dataset), size=batch_size, replace=False)\n",
    "        batch_data = np.array([train_dataset[i] for i in rand_index])\n",
    "        batch_labels = np.array([train_labels[i] for i in rand_index])\n",
    "        feed_dict = {train_X : batch_data, train_y : batch_labels}\n",
    "        _, l, predictions = session.run([optimizer, loss, train_prediction], \n",
    "                                        feed_dict=feed_dict)\n",
    "        if (step % 500 == 0):\n",
    "            print(\"Minibatch loss at step %d: %f\" % (step, l))\n",
    "            print(\"Minibatch accuracy: %.1f%%\" % accuracy(predictions, batch_labels))\n",
    "            print(\"Validation accuracy: %.1f%%\" % accuracy(valid_prediction.eval(), \n",
    "                                                           valid_labels))\n",
    "    print(\"Test accuracy: %.1f%%\" % accuracy(test_prediction.eval(), test_labels))"
   ]
  },
  {
   "cell_type": "markdown",
   "metadata": {},
   "source": [
    "- logistic + L2"
   ]
  },
  {
   "cell_type": "code",
   "execution_count": 9,
   "metadata": {},
   "outputs": [
    {
     "name": "stdout",
     "output_type": "stream",
     "text": [
      "Tensor(\"Placeholder:0\", shape=(500, 784), dtype=float32)\n",
      "Initialized\n",
      "Minibatch loss at step 0: 41538.011719\n",
      "Minibatch accuracy: 8.4%\n",
      "Validation accuracy: 8.0%\n",
      "Minibatch loss at step 500: 41476.851562\n",
      "Minibatch accuracy: 63.4%\n",
      "Validation accuracy: 66.5%\n",
      "Minibatch loss at step 1000: 41664.761719\n",
      "Minibatch accuracy: 69.6%\n",
      "Validation accuracy: 70.8%\n",
      "Minibatch loss at step 1500: 41655.105469\n",
      "Minibatch accuracy: 70.8%\n",
      "Validation accuracy: 72.4%\n",
      "Minibatch loss at step 2000: 41479.281250\n",
      "Minibatch accuracy: 74.8%\n",
      "Validation accuracy: 73.5%\n",
      "Minibatch loss at step 2500: 41050.328125\n",
      "Minibatch accuracy: 72.8%\n",
      "Validation accuracy: 74.1%\n",
      "Minibatch loss at step 3000: 41520.636719\n",
      "Minibatch accuracy: 73.2%\n",
      "Validation accuracy: 74.4%\n",
      "Minibatch loss at step 3500: 41421.093750\n",
      "Minibatch accuracy: 75.4%\n",
      "Validation accuracy: 74.7%\n",
      "Minibatch loss at step 4000: 41751.003906\n",
      "Minibatch accuracy: 76.6%\n",
      "Validation accuracy: 75.1%\n",
      "Test accuracy: 82.2%\n"
     ]
    }
   ],
   "source": [
    "graph = tf.Graph()\n",
    "with graph.as_default():\n",
    "    # datasets\n",
    "    train_X = tf.placeholder(tf.float32, shape=(batch_size, image_size * image_size))\n",
    "    train_y = tf.placeholder(tf.float32, shape=(batch_size, num_labels))\n",
    "    valid_X = tf.constant(valid_dataset)\n",
    "    test_X = tf.constant(test_dataset)\n",
    "    print(train_X)\n",
    "\n",
    "    # --------Create the first layer (1024 hidden nodes)--------\n",
    "    W1 = tf.Variable(tf.truncated_normal([image_size * image_size, num_labels]))\n",
    "    b1 = tf.Variable(tf.zeros([num_labels]))\n",
    "    logits = tf.add(tf.matmul(train_X, W1), b1)\n",
    "\n",
    "    # Minimize error using cross entropy\n",
    "    loss = tf.reduce_mean(\n",
    "        tf.nn.softmax_cross_entropy_with_logits(labels=train_y, logits=logits)) + tf.nn.l2_loss(train_X)\n",
    "\n",
    "    # Gradient Descent\n",
    "    optimizer = tf.train.GradientDescentOptimizer(lr).minimize(loss)\n",
    "\n",
    "    # Predictions for the training, validation, and test data.\n",
    "    train_prediction = tf.nn.softmax(tf.add(tf.matmul(train_X, W1), b1))\n",
    "\n",
    "    valid_prediction = tf.nn.softmax(tf.add(tf.matmul(valid_X, W1), b1))\n",
    "\n",
    "    test_prediction = tf.nn.softmax(tf.add(tf.matmul(test_X, W1), b1))\n",
    "\n",
    "with tf.Session(graph=graph) as session:\n",
    "    tf.global_variables_initializer().run()\n",
    "    print(\"Initialized\")\n",
    "    for step in range(num_steps):\n",
    "        rand_index = np.random.choice(len(train_dataset), size=batch_size, replace=False)\n",
    "        batch_data = np.array([train_dataset[i] for i in rand_index])\n",
    "        batch_labels = np.array([train_labels[i] for i in rand_index])\n",
    "        feed_dict = {train_X : batch_data, train_y : batch_labels}\n",
    "        _, l, predictions = session.run([optimizer, loss, train_prediction], \n",
    "                                        feed_dict=feed_dict)\n",
    "        if (step % 500 == 0):\n",
    "            print(\"Minibatch loss at step %d: %f\" % (step, l))\n",
    "            print(\"Minibatch accuracy: %.1f%%\" % accuracy(predictions, batch_labels))\n",
    "            print(\"Validation accuracy: %.1f%%\" % accuracy(valid_prediction.eval(), \n",
    "                                                           valid_labels))\n",
    "    print(\"Test accuracy: %.1f%%\" % accuracy(test_prediction.eval(), test_labels))"
   ]
  },
  {
   "cell_type": "markdown",
   "metadata": {},
   "source": [
    "- neural network + L2"
   ]
  },
  {
   "cell_type": "code",
   "execution_count": 10,
   "metadata": {},
   "outputs": [
    {
     "name": "stdout",
     "output_type": "stream",
     "text": [
      "Tensor(\"Placeholder:0\", shape=(500, 784), dtype=float32)\n",
      "Tensor(\"Relu:0\", shape=(500, 1024), dtype=float32)\n",
      "Initialized\n",
      "Minibatch loss at step 0: 41641.222656\n",
      "Minibatch accuracy: 10.0%\n",
      "Validation accuracy: 17.5%\n",
      "Minibatch loss at step 500: 41628.589844\n",
      "Minibatch accuracy: 78.6%\n",
      "Validation accuracy: 79.3%\n",
      "Minibatch loss at step 1000: 41419.511719\n",
      "Minibatch accuracy: 81.6%\n",
      "Validation accuracy: 81.3%\n",
      "Minibatch loss at step 1500: 41164.906250\n",
      "Minibatch accuracy: 80.6%\n",
      "Validation accuracy: 81.8%\n",
      "Minibatch loss at step 2000: 41691.425781\n",
      "Minibatch accuracy: 82.6%\n",
      "Validation accuracy: 81.8%\n",
      "Minibatch loss at step 2500: 41631.378906\n",
      "Minibatch accuracy: 81.8%\n",
      "Validation accuracy: 82.4%\n",
      "Minibatch loss at step 3000: 41711.976562\n",
      "Minibatch accuracy: 84.8%\n",
      "Validation accuracy: 82.4%\n",
      "Minibatch loss at step 3500: 41594.339844\n",
      "Minibatch accuracy: 85.0%\n",
      "Validation accuracy: 82.9%\n",
      "Minibatch loss at step 4000: 41822.398438\n",
      "Minibatch accuracy: 88.0%\n",
      "Validation accuracy: 83.5%\n",
      "Test accuracy: 89.7%\n"
     ]
    }
   ],
   "source": [
    "graph = tf.Graph()\n",
    "with graph.as_default():\n",
    "    # datasets\n",
    "    train_X = tf.placeholder(tf.float32, shape=(batch_size, image_size * image_size))\n",
    "    train_y = tf.placeholder(tf.float32, shape=(batch_size, num_labels))\n",
    "    valid_X = tf.constant(valid_dataset)\n",
    "    test_X = tf.constant(test_dataset)\n",
    "    print(train_X)\n",
    "\n",
    "    # --------Create the first layer (1024 hidden nodes)--------\n",
    "    W1 = tf.Variable(tf.truncated_normal([image_size * image_size, hidden_nodes]))\n",
    "    b1 = tf.Variable(tf.zeros([hidden_nodes]))\n",
    "    layer_1 = tf.nn.relu(tf.add(tf.matmul(train_X, W1), b1))\n",
    "    print(layer_1)\n",
    "\n",
    "    # --------Create second layer (10 hidden nodes)--------\n",
    "    W2 = tf.Variable(tf.truncated_normal([hidden_nodes, num_labels]))\n",
    "    b2 = tf.Variable(tf.zeros([num_labels]))\n",
    "    logits = tf.add(tf.matmul(layer_1, W2), b2)\n",
    "\n",
    "    # Minimize error using cross entropy\n",
    "    loss = tf.reduce_mean(\n",
    "        tf.nn.softmax_cross_entropy_with_logits(labels=train_y, logits=logits))  + tf.nn.l2_loss(train_X)\n",
    "\n",
    "    # Gradient Descent\n",
    "    optimizer = tf.train.GradientDescentOptimizer(lr).minimize(loss)\n",
    "\n",
    "    # Predictions for the training, validation, and test data.\n",
    "    pre_train_y = tf.nn.relu(tf.add(tf.matmul(train_X, W1), b1))\n",
    "    train_prediction = tf.nn.softmax(tf.add(tf.matmul(pre_train_y, W2), b2))\n",
    "\n",
    "    valid_y = tf.nn.relu(tf.add(tf.matmul(valid_X, W1), b1))\n",
    "    valid_prediction = tf.nn.softmax(tf.add(tf.matmul(valid_y, W2), b2))\n",
    "\n",
    "    test_y = tf.nn.relu(tf.add(tf.matmul(test_X, W1), b1))\n",
    "    test_prediction = tf.nn.softmax(tf.add(tf.matmul(test_y, W2), b2))\n",
    "\n",
    "with tf.Session(graph=graph) as session:\n",
    "    tf.global_variables_initializer().run()\n",
    "    print(\"Initialized\")\n",
    "    for step in range(num_steps):\n",
    "        rand_index = np.random.choice(len(train_dataset), size=batch_size, replace=False)\n",
    "        batch_data = np.array([train_dataset[i] for i in rand_index])\n",
    "        batch_labels = np.array([train_labels[i] for i in rand_index])\n",
    "        feed_dict = {train_X : batch_data, train_y : batch_labels}\n",
    "        _, l, predictions = session.run([optimizer, loss, train_prediction], \n",
    "                                        feed_dict=feed_dict)\n",
    "        if (step % 500 == 0):\n",
    "            print(\"Minibatch loss at step %d: %f\" % (step, l))\n",
    "            print(\"Minibatch accuracy: %.1f%%\" % accuracy(predictions, batch_labels))\n",
    "            print(\"Validation accuracy: %.1f%%\" % accuracy(valid_prediction.eval(), \n",
    "                                                           valid_labels))\n",
    "    print(\"Test accuracy: %.1f%%\" % accuracy(test_prediction.eval(), test_labels))"
   ]
  },
  {
   "cell_type": "markdown",
   "metadata": {
    "colab_type": "text",
    "id": "na8xX2yHZzNF"
   },
   "source": [
    "---\n",
    "Problem 2\n",
    "---------\n",
    "Let's demonstrate an extreme case of overfitting. Restrict your training data to just a few batches. What happens?\n",
    "\n",
    "---"
   ]
  },
  {
   "cell_type": "code",
   "execution_count": 11,
   "metadata": {},
   "outputs": [
    {
     "name": "stdout",
     "output_type": "stream",
     "text": [
      "Tensor(\"Placeholder:0\", shape=(500, 784), dtype=float32)\n",
      "Tensor(\"Relu:0\", shape=(500, 1024), dtype=float32)\n",
      "Initialized\n",
      "Minibatch loss at step 0: 289.822540\n",
      "Minibatch accuracy: 15.2%\n",
      "Validation accuracy: 25.1%\n",
      "Minibatch loss at step 500: 0.356599\n",
      "Minibatch accuracy: 97.4%\n",
      "Validation accuracy: 74.2%\n",
      "Minibatch loss at step 1000: 0.001074\n",
      "Minibatch accuracy: 100.0%\n",
      "Validation accuracy: 72.7%\n",
      "Minibatch loss at step 1500: 0.000007\n",
      "Minibatch accuracy: 100.0%\n",
      "Validation accuracy: 74.0%\n",
      "Minibatch loss at step 2000: 0.000016\n",
      "Minibatch accuracy: 100.0%\n",
      "Validation accuracy: 72.8%\n",
      "Minibatch loss at step 2500: 0.000013\n",
      "Minibatch accuracy: 100.0%\n",
      "Validation accuracy: 72.8%\n",
      "Minibatch loss at step 3000: 0.000010\n",
      "Minibatch accuracy: 100.0%\n",
      "Validation accuracy: 74.0%\n",
      "Minibatch loss at step 3500: 0.000005\n",
      "Minibatch accuracy: 100.0%\n",
      "Validation accuracy: 74.0%\n",
      "Minibatch loss at step 4000: 0.000018\n",
      "Minibatch accuracy: 100.0%\n",
      "Validation accuracy: 74.0%\n",
      "Test accuracy: 81.5%\n"
     ]
    }
   ],
   "source": [
    "graph = tf.Graph()\n",
    "with graph.as_default():\n",
    "    # datasets\n",
    "    train_X = tf.placeholder(tf.float32, shape=(batch_size, image_size * image_size))\n",
    "    train_y = tf.placeholder(tf.float32, shape=(batch_size, num_labels))\n",
    "    valid_X = tf.constant(valid_dataset)\n",
    "    test_X = tf.constant(test_dataset)\n",
    "    print(train_X)\n",
    "\n",
    "    # --------Create the first layer (1024 hidden nodes)--------\n",
    "    W1 = tf.Variable(tf.truncated_normal([image_size * image_size, hidden_nodes]))\n",
    "    b1 = tf.Variable(tf.zeros([hidden_nodes]))\n",
    "    layer_1 = tf.nn.relu(tf.add(tf.matmul(train_X, W1), b1))\n",
    "    print(layer_1)\n",
    "\n",
    "    # --------Create second layer (10 hidden nodes)--------\n",
    "    W2 = tf.Variable(tf.truncated_normal([hidden_nodes, num_labels]))\n",
    "    b2 = tf.Variable(tf.zeros([num_labels]))\n",
    "    logits = tf.add(tf.matmul(layer_1, W2), b2)\n",
    "\n",
    "    # Minimize error using cross entropy\n",
    "    loss = tf.reduce_mean(\n",
    "        tf.nn.softmax_cross_entropy_with_logits(labels=train_y, logits=logits))\n",
    "\n",
    "    # Gradient Descent\n",
    "    optimizer = tf.train.GradientDescentOptimizer(lr).minimize(loss)\n",
    "\n",
    "    # Predictions for the training, validation, and test data.\n",
    "    pre_train_y = tf.nn.relu(tf.add(tf.matmul(train_X, W1), b1))\n",
    "    train_prediction = tf.nn.softmax(tf.add(tf.matmul(pre_train_y, W2), b2))\n",
    "\n",
    "    valid_y = tf.nn.relu(tf.add(tf.matmul(valid_X, W1), b1))\n",
    "    valid_prediction = tf.nn.softmax(tf.add(tf.matmul(valid_y, W2), b2))\n",
    "\n",
    "    test_y = tf.nn.relu(tf.add(tf.matmul(test_X, W1), b1))\n",
    "    test_prediction = tf.nn.softmax(tf.add(tf.matmul(test_y, W2), b2))\n",
    "\n",
    "with tf.Session(graph=graph) as session:\n",
    "    tf.global_variables_initializer().run()\n",
    "    print(\"Initialized\")\n",
    "    train_candidates_x = []\n",
    "    train_candidates_y = []\n",
    "    for _ in range(10):\n",
    "        rand_index = np.random.choice(len(train_dataset), size=batch_size, replace=False)\n",
    "        data_x = np.array([train_dataset[i] for i in rand_index])\n",
    "        labels_y = np.array([train_labels[i] for i in rand_index])\n",
    "        train_candidates_x.append(data_x)\n",
    "        train_candidates_y.append(labels_y)\n",
    "        \n",
    "    for step in range(num_steps):\n",
    "        rand_index = np.random.choice(len(train_candidates_x))\n",
    "        batch_data = train_candidates_x[rand_index]\n",
    "        batch_labels = train_candidates_y[rand_index]\n",
    "        feed_dict = {train_X : batch_data, train_y : batch_labels}\n",
    "        _, l, predictions = session.run([optimizer, loss, train_prediction], \n",
    "                                        feed_dict=feed_dict)\n",
    "        if (step % 500 == 0):\n",
    "            print(\"Minibatch loss at step %d: %f\" % (step, l))\n",
    "            print(\"Minibatch accuracy: %.1f%%\" % accuracy(predictions, batch_labels))\n",
    "            print(\"Validation accuracy: %.1f%%\" % accuracy(valid_prediction.eval(), \n",
    "                                                           valid_labels))\n",
    "    print(\"Test accuracy: %.1f%%\" % accuracy(test_prediction.eval(), test_labels))"
   ]
  },
  {
   "cell_type": "markdown",
   "metadata": {},
   "source": [
    "- 在训练集上达到100%"
   ]
  },
  {
   "cell_type": "markdown",
   "metadata": {
    "colab_type": "text",
    "id": "ww3SCBUdlkRc"
   },
   "source": [
    "---\n",
    "Problem 3\n",
    "---------\n",
    "Introduce Dropout on the hidden layer of the neural network. Remember: Dropout should only be introduced during training, not evaluation, otherwise your evaluation results would be stochastic as well. TensorFlow provides `nn.dropout()` for that, but you have to make sure it's only inserted during training.\n",
    "\n",
    "What happens to our extreme overfitting case?\n",
    "\n",
    "---"
   ]
  },
  {
   "cell_type": "code",
   "execution_count": 15,
   "metadata": {},
   "outputs": [],
   "source": [
    "train_candidates_x = []\n",
    "train_candidates_y = []\n",
    "for _ in range(10):\n",
    "    rand_index = np.random.choice(len(train_dataset), size=batch_size, replace=False)\n",
    "    data_x = np.array([train_dataset[i] for i in rand_index])\n",
    "    labels_y = np.array([train_labels[i] for i in rand_index])\n",
    "    train_candidates_x.append(data_x)\n",
    "    train_candidates_y.append(labels_y)"
   ]
  },
  {
   "cell_type": "code",
   "execution_count": 16,
   "metadata": {},
   "outputs": [
    {
     "name": "stdout",
     "output_type": "stream",
     "text": [
      "Initialized\n",
      "Minibatch loss at step 0: 329.910889\n",
      "Minibatch accuracy: 8.8%\n",
      "Validation accuracy: 16.2%\n",
      "Minibatch loss at step 500: 2.256983\n",
      "Minibatch accuracy: 92.4%\n",
      "Validation accuracy: 73.8%\n",
      "Minibatch loss at step 1000: 0.016398\n",
      "Minibatch accuracy: 99.8%\n",
      "Validation accuracy: 73.5%\n",
      "Minibatch loss at step 1500: 0.000024\n",
      "Minibatch accuracy: 100.0%\n",
      "Validation accuracy: 73.7%\n",
      "Minibatch loss at step 2000: 0.000054\n",
      "Minibatch accuracy: 100.0%\n",
      "Validation accuracy: 73.7%\n",
      "Minibatch loss at step 2500: 0.000016\n",
      "Minibatch accuracy: 100.0%\n",
      "Validation accuracy: 73.7%\n",
      "Minibatch loss at step 3000: 0.009983\n",
      "Minibatch accuracy: 99.8%\n",
      "Validation accuracy: 73.7%\n",
      "Minibatch loss at step 3500: 0.000013\n",
      "Minibatch accuracy: 100.0%\n",
      "Validation accuracy: 73.7%\n",
      "Minibatch loss at step 4000: 0.000019\n",
      "Minibatch accuracy: 100.0%\n",
      "Validation accuracy: 73.7%\n",
      "Test accuracy: 81.0%\n"
     ]
    }
   ],
   "source": [
    "keep_prob = 1\n",
    "\n",
    "graph = tf.Graph()\n",
    "with graph.as_default():\n",
    "    # datasets\n",
    "    train_X = tf.placeholder(tf.float32, shape=(batch_size, image_size * image_size))\n",
    "    train_y = tf.placeholder(tf.float32, shape=(batch_size, num_labels))\n",
    "    valid_X = tf.constant(valid_dataset)\n",
    "    test_X = tf.constant(test_dataset)\n",
    "\n",
    "    # --------Create the first layer (1024 hidden nodes)--------\n",
    "    W1 = tf.Variable(tf.truncated_normal([image_size * image_size, hidden_nodes]))\n",
    "    b1 = tf.Variable(tf.zeros([hidden_nodes]))\n",
    "    layer_1 = tf.nn.relu(tf.add(tf.matmul(train_X, W1), b1))\n",
    "    layer_1 = tf.nn.dropout(layer_1, keep_prob)\n",
    "\n",
    "    # --------Create second layer (10 hidden nodes)--------\n",
    "    W2 = tf.Variable(tf.truncated_normal([hidden_nodes, num_labels]))\n",
    "    b2 = tf.Variable(tf.zeros([num_labels]))\n",
    "    logits = tf.add(tf.matmul(layer_1, W2), b2)\n",
    "    logits = tf.nn.dropout(logits, keep_prob)\n",
    "\n",
    "    # Minimize error using cross entropy\n",
    "    loss = tf.reduce_mean(\n",
    "        tf.nn.softmax_cross_entropy_with_logits(labels=train_y, logits=logits))\n",
    "\n",
    "    # Gradient Descent\n",
    "    optimizer = tf.train.GradientDescentOptimizer(lr).minimize(loss)\n",
    "\n",
    "    # Predictions for the training, validation, and test data.\n",
    "    pre_train_y = tf.nn.relu(tf.add(tf.matmul(train_X, W1), b1))\n",
    "    train_prediction = tf.nn.softmax(tf.add(tf.matmul(pre_train_y, W2), b2))\n",
    "\n",
    "    valid_y = tf.nn.relu(tf.add(tf.matmul(valid_X, W1), b1))\n",
    "    valid_prediction = tf.nn.softmax(tf.add(tf.matmul(valid_y, W2), b2))\n",
    "\n",
    "    test_y = tf.nn.relu(tf.add(tf.matmul(test_X, W1), b1))\n",
    "    test_prediction = tf.nn.softmax(tf.add(tf.matmul(test_y, W2), b2))\n",
    "\n",
    "with tf.Session(graph=graph) as session:\n",
    "    tf.global_variables_initializer().run()\n",
    "    print(\"Initialized\")\n",
    "    for step in range(num_steps):\n",
    "        rand_index = np.random.choice(len(train_candidates_x))\n",
    "        batch_data = train_candidates_x[rand_index]\n",
    "        batch_labels = train_candidates_y[rand_index]\n",
    "        feed_dict = {train_X : batch_data, train_y : batch_labels}\n",
    "        _, l, predictions = session.run([optimizer, loss, train_prediction], \n",
    "                                        feed_dict=feed_dict)\n",
    "        if (step % 500 == 0):\n",
    "            print(\"Minibatch loss at step %d: %f\" % (step, l))\n",
    "            print(\"Minibatch accuracy: %.1f%%\" % accuracy(predictions, batch_labels))\n",
    "            print(\"Validation accuracy: %.1f%%\" % accuracy(valid_prediction.eval(), \n",
    "                                                           valid_labels))\n",
    "    print(\"Test accuracy: %.1f%%\" % accuracy(test_prediction.eval(), test_labels))"
   ]
  },
  {
   "cell_type": "code",
   "execution_count": 17,
   "metadata": {},
   "outputs": [
    {
     "name": "stdout",
     "output_type": "stream",
     "text": [
      "Initialized\n",
      "Minibatch loss at step 0: 766.628418\n",
      "Minibatch accuracy: 9.0%\n",
      "Validation accuracy: 20.8%\n",
      "Minibatch loss at step 500: 31.851259\n",
      "Minibatch accuracy: 88.6%\n",
      "Validation accuracy: 82.3%\n",
      "Minibatch loss at step 1000: 21.726175\n",
      "Minibatch accuracy: 97.0%\n",
      "Validation accuracy: 82.7%\n",
      "Minibatch loss at step 1500: 11.055876\n",
      "Minibatch accuracy: 99.2%\n",
      "Validation accuracy: 82.8%\n",
      "Minibatch loss at step 2000: 5.968597\n",
      "Minibatch accuracy: 98.8%\n",
      "Validation accuracy: 82.7%\n",
      "Minibatch loss at step 2500: 4.931558\n",
      "Minibatch accuracy: 99.0%\n",
      "Validation accuracy: 83.0%\n",
      "Minibatch loss at step 3000: 7.255889\n",
      "Minibatch accuracy: 98.8%\n",
      "Validation accuracy: 83.1%\n",
      "Minibatch loss at step 3500: 4.007806\n",
      "Minibatch accuracy: 99.6%\n",
      "Validation accuracy: 83.2%\n",
      "Minibatch loss at step 4000: 3.499869\n",
      "Minibatch accuracy: 99.8%\n",
      "Validation accuracy: 83.1%\n",
      "Test accuracy: 89.7%\n"
     ]
    }
   ],
   "source": [
    "keep_prob = 0.5\n",
    "\n",
    "graph = tf.Graph()\n",
    "with graph.as_default():\n",
    "    # datasets\n",
    "    train_X = tf.placeholder(tf.float32, shape=(batch_size, image_size * image_size))\n",
    "    train_y = tf.placeholder(tf.float32, shape=(batch_size, num_labels))\n",
    "    valid_X = tf.constant(valid_dataset)\n",
    "    test_X = tf.constant(test_dataset)\n",
    "\n",
    "    # --------Create the first layer (1024 hidden nodes)--------\n",
    "    W1 = tf.Variable(tf.truncated_normal([image_size * image_size, hidden_nodes]))\n",
    "    b1 = tf.Variable(tf.zeros([hidden_nodes]))\n",
    "    layer_1 = tf.nn.relu(tf.add(tf.matmul(train_X, W1), b1))\n",
    "    layer_1 = tf.nn.dropout(layer_1, keep_prob)\n",
    "\n",
    "    # --------Create second layer (10 hidden nodes)--------\n",
    "    W2 = tf.Variable(tf.truncated_normal([hidden_nodes, num_labels]))\n",
    "    b2 = tf.Variable(tf.zeros([num_labels]))\n",
    "    logits = tf.add(tf.matmul(layer_1, W2), b2)\n",
    "    logits = tf.nn.dropout(logits, keep_prob)\n",
    "\n",
    "    # Minimize error using cross entropy\n",
    "    loss = tf.reduce_mean(\n",
    "        tf.nn.softmax_cross_entropy_with_logits(labels=train_y, logits=logits))\n",
    "\n",
    "    # Gradient Descent\n",
    "    optimizer = tf.train.GradientDescentOptimizer(lr).minimize(loss)\n",
    "\n",
    "    # Predictions for the training, validation, and test data.\n",
    "    pre_train_y = tf.nn.relu(tf.add(tf.matmul(train_X, W1), b1))\n",
    "    train_prediction = tf.nn.softmax(tf.add(tf.matmul(pre_train_y, W2), b2))\n",
    "\n",
    "    valid_y = tf.nn.relu(tf.add(tf.matmul(valid_X, W1), b1))\n",
    "    valid_prediction = tf.nn.softmax(tf.add(tf.matmul(valid_y, W2), b2))\n",
    "\n",
    "    test_y = tf.nn.relu(tf.add(tf.matmul(test_X, W1), b1))\n",
    "    test_prediction = tf.nn.softmax(tf.add(tf.matmul(test_y, W2), b2))\n",
    "\n",
    "with tf.Session(graph=graph) as session:\n",
    "    tf.global_variables_initializer().run()\n",
    "    print(\"Initialized\")\n",
    "    for step in range(num_steps):\n",
    "        rand_index = np.random.choice(len(train_candidates_x))\n",
    "        batch_data = train_candidates_x[rand_index]\n",
    "        batch_labels = train_candidates_y[rand_index]\n",
    "        feed_dict = {train_X : batch_data, train_y : batch_labels}\n",
    "        _, l, predictions = session.run([optimizer, loss, train_prediction], \n",
    "                                        feed_dict=feed_dict)\n",
    "        if (step % 500 == 0):\n",
    "            print(\"Minibatch loss at step %d: %f\" % (step, l))\n",
    "            print(\"Minibatch accuracy: %.1f%%\" % accuracy(predictions, batch_labels))\n",
    "            print(\"Validation accuracy: %.1f%%\" % accuracy(valid_prediction.eval(), \n",
    "                                                           valid_labels))\n",
    "    print(\"Test accuracy: %.1f%%\" % accuracy(test_prediction.eval(), test_labels))"
   ]
  },
  {
   "cell_type": "markdown",
   "metadata": {
    "colab_type": "text",
    "id": "-b1hTz3VWZjw"
   },
   "source": [
    "---\n",
    "Problem 4\n",
    "---------\n",
    "\n",
    "Try to get the best performance you can using a multi-layer model! The best reported test accuracy using a deep network is [97.1%](http://yaroslavvb.blogspot.com/2011/09/notmnist-dataset.html?showComment=1391023266211#c8758720086795711595).\n",
    "\n",
    "One avenue you can explore is to add multiple layers.\n",
    "\n",
    "Another one is to use learning rate decay:\n",
    "\n",
    "    global_step = tf.Variable(0)  # count the number of steps taken.\n",
    "    learning_rate = tf.train.exponential_decay(0.5, global_step, ...)\n",
    "    optimizer = tf.train.GradientDescentOptimizer(learning_rate).minimize(loss, global_step=global_step)\n",
    " \n",
    " ---\n"
   ]
  },
  {
   "cell_type": "code",
   "execution_count": 37,
   "metadata": {},
   "outputs": [
    {
     "name": "stdout",
     "output_type": "stream",
     "text": [
      "Initialized\n",
      "0\n",
      "Minibatch loss at step 0: 6223.936523\n",
      "Minibatch accuracy: 12.7%\n",
      "Validation accuracy: 24.9%\n",
      "108261\n",
      "Minibatch loss at step 500: 114.137344\n",
      "Minibatch accuracy: 83.7%\n",
      "Validation accuracy: 79.8%\n",
      "24783\n",
      "Minibatch loss at step 1000: 72.170883\n",
      "Minibatch accuracy: 84.3%\n",
      "Validation accuracy: 82.3%\n",
      "133044\n",
      "Minibatch loss at step 1500: 56.974155\n",
      "Minibatch accuracy: 85.0%\n",
      "Validation accuracy: 82.7%\n",
      "49566\n",
      "Minibatch loss at step 2000: 37.122707\n",
      "Minibatch accuracy: 88.3%\n",
      "Validation accuracy: 83.1%\n",
      "Test accuracy: 89.1%\n"
     ]
    }
   ],
   "source": [
    "keep_prob = 0.5\n",
    "hidden_layer_2 = 1500\n",
    "lr = 0.01\n",
    "batch_size =600\n",
    "hidden_nodes = 500\n",
    "num_steps = 2001\n",
    "\n",
    "graph = tf.Graph()\n",
    "with graph.as_default():\n",
    "    # datasets\n",
    "    train_X = tf.placeholder(tf.float32, shape=(batch_size, image_size * image_size))\n",
    "    train_y = tf.placeholder(tf.float32, shape=(batch_size, num_labels))\n",
    "    valid_X = tf.constant(valid_dataset)\n",
    "    test_X = tf.constant(test_dataset)\n",
    "\n",
    "    # --------Create the first layer (1024 hidden nodes)--------\n",
    "    W1 = tf.Variable(tf.truncated_normal([image_size * image_size, hidden_nodes]))\n",
    "    b1 = tf.Variable(tf.zeros([hidden_nodes]))\n",
    "    layer_1 = tf.nn.relu(tf.add(tf.matmul(train_X, W1), b1))\n",
    "#     layer_1 = tf.nn.dropout(layer_1, keep_prob)\n",
    "\n",
    "    # --------Create second layer (300 hidden nodes)--------\n",
    "    W2 = tf.Variable(tf.truncated_normal([hidden_nodes, hidden_layer_2]))\n",
    "    b2 = tf.Variable(tf.zeros([hidden_layer_2]))\n",
    "    layer_2 = tf.nn.relu(tf.add(tf.matmul(layer_1, W2), b2))\n",
    "#     layer_2 = tf.nn.dropout(layer_2, keep_prob)\n",
    "    \n",
    "    # --------Create last layer (10 nodes)--------\n",
    "    W3 = tf.Variable(tf.truncated_normal([hidden_layer_2, num_labels]))\n",
    "    b3 = tf.Variable(tf.zeros([num_labels]))\n",
    "    logits = tf.add(tf.matmul(layer_2, W3), b3)\n",
    "#     logits = tf.nn.dropout(logits, keep_prob)\n",
    "\n",
    "    # Minimize error using cross entropy\n",
    "    loss = tf.reduce_mean(\n",
    "        tf.nn.softmax_cross_entropy_with_logits(labels=train_y, logits=logits))\n",
    "\n",
    "    # Gradient Descent\n",
    "    optimizer = tf.train.GradientDescentOptimizer(lr).minimize(loss)\n",
    "\n",
    "    # Predictions for the training, validation, and test data.\n",
    "    pre_train_1 = tf.nn.relu(tf.add(tf.matmul(train_X, W1), b1))\n",
    "    pre_train_2 = tf.nn.relu(tf.add(tf.matmul(pre_train_1, W2), b2))\n",
    "    train_prediction = tf.nn.softmax(tf.add(tf.matmul(pre_train_2, W3), b3))\n",
    "\n",
    "    valid_y_1 = tf.nn.relu(tf.add(tf.matmul(valid_X, W1), b1))\n",
    "    valid_y_2 = tf.nn.relu(tf.add(tf.matmul(valid_y_1, W2), b2))\n",
    "    valid_prediction = tf.nn.softmax(tf.add(tf.matmul(valid_y_2, W3), b3))\n",
    "\n",
    "    test_y_1 = tf.nn.relu(tf.add(tf.matmul(test_X, W1), b1))\n",
    "    test_y_2 = tf.nn.relu(tf.add(tf.matmul(test_y_1, W2), b2))\n",
    "    test_prediction = tf.nn.softmax(tf.add(tf.matmul(test_y_2, W3), b3))\n",
    "\n",
    "\n",
    "with tf.Session(graph=graph) as session:\n",
    "    tf.global_variables_initializer().run()\n",
    "    print(\"Initialized\")\n",
    "    for step in range(num_steps):\n",
    "        offset = (step * batch_size) % (train_labels.shape[0] - batch_size)\n",
    "        # Generate a minibatch.\n",
    "        batch_data = train_dataset[offset:(offset + batch_size), :]\n",
    "        batch_labels = train_labels[offset:(offset + batch_size), :]\n",
    "        feed_dict = {train_X : batch_data, train_y : batch_labels}\n",
    "        _, l, predictions = session.run([optimizer, loss, train_prediction], \n",
    "                                        feed_dict=feed_dict)\n",
    "        if (step % 500 == 0):\n",
    "            print(offset)\n",
    "            print(\"Minibatch loss at step %d: %f\" % (step, l))\n",
    "            print(\"Minibatch accuracy: %.1f%%\" % accuracy(predictions, batch_labels))\n",
    "            print(\"Validation accuracy: %.1f%%\" % accuracy(valid_prediction.eval(), \n",
    "                                                           valid_labels))\n",
    "    print(\"Test accuracy: %.1f%%\" % accuracy(test_prediction.eval(), test_labels))\n",
    "    "
   ]
  },
  {
   "cell_type": "code",
   "execution_count": null,
   "metadata": {},
   "outputs": [],
   "source": []
  }
 ],
 "metadata": {
  "colab": {
   "default_view": {},
   "name": "3_regularization.ipynb",
   "provenance": [],
   "toc_visible": true,
   "version": "0.3.2",
   "views": {}
  },
  "kernelspec": {
   "display_name": "Python 3",
   "language": "python",
   "name": "python3"
  },
  "language_info": {
   "codemirror_mode": {
    "name": "ipython",
    "version": 3
   },
   "file_extension": ".py",
   "mimetype": "text/x-python",
   "name": "python",
   "nbconvert_exporter": "python",
   "pygments_lexer": "ipython3",
   "version": "3.6.5"
  }
 },
 "nbformat": 4,
 "nbformat_minor": 1
}
